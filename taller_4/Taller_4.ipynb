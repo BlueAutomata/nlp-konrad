{
  "cells": [
    {
      "cell_type": "markdown",
      "metadata": {
        "id": "0PYkUjyGexzN"
      },
      "source": [
        "# Taller 4"
      ]
    },
    {
      "cell_type": "markdown",
      "metadata": {
        "id": "peJKq7VQeZpl"
      },
      "source": [
        "Autor: Guillermo Luigui Ubaldo Nieto Angarita\n",
        "\n",
        "Rol: Estudiante en Maestría en Analítica Estrategica de Datos"
      ]
    },
    {
      "cell_type": "markdown",
      "metadata": {},
      "source": [
        "Instrucciones: \n",
        "- Vectorizar con TF-IDF, Glove, Word2Vec\n",
        "- Implementar técnicas de Ngrams\n",
        "- Calcular la distancia del Coseno con los 3 vectorizaciones \n",
        "- representar mediante Mapa de calor los resultados de los distancia del Coseno\n",
        "- Calcular y representar el Top Modeling Mediante LDA."
      ]
    },
    {
      "cell_type": "markdown",
      "metadata": {
        "id": "Rem7TYwfe2kU"
      },
      "source": [
        "## 1. Limpieza del texto"
      ]
    },
    {
      "cell_type": "markdown",
      "metadata": {
        "id": "_ieunx--e7y7"
      },
      "source": [
        "### 1.1 Cargar librerías"
      ]
    },
    {
      "cell_type": "code",
      "execution_count": 78,
      "metadata": {
        "id": "j9QHXLmMeUCd"
      },
      "outputs": [],
      "source": [
        "import pdfplumber  # Para extraer texto de PDFs\n",
        "import re  # Para trabajar con expresiones regulares\n",
        "import spacy  # Para procesamiento de lenguaje natural (NLP)\n",
        "import unicodedata  # Para normalizar caracteres Unicode\n",
        "import stanza\n",
        "import nltk\n",
        "import fitz  # PyMuPDF\n",
        "import docx2txt\n",
        "import requests\n",
        "import os\n",
        "import gzip\n",
        "import numpy as np\n",
        "\n",
        "from transformers import AutoTokenizer\n",
        "from nltk.corpus import stopwords\n",
        "from docx import Document\n",
        "from nltk.stem import SnowballStemmer\n",
        "from flair.data import Sentence\n",
        "from flair.models import SequenceTagger\n",
        "from sklearn.feature_extraction.text import TfidfVectorizer\n",
        "from tqdm.notebook import tqdm\n",
        "from gensim.models import Word2Vec\n",
        "from flair.models import Lemmatizer\n",
        "from huggingface_hub import login"
      ]
    },
    {
      "cell_type": "code",
      "execution_count": 79,
      "metadata": {},
      "outputs": [],
      "source": [
        "# Introduce tu token aquí\n",
        "token = os.getenv(\"FLAIR_TOKEN\")\n",
        "\n",
        "login(token=token)"
      ]
    },
    {
      "cell_type": "markdown",
      "metadata": {
        "id": "B2CI1Qb2fMWE"
      },
      "source": [
        "### 1.2 Descargar los tokenizadores"
      ]
    },
    {
      "cell_type": "code",
      "execution_count": 63,
      "metadata": {
        "colab": {
          "base_uri": "https://localhost:8080/",
          "height": 241,
          "referenced_widgets": [
            "ec662d2109d14379a23f5dafb23da6f7",
            "3755dc5575654854a95c61a5eece3568",
            "237b9ddd459a4c1aa54ed5d238f06151",
            "bc0f9c3ad0f74a5d8d1625063a538283",
            "aaa85327ba1e42799deb04124f8ad18b",
            "24060a7dbccf4f69a3cf9440d0481a17",
            "ca01a2405ae34649a01de0289a8aab99",
            "a77634183333439295cfddb548b9314e",
            "17843ba97a9944e6b4a0c2b2ac58ab3e",
            "e02cd41b4c8e4505b4f91925efc0540c",
            "c6027d8199514c62ace814fd9f103ab9",
            "77fbd86169314e00a4ea043d5e44ae52",
            "1e845f15cd014d699f8946fcacda231d",
            "67ca0c17292b44ab993a81cb9ea99952",
            "726fc60397354714b5686f18ed59295f",
            "9577d749f5b44d72868312215df79903",
            "f1fbd6a1f6144c7ab710b013a60b8885",
            "8c17d7dda4bf49f1acde1c9276cfbfbe",
            "aea78e0138014370ad60ee68cbdd3f65",
            "5b881969ac604028a2d07f859c8ac2e3",
            "98d66420dc844b118ac5907b8ee64be8",
            "02025d4aee4747e1a5af1fca368d023f"
          ]
        },
        "id": "8pPKRaDwfPxd",
        "outputId": "0f2a3f97-e8d0-4af5-e089-1346cffe5609"
      },
      "outputs": [
        {
          "name": "stderr",
          "output_type": "stream",
          "text": [
            "[nltk_data] Downloading package punkt to\n",
            "[nltk_data]     C:\\Users\\guill\\AppData\\Roaming\\nltk_data...\n",
            "[nltk_data]   Package punkt is already up-to-date!\n"
          ]
        },
        {
          "data": {
            "application/vnd.jupyter.widget-view+json": {
              "model_id": "1e54a98e2d4043b683338a5560ea4efd",
              "version_major": 2,
              "version_minor": 0
            },
            "text/plain": [
              "Downloading https://raw.githubusercontent.com/stanfordnlp/stanza-resources/main/resources_1.10.0.json:   0%|  …"
            ]
          },
          "metadata": {},
          "output_type": "display_data"
        },
        {
          "name": "stderr",
          "output_type": "stream",
          "text": [
            "2025-09-11 00:38:02 INFO: Downloaded file to C:\\Users\\guill\\stanza_resources\\resources.json\n",
            "2025-09-11 00:38:02 INFO: Downloading default packages for language: es (Spanish) ...\n",
            "2025-09-11 00:38:03 INFO: File exists: C:\\Users\\guill\\stanza_resources\\es\\default.zip\n",
            "2025-09-11 00:38:06 INFO: Finished downloading models and saved to C:\\Users\\guill\\stanza_resources\n"
          ]
        }
      ],
      "source": [
        "nltk.download('punkt')\n",
        "stanza.download('es')"
      ]
    },
    {
      "cell_type": "code",
      "execution_count": 64,
      "metadata": {
        "colab": {
          "base_uri": "https://localhost:8080/",
          "height": 795,
          "referenced_widgets": [
            "99964ab9466049f7b7f2bc3f4bb7a1b0",
            "73d1f2b6e49845078d5815a280651d32",
            "a7266e1ca4404c23adecf2b907908655",
            "aa1f1bed21614c50a8ce1dadf83cb40d",
            "a9f5be277a9a412c843dc300dd55f95d",
            "2ca80f9886424d02b3ef0bc515b4c27b",
            "c69148527a664c739eeca514c5e02019",
            "5fef9b532f3946aaa1636ce60d7a3fc9",
            "5661149a0b9e46e0bc80eda87068b054",
            "ec63b49449cd4ecf9fa5ed4284cf4941",
            "7df44ba3d392452ba5c5b6a06b36524b",
            "a72b9612858142e3b796374c9177992b",
            "6a1c1016060c4271a488db8f6f3ea272",
            "584688bcdb4d44dbb89c44bdd26fc596",
            "007f10afd122469cb083fb84e7d004b3",
            "a8d684125d2242a888d79af334fe9611",
            "b7f338ebf9b64d689ce46ec26f0c2996",
            "17256e4f880e417e8153e2f6196c5d29",
            "c7beac449b12491c8eb54b5231ee7e90",
            "24aa937722be458bac8df636acceaac8",
            "4c96befd880440fca6ac1d7740b7ca75",
            "4a99a3b937a94d898676da7b0b44c01f",
            "ba9579e162574ab097e872e8a91791ee",
            "3a321e1482704cdc9257018a6cca6265",
            "036fe75b89ba48738a2be78cb266550b",
            "841b034482fe42f89f82d7115a9956fc",
            "bbb83053a1af468483b6f72331197948",
            "d25442b7a2e244ecacaea001d79b12a4",
            "cfca4b12ab6d412485c8c2bc4fa56e77",
            "24384a70f5524740b8cb7b9aeb6045ef",
            "48c04366d31d4f3e98ee76030b66a915",
            "4635f62aa28e45b19ecda7df8c4859d5",
            "832ebcc19dc643d3a43e69d85e492f52",
            "a41bd40d41fb4caea83931b82e79d2b1",
            "8830bedbae2b4b0ca535b6eef2652086",
            "c489418f3cbf42d68a1e9a4093f01b30",
            "09603f605b4b45908ecec5bbc798aedb",
            "b77dc2cad48e4bf8a93c269f7a4baae7",
            "4d4ae2b160ed4976830ccb685d405d6b",
            "1db7bd99e8b94bca9db986aaeb3fb6c3",
            "0c427dec66274d7c8d9f81605baf88f0",
            "e4cfc72a65d84cd981351e7a9b4e2ff8",
            "c3f405be35f7488993bb2dde63a73ed5",
            "bd9b73379ebd4498a97468879693e9be",
            "5b6f435f4efd44d08bc9c297e82b5d86",
            "1ac5ef2754604d33a9b13a12233b555f",
            "4adba0c9eb5949df885b2f7feb9d14e2",
            "4b56224ecfb64f09bc45e091592031da",
            "803f621dbce44d9080d8f8c5121ce429",
            "facdcdb1ce2842b0a43b8d28e0ed717a",
            "8be8fde9fa784641bd001d922bd7faa6",
            "a7433a4e52464ee5bb6d9c2c42453666",
            "1f2307b6e11446568e51ede0f64c49ce",
            "1b8e2f71b38343759380cc9c9166354f",
            "e3a6b7cf36274b54af7806e9f759aa27",
            "13abbe47630b446f8a9018a33623b52d",
            "0cfd8a325383451d8adc1d798a06eb8c",
            "6e0c0aa3bd9645778215523e6257e360",
            "d16fb6b9124f458d878b49863c676a97",
            "983224230e7e420a970caa2d36dba553",
            "269d11ffdbfc41e5aba58855911cac5d",
            "d15f9f58ee044d38a97ec19a440f9dcf",
            "dedad397cd3949169c1152f1254881da",
            "1982dafe5491425a82d2215e70f33c95",
            "9428de496afc40f4ba1642cdc335ff42",
            "b69b831cbb8248268cdb127d11a38d53"
          ]
        },
        "id": "ccpghAVxmgS-",
        "outputId": "45e32ff2-eb14-4771-99be-437b35d0bbf2"
      },
      "outputs": [
        {
          "name": "stderr",
          "output_type": "stream",
          "text": [
            "2025-09-11 00:38:06 INFO: Checking for updates to resources.json in case models have been updated.  Note: this behavior can be turned off with download_method=None or download_method=DownloadMethod.REUSE_RESOURCES\n"
          ]
        },
        {
          "data": {
            "application/vnd.jupyter.widget-view+json": {
              "model_id": "fce891adaa4c4c94a03e51ddb32cd231",
              "version_major": 2,
              "version_minor": 0
            },
            "text/plain": [
              "Downloading https://raw.githubusercontent.com/stanfordnlp/stanza-resources/main/resources_1.10.0.json:   0%|  …"
            ]
          },
          "metadata": {},
          "output_type": "display_data"
        },
        {
          "name": "stderr",
          "output_type": "stream",
          "text": [
            "2025-09-11 00:38:06 INFO: Downloaded file to C:\\Users\\guill\\stanza_resources\\resources.json\n",
            "2025-09-11 00:38:07 INFO: Loading these models for language: es (Spanish):\n",
            "====================================\n",
            "| Processor    | Package           |\n",
            "------------------------------------\n",
            "| tokenize     | combined          |\n",
            "| mwt          | combined          |\n",
            "| pos          | combined_charlm   |\n",
            "| lemma        | combined_nocharlm |\n",
            "| constituency | combined_charlm   |\n",
            "| depparse     | combined_charlm   |\n",
            "| sentiment    | tass2020_charlm   |\n",
            "| ner          | conll02           |\n",
            "====================================\n",
            "\n",
            "2025-09-11 00:38:07 INFO: Using device: cpu\n",
            "2025-09-11 00:38:07 INFO: Loading: tokenize\n",
            "2025-09-11 00:38:07 INFO: Loading: mwt\n",
            "2025-09-11 00:38:07 INFO: Loading: pos\n",
            "2025-09-11 00:38:09 INFO: Loading: lemma\n",
            "2025-09-11 00:38:10 INFO: Loading: constituency\n",
            "2025-09-11 00:38:10 INFO: Loading: depparse\n",
            "2025-09-11 00:38:11 INFO: Loading: sentiment\n",
            "2025-09-11 00:38:11 INFO: Loading: ner\n",
            "2025-09-11 00:38:13 INFO: Done loading processors!\n"
          ]
        }
      ],
      "source": [
        "nlp_stanza = stanza.Pipeline(\"es\")\n",
        "nlp_spacy = spacy.load(\"es_core_news_sm\")  #cargar el modelo en español\n",
        "tokenizer_bert = AutoTokenizer.from_pretrained(\"dccuchile/bert-base-spanish-wwm-cased\")"
      ]
    },
    {
      "cell_type": "markdown",
      "metadata": {
        "id": "RkK85wa-gKS7"
      },
      "source": [
        "### 1.3 Descargar Stopwords en Español"
      ]
    },
    {
      "cell_type": "code",
      "execution_count": 65,
      "metadata": {
        "colab": {
          "base_uri": "https://localhost:8080/"
        },
        "id": "_UvtXuOzgJat",
        "outputId": "1a7c4c32-ec12-4ad7-d9dc-a1fec21bbd49"
      },
      "outputs": [
        {
          "name": "stderr",
          "output_type": "stream",
          "text": [
            "[nltk_data] Downloading package stopwords to\n",
            "[nltk_data]     C:\\Users\\guill\\AppData\\Roaming\\nltk_data...\n",
            "[nltk_data]   Package stopwords is already up-to-date!\n"
          ]
        }
      ],
      "source": [
        "nltk.download('stopwords')\n",
        "spanish_stopwords = set(stopwords.words('spanish'))"
      ]
    },
    {
      "cell_type": "markdown",
      "metadata": {
        "id": "b8T_cjYPgWjD"
      },
      "source": [
        "### 1.4 Cargar texto"
      ]
    },
    {
      "cell_type": "markdown",
      "metadata": {
        "id": "0EVe4_m5hCMF"
      },
      "source": [
        "### 1.5 Leer los Documentos Docx"
      ]
    },
    {
      "cell_type": "code",
      "execution_count": 66,
      "metadata": {
        "colab": {
          "base_uri": "https://localhost:8080/"
        },
        "id": "N67MYhbUjHJ0",
        "outputId": "8df3a038-a99d-4a2c-b506-601ca8c692a2"
      },
      "outputs": [
        {
          "name": "stdout",
          "output_type": "stream",
          "text": [
            "Antonio Pigafetta, un navegante florentino que acompañó a Magallanes en el primer viaje alrededor del mundo, escribió a su paso por nuestra América meridional una crónica rigurosa que sin embargo parece una aventura de la imaginación. Contó que había visto cerdos con el ombligo en el lomo, y unos pájaros sin patas cuyas hembras empollaban en las espaldas del macho, y otros como alcatraces sin lengua cuyos picos parecían una cuchara. Contó que había visto un engendro animal con cabeza y orejas de mula, cuerpo de camello, patas de ciervo y relincho de caballo. Contó que al primer nativo que encontraron en la Patagonia le pusieron enfrente un espejo, y que aquel gigante enardecido perdió el uso de la razón por el pavor de su propia imagen.\n",
            "Este libro breve y fascinante, en el cual ya se vislumbran los gérmenes de nuestras novelas de hoy, no es ni mucho menos el testimonios más asombroso de nuestra realidad de aquellos tiempos. Los cronistas de Indias nos legaron otros incontables. Eldorado, nuestro país ilusorio tan codiciado, figuró en mapas numerosos durante largos años, cambiando de lugar y de forma según la fantasía de los cartógrafos. En busca de la fuente de la Eterna Juventud, el mítico Alvar Núñez Cabeza de Vaca exploró durante ocho años el norte de México, en una expedición venática cuyos miembros se comieron unos a otros y sólo llegaron cinco de los 600 que la emprendieron. Uno de los tantos misterios que nunca fueron descifrados, es el de las once mil mulas cargadas con cien libras de oro cada una, que un día salieron del Cuzco para pagar el rescate de Atahualpa y nunca llegaron a su destino. Más tarde, durante la colonia, se vendían en Cartagena de Indias unas gallinas criadas en tierras de aluvión, en cuyas mollejas se encontraban piedrecitas de oro. Este delirio áureo de nuestros fundadores nos persiguió hasta hace poco tiempo. Apenas en el siglo pasado la misión alemana de estudiar la construcción de un ferrocarril interoceánico en el istmo de Panamá, concluyó que el proyecto era viable con la condición de que los rieles no se hicieran de hierro, que era un metal escaso en la región, sino que se hicieran de oro.\n",
            "La independencia del dominio español no nos puso a salvo de la demencia. El general Antonio López de Santana, que fue tres veces dictador de México, hizo enterrar con funerales magníficos la pierna derecha que había perdido en la llamada Guerra de los Pasteles. El general García Moreno gobernó al Ecuador durante 16 años como un monarca absoluto, y su cadáver fue velado con su uniforme de gala y su coraza de condecoraciones sentado en la silla presidencial. El general Maximiliano Hernández Martínez, el déspota teósofo de El Salvador que hizo exterminar en una matanza bárbara a 30 mil campesinos, había inventado un péndulo para averiguar si los alimentos estaban envenenados, e hizo cubrir con papel rojo el alumbrado público para combatir una epidemia de escarlatina. El monumento al general Francisco Morazán, erigido en la plaza mayor de Tegucigalpa, es en realidad una estatua del mariscal Ney comprada en París en un depósito de esculturas usadas.\n",
            "Hace once años, uno de los poetas insignes de nuestro tiempo, el chileno Pablo Neruda, iluminó este ámbito con su palabra. En las buenas conciencias de Europa, y a veces también en las malas, han irrumpido desde entonces con más ímpetus que nunca las noticias fantasmales de la América Latina, esa patria inmensa de hombres alucinados y mujeres históricas, cuya terquedad sin fin se confunde con la leyenda. No hemos tenido un instante de sosiego. Un presidente prometeico atrincherado en su palacio en llamas murió peleando solo contra todo un ejército, y dos desastres aéreos sospechosos y nunca esclarecidos segaron la vida de otro de corazón generoso, y la de un militar demócrata que había restaurado la dignidad de su pueblo. En este lapso ha habido 5 guerras y 17 golpes de estado, y surgió un dictador luciferino que en el nombre de Dios lleva a cabo el primer etnocidio de América Latina en nuestro tiempo. Mientras tanto 20 millones de niños latinoamericanos morían antes de cumplir dos años, que son más de cuantos han nacido en Europa occidental desde 1970. Los desaparecidos por motivos de la represión son casi los 120 mil, que es como si hoy no se supiera dónde están todos los habitantes de la ciudad de Upsala. Numerosas mujeres arrestadas encintas dieron a luz en cárceles argentinas, pero aún se ignora el paradero y la identidad de sus hijos, que fueron dados en adopción clandestina o internados en orfanatos por las autoridades militares. Por no querer que las cosas siguieran así han muerto cerca de 200 mil mujeres y hombres en todo el continente, y más de 100 mil perecieron en tres pequeños y voluntariosos países de la América Central, Nicaragua, El Salvador y Guatemala. Si esto fuera en los Estados Unidos, la cifra proporcional sería de un millón 600 mil muertes violentas en cuatro años.\n",
            "De Chile, país de tradiciones hospitalarias, ha huido un millón de personas: el 10 por ciento de su población. El Uruguay, una nación minúscula de dos y medio millones de habitantes que se consideraba como el país más civilizado del continente, ha perdido en el destierro a uno de cada cinco ciudadanos. La guerra civil en El Salvador ha causado desde 1979 casi un refugiado cada 20 minutos. El país que se pudiera hacer con todos los exiliados y emigrados forzosos de América latina, tendría una población más numerosa que Noruega.\n",
            "Me atrevo a pensar que es esta realidad descomunal, y no sólo su expresión literaria, la que este año ha merecido la atención de la Academia Sueca de la Letras. Una realidad que no es la del papel, sino que vive con nosotros y determina cada instante de nuestras incontables muertes cotidianas, y que sustenta un manantial de creación insaciable, pleno de desdicha y de belleza, del cual éste colombiano errante y nostálgico no es más que una cifra más señalada por la suerte. Poetas y mendigos, músicos y profetas, guerreros y malandrines, todas las criaturas de aquella realidad desaforada hemos tenido que pedirle muy poco a la imaginación, porque el desafío mayor para nosotros ha sido la insuficiencia de los recursos convencionales para hacer creíble nuestra vida. Este es, amigos, el nudo de nuestra soledad.\n",
            "Pues si estas dificultades nos entorpecen a nosotros, que somos de su esencia, no es difícil entender que los talentos racionales de este lado del mundo, extasiados en la contemplación de sus propias culturas, se hayan quedado sin un método válido para interpretarnos. Es comprensible que insistan en medirnos con la misma vara con que se miden a sí mismos, sin recordar que los estragos de la vida no son iguales para todos, y que la búsqueda de la identidad propia es tan ardua y sangrienta para nosotros como lo fue para ellos. La interpretación de nuestra realidad con esquemas ajenos sólo contribuye a hacernos cada vez más desconocidos, cada vez menos libres, cada vez más solitarios. Tal vez la Europa venerable sería más comprensiva si tratara de vernos en su propio pasado. Si recordara que Londres necesitó 300 años para construir su primera muralla y otros 300 para tener un obispo, que Roma se debatió en las tinieblas de incertidumbre durante 20 siglos antes de que un rey etrusco la implantara en la historia, y que aún en el siglo XVI los pacíficos suizos de hoy, que nos deleitan con sus quesos mansos y sus relojes impávidos, ensangrentaron a Europa con soldados de fortuna. Aún en el apogeo del Renacimiento, 12 mil lansquenetes a sueldo de los ejércitos imperiales saquearon y devastaron a Roma, y pasaron a cuchillo a ocho mil de sus habitantes.\n",
            "No pretendo encarnar las ilusiones de Tonio Kröger, cuyos sueños de unión entre un norte casto y un sur apasionado exaltaba Thomas Mann hace 53 años en este lugar. Pero creo que los europeos de espíritu clarificador, los que luchan también aquí por una patria grande más humana y más justa, podrían ayudarnos mejor si revisaran a fondo su manera de vernos. La solidaridad con nuestros sueños no nos haría sentir menos solos, mientras no se concrete con actos de respaldo legítimo a los pueblos que asuman la ilusión de tener una vida propia en el reparto del mundo.\n",
            "América Latina no quiere ni tiene por qué ser un alfil sin albedrío, ni tiene nada de quimérico que sus designios de independencia y originalidad se conviertan en una aspiración occidental.\n",
            "No obstante, los progresos de la navegación que han reducido tantas distancias entre nuestras Américas y Europa, parecen haber aumentado en cambio nuestra distancia cultural. ¿Por qué la originalidad que se nos admite sin reservas en la literatura se nos niega con toda clase de suspicacias en nuestras tentativas tan difíciles de cambio social? ¿Por qué pensar que la justicia social que los europeos de avanzada tratan de imponer en sus países no puede ser también un objetivo latinoamericano con métodos distintos en condiciones diferentes? No: la violencia y el dolor desmesurados de nuestra historia son el resultado de injusticias seculares y amarguras sin cuento, y no una confabulación urdida a 3 mil leguas de nuestra casa. Pero muchos dirigentes y pensadores europeos lo han creído, con el infantilismo de los abuelos que olvidaron las locuras fructíferas de su juventud, como si no fuera posible otro destino que vivir a merced de los dos grandes dueños del mundo. Este es, amigos, el tamaño de nuestra soledad.\n",
            "Sin embargo, frente a la opresión, el saqueo y el abandono, nuestra respuesta es la vida. Ni los diluvios ni las pestes, ni las hambrunas ni los cataclismos, ni siquiera las guerras eternas a través de los siglos y los siglos han conseguido reducir la ventaja tenaz de la vida sobre la muerte. Una ventaja que aumenta y se acelera: cada año hay 74 millones más de nacimientos que de defunciones, una cantidad de vivos nuevos como para aumentar siete veces cada año la población de Nueva York. La mayoría de ellos nacen en los países con menos recursos, y entre éstos, por supuesto, los de América Latina. En cambio, los países más prósperos han logrado acumular suficiente poder de destrucción como para aniquilar cien veces no sólo a todos los seres humanos que han existido hasta hoy, sino la totalidad de los seres vivos que han pasado por este planeta de infortunios.\n",
            "Un día como el de hoy, mi maestro William Faulkner dijo en este lugar: «Me niego a admitir el fin del hombre». No me sentiría digno de ocupar este sitio que fue suyo si no tuviera la conciencia plena de que por primera vez desde los orígenes de la humanidad, el desastre colosal que él se negaba a admitir hace 32 años es ahora nada más que una simple posibilidad científica. Ante esta realidad sobrecogedora que a través de todo el tiempo humano debió de parecer una utopía, los inventores de fábulas que todo lo creemos, nos sentimos con el derecho de creer que todavía no es demasiado tarde para emprender la creación de la utopía contraria. Una nueva y arrasadora utopía de la vida, donde nadie pueda decidir por otros hasta la forma de morir, donde de veras sea cierto el amor y sea posible la felicidad, y donde las estirpes condenadas a cien años de soledad tengan por fin y para siempre una segunda oportunidad sobre la tierra.\n",
            "Agradezco a la Academia de Letras de Suecia el que me haya distinguido con un premio que me coloca junto a muchos de quienes orientaron y enriquecieron mis años de lector y de cotidiano celebrante de ese delirio sin apelación que es el oficio de escribir. Sus nombres y sus obras se me presentan hoy como sombras tutelares, pero también como el compromiso, a menudo agobiante, que se adquiere con este honor. Un duro honor que en ellos me pareció de simple justicia, pero que en mí entiendo como una más de esas lecciones con las que suele sorprendernos el destino, y que hacen más evidente nuestra condición de juguetes de un azar indescifrable, cuya única y desoladora recompensa, suelen ser, la mayoría de las veces, la incomprensión y el olvido.\n",
            "Es por ello apenas natural que me interrogara, allá en ese trasfondo secreto en donde solemos trasegar con las verdades más esenciales que conforman nuestra identidad, cuál ha sido el sustento constante de mi obra, qué pudo haber llamado la atención de una manera tan comprometedora a este tribunal de árbitros tan severos. Confieso sin falsas modestias que no me ha sido fácil encontrar la razón, pero quiero creer que ha sido la misma que yo hubiera deseado. Quiero creer, amigos, que este es, una vez más, un homenaje que se rinde a la poesía. A la poesía por cuya virtud el inventario abrumador de las naves que numeró en su Iliada el viejo Homero está visitado por un viento que las empuja a navegar con su presteza intemporal y alucinada. La poesía que sostiene, en el delgado andamiaje de los tercetos del Dante, toda la fábrica densa y colosal de la Edad Media. La poesía que con tan milagrosa totalidad rescata a nuestra América en las Alturas de Machu Pichu de Pablo Neruda el grande, el más grande, y donde destilan su tristeza milenaria nuestros mejores sueños sin salida. La poesía, en fin, esa energía secreta de la vida cotidiana, que cuece los garbanzos en la cocina, y contagia el amor y repite las imágenes en los espejos.\n",
            "En cada línea que escribo trato siempre, con mayor o menor fortuna, de invocar los espíritus esquivos de la poesía, y trato de dejar en cada palabra el testimonio de mi devoción por sus virtudes de adivinación, y por su permanente victoria contra los sordos poderes de la muerte. El premio que acabo de recibir lo entiendo, con toda humildad, como la consoladora revelación de que mi intento no ha sido en vano. Es por eso que invito a todos ustedes a brindar por lo que un gran poeta de nuestras Américas, Luis Cardoza y Aragón, ha definido como la única prueba concreta de la existencia del hombre: la poesía.\n",
            "Muchas gracias.\n",
            "\n"
          ]
        }
      ],
      "source": [
        "doc_gabriel_garcia = Document(\"texts\\Discuros Gabriel García Marquez.docx\")\n",
        "for para in doc_gabriel_garcia.paragraphs:\n",
        "    print(para.text)"
      ]
    },
    {
      "cell_type": "code",
      "execution_count": 67,
      "metadata": {
        "colab": {
          "base_uri": "https://localhost:8080/"
        },
        "id": "OLK3E6R_jl58",
        "outputId": "aa5ecc8a-27af-45ec-c693-5427ba24b0f6"
      },
      "outputs": [
        {
          "name": "stdout",
          "output_type": "stream",
          "text": [
            "«Al recibir la distinción con que ha querido honrarme su libre Academia, mi gratitud es más profunda cuando evalúo hasta qué punto esa recompensa sobrepasa  mis méritos personales. Todo hombre, y con mayor razón todo artista, desea que se reconozca lo que es o quiere ser. Yo también lo deseo. Pero al conocer su decisión me fue imposible no comparar su resonancia con lo que realmente soy. ¿Cómo un hombre, casi joven todavía, rico sólo por sus dudas, con una obra apenas desarrollada, habituado a vivir en la soledad del trabajo o en el retiro de la amistad, podría recibir, sin una especie de pánico, un galardón que le coloca de pronto, y solo, a plena luz? ¿Con qué ánimo podía recibir ese honor al tiempo que, en tantos sitios, otros escritores, algunos de los más grandes, están reducidos al silencio y cuando, al mismo tiempo, su tierra natal conoce una desdicha incesante?\n",
            "He sentido esa inquietud, y ese malestar. Para recobrar mi paz interior me ha sido necesario ponerme de acuerdo con un destino demasiado generoso. Y como era imposible igualarme a él con el único apoyo de mis méritos, no he hallado nada mejor, para ayudarme, que lo que me ha sostenido a lo largo de mi vida y en las circunstancias más opuestas: la idea que me he forjado de mi arte y de la misión del escritor. Permítanme, aunque sólo sea en prueba de reconocimiento y amistad, que les diga, lo más sencillamente posible, cuál es esa idea.\n",
            "Personalmente, no puedo vivir sin mi arte. Pero jamás he puesto ese arte por encima de cualquier cosa. Por el contrario, si me es necesario es porque no me separa de nadie, y me permite vivir, tal como soy, a la par de todos. A mi ver, el arte no es una diversión solitaria. Es un medio de emocionar al mayor número de hombres, ofreciéndoles una imagen privilegiada de dolores y alegrías comunes. Obliga, pues, al artista a no aislarse; le somete a la verdad, a la más humilde y más universal. Y aquellos que muchas veces han elegido su destino de artistas porque se sentían distintos, aprenden pronto que no podrán nutrir su arte ni su diferencia más que confesando su semejanza con todos.\n",
            "El artista se forja en ese perpetuo ir y venir de sí mismo hacia los demás, equidistante entre la belleza, sin la cual no puede vivir, y la comunidad, de la cual no puede desprenderse. Por eso, los verdadero artistas no desdeñan nada; se obligan a comprender en vez de juzgar. Y si han de tomar partido en este mundo, sólo puede ser por una sociedad en la que, según la gran frase de Nietzsche, no ha de reinar el juez sino el creador, sea trabajador o intelectual.\n",
            "Por lo mismo el papel de escritor es inseparable de difíciles deberes. Por definición no puede ponerse al servicio de quienes hacen la historia, sino al servicio de quienes la sufren. Si no lo hiciera, quedaría solo, privado hasta de su arte. Todos los ejércitos de la tiranía, con sus millones de hombres, no le arrancarán de la soledad, aunque consienta en acomodarse a su paso y, sobre todo, si en ello consiente. Pero el silencio de un prisionero desconocido, abandonado a las humillaciones,  en el otro extremo del mundo,  basta para sacar al escritor de su soledad,  por lo menos, cada vez que logre, entre los privilegios de su libertad, no olvidar ese silencio, y trate de recogerlo y reemplazarlo, para hacerlo valer mediante todos los recursos del arte.\n",
            "Nadie es lo bastante grande para semejante vocación. Sin embargo,  en todas las circunstancias de su vida, obscuro o provisionalmente célebre, aherrojado por la tiranía o libre para poder expresarse, el escritor puede encontrar el sentimiento de una comunidad viva, que le justificará sólo a condición de que acepte, tanto como pueda, las dos tareas que constituyen la grandeza de su oficio: el servicio a la verdad, y el servicio a la libertad. Y puesto que su vocación consiste en reunir al mayor número posible de hombres, no puede acomodarse a la mentira ni a la servidumbre porque, donde reinan,  crece el aislamiento. Cualesquiera que sean nuestras flaquezas personales, la nobleza de nuestro oficio arraigará siempre en dos imperativos difíciles de mantener: la negativa a mentir respecto de lo que se sabe y la resistencia ante la opresión.\n",
            "Durante más de veinte años de historia demencial, perdido sin remedio, como todos los hombres de mi edad, en las convulsiones del tiempo, sólo me ha sostenido el sentimiento hondo de que escribir es hoy un honor, porque ese acto obliga, y obliga a algo más que a escribir. Me obligaba, especialmente, tal como yo era y con arreglo a mis fuerzas, a compartir, con todos los que vivían mi misma historia, la desventura y la esperanza. Esos hombres nacidos al comienzo de la primera guerra mundial, que tenían veinte años  en la época de instaurarse, a la vez, el poder hitleriano y los primeros procesos revolucionarios, Y que para completar su educación se vieron enfrentados a la guerra de España, a la segunda guerra mundial,  al universo de los campos de concentración, a la Europa de la tortura y de las prisiones, se ven hoy obligados a orientar a sus hijos y a sus obras en un mundo amenazado de destrucción nuclear. Supongo que nadie pretenderá pedirles que sean optimistas. Hasta llego a pensar que debemos ser comprensivos, sin dejar de luchar contra ellos, con el error de los que, por un exceso de desesperación han reivindicado el derecho al deshonor y se han lanzado a los nihilismos de la época. Pero sucede que la mayoría de entre nosotros, en mi país y en el mundo entero, han rechazado el nihilismo y se consagran a la conquista de una legitimidad.\n",
            "Les ha sido preciso forjarse un arte de vivir para tiempos catastróficos, a fin de nacer una segunda vez y luchar luego, a cara descubierta, contra el instinto de muerte que se agita en nuestra historia.\n",
            "Indudablemente, cada generación se cree destinada a rehacer el mundo. La mía sabe, sin embargo, que no podrá hacerlo. Pero su tarea es quizás mayor. Consiste en impedir que el mundo se deshaga. Heredera de una historia corrompida —en la que se mezclan las revoluciones fracasadas, las técnicas enloquecidas, los dioses muertos, y las ideologías extenuadas; en la que poderes mediocres, que pueden hoy destruirlo todo, no saben convencer; en la que la inteligencia se humilla hasta ponerse al servicio del odio y de la opresión—, esa generación ha debido, en si misma y a su alrededor, restaurar, partiendo de amargas inquietudes, un poco de lo que constituye la dignidad de vivir y de morir. Ante un mundo amenazado de desintegración, en el que se corre el riesgo de que nuestros grandes inquisidores establezcan para siempre el imperio de la muerte, sabe que debería, en una especie de carrera loca contra el tiempo, restaurar entre las naciones una paz que no sea la de la servidumbre, reconciliar de nuevo el trabajo y la cultura, y reconstruir con todos los hombres una nueva Arca de la Alianza.\n",
            "No es seguro que esta generación pueda al fin cumplir esa labor inmensa, pero lo cierto es que, por doquier en el mundo, tiene ya hecha, y la mantiene, su doble apuesta en favor de la verdad y de la libertad y que, llegado el momento, sabe morir sin odio por ella. Es esta generación la que debe ser saludada y alentada dondequiera que se halle y, sobre todo, donde se sacrifica. En ella, seguro de vuestra profunda aprobación, quisiera yo declinar hoy el honor que acabáis de hacerme.\n",
            "Al mismo tiempo, después de expresar la nobleza del oficio de escribir, querría yo situar al escritor en su verdadero lugar, sin otros títulos que los que comparte con sus compañeros, de lucha, vulnerable pero tenaz, injusto pero apasionado de justicia, realizando su obra sin vergüenza ni orgullo, a la vista de todos; atento siempre al dolor y a la belleza; consagrado en fin, a sacar de su ser complejo las creaciones que intenta levantar, obstinadamente, entre el movimiento destructor de la historia.\n",
            "¿Quién, después de eso, podrá esperar que él presente soluciones ya hechas, y bellas lecciones de moral? La verdad es misteriosa, huidiza, y siempre hay que tratar de conquistarla. La libertad es peligrosa, tan dura de vivir, como exultante. Debemos avanzar hacia esos dos fines, penosa pero resueltamente, descontando por anticipado nuestros desfallecimientos a lo largo de tan dilatado camino. ¿Qué escritor osaría, en conciencia, proclamarse orgulloso apóstol de virtud? En cuanto a mi, necesito decir una vez más que no soy nada de eso. Jamás he podido renunciar a la luz, a la dicha de ser, a la vida libre en que he crecido. Pero aunque esa nostalgia explique muchos de mis errores y de mis faltas, indudablemente ella me ha ayudado a comprender mejor mi oficio y también a mantenerme, decididamente, al lado de todos esos hombres silenciosos, que no soportan en el mundo la vida que les toca vivir más que por el recuerdo de breves y libres momentos de felicidad, y por la esperanza de volverlos a vivir.\n",
            "Reducido así a lo que realmente soy, a mis verdaderos limites, a mis dudas y también a mi difícil fe, me siento más libre para destacar, al concluir, la magnitud y generosidad de la distinción que acabáis de hacerme. Más libre también para decir que quisiera recibirla como homenaje rendido a todos los que, participando el mismo combate, no han recibido privilegio alguno y sí, en cambio, han conocido desgracias y persecuciones. Sólo me  falta dar las gracias, desde el fondo de mi corazón, y hacer públicamente, en señal personal  de gratitud, la misma y vieja promesa de fidelidad que cada verdadero artista se hace a si mismo, silenciosamente, todos los días».\n",
            "\n"
          ]
        }
      ],
      "source": [
        "doc_albert_camus = Document(\"texts\\Discurso Albert Camus.docx\")\n",
        "for para in doc_albert_camus.paragraphs:\n",
        "    print(para.text)"
      ]
    },
    {
      "cell_type": "code",
      "execution_count": 68,
      "metadata": {
        "colab": {
          "base_uri": "https://localhost:8080/"
        },
        "id": "31DjzlexkBj3",
        "outputId": "71d6f8cf-8fa4-45a4-bd26-c9882a85ac8a"
      },
      "outputs": [
        {
          "name": "stdout",
          "output_type": "stream",
          "text": [
            "Discurso en el banquete del Nobel, 10 de diciembre de 2016\n",
            "Buenas noches a todos. Les envío un cordial saludo a los miembros de la Academia Sueca y a todos los distinguidos invitados presentes esta noche.\n",
            "Lamento no poder estar con ustedes en persona, pero sepan que estoy definitivamente con ustedes en espíritu y me siento honrado de recibir un premio tan prestigioso. Recibir el Premio Nobel de Literatura es algo que nunca podría haber imaginado ni visto venir. Desde muy temprana edad, he estado familiarizado con, leído y absorbido las obras de quienes fueron considerados merecedores de tal distinción: Kipling , Shaw , Thomas Mann , Pearl Buck , Albert Camus , Hemingway . Estos gigantes de la literatura cuyas obras se enseñan en el aula, se albergan en bibliotecas de todo el mundo y se habla de ellas con tonos reverentes siempre han causado una profunda impresión. Que ahora me una a los nombres de tal lista es realmente indescriptible.\n",
            "No sé si estos hombres y mujeres alguna vez pensaron en el honor del Nobel para sí mismos, pero supongo que cualquiera que escriba un libro, un poema o una obra de teatro en cualquier parte del mundo podría albergar ese sueño secreto en lo más profundo de su ser. Probablemente esté tan enterrado que ni siquiera saben que está ahí.\n",
            "Si alguien me hubiera dicho alguna vez que tenía la más mínima posibilidad de ganar el Premio Nobel, habría pensado que tendría casi las mismas probabilidades que de pisar la Luna. De hecho, durante el año en que nací y durante algunos años después, no había nadie en el mundo considerado lo suficientemente bueno para ganar este Premio Nobel. Así que reconozco que estoy en una compañía muy especial, como mínimo.\n",
            "Estaba de viaje cuando recibí esta sorprendente noticia, y me llevó más de unos minutos procesarla adecuadamente. Empecé a pensar en William Shakespeare, la gran figura literaria. Calculo que se consideraba un dramaturgo. La idea de que estaba escribiendo literatura no pudo haber pasado por su cabeza. Sus palabras fueron escritas para el escenario. Destinadas a ser habladas, no leídas. Cuando escribía Hamlet, estoy seguro de que estaba pensando en muchas cosas diferentes: \"¿Quiénes son los actores adecuados para estos papeles?\" \"¿Cómo debería representarse esto?\" \"¿De verdad quiero ambientar esto en Dinamarca?\" Su visión creativa y sus ambiciones estaban sin duda en primer plano en su mente, pero también había asuntos más mundanos que considerar y abordar. \"¿Hay financiación?\" \"¿Hay suficientes buenos asientos para mis clientes?\" \"¿Dónde voy a conseguir un cráneo humano?\" Apuesto a que lo último que pasaba por la mente de Shakespeare era la pregunta \"¿Es esto literatura ?\"\n",
            "Cuando empecé a componer canciones en mi adolescencia, e incluso cuando mis habilidades empezaban a darme a conocer, mis aspiraciones para estas canciones eran limitadas. Pensaba que podrían escucharse en cafeterías o bares, y quizás más tarde en lugares como el Carnegie Hall o el London Palladium. Si de verdad soñaba a lo grande, quizá podría imaginarme grabando un disco y luego escuchando mis canciones en la radio. Ese era el gran objetivo para mí. Grabar discos y escuchar tus canciones en la radio significaba que llegabas a un gran público y que podías seguir haciendo lo que te habías propuesto.\n",
            "Bueno, llevo mucho tiempo haciendo lo que me propuse. He grabado docenas de discos y dado miles de conciertos por todo el mundo. Pero son mis canciones las que están en el centro de casi todo lo que hago. Parecen haber encontrado un lugar en la vida de muchas personas de diferentes culturas, y estoy agradecido por ello.\n",
            "Pero hay algo que debo decir. Como artista, he tocado para 50.000 personas y he tocado para 50, y puedo decirles que es más difícil tocar para 50. Cincuenta y cinco mil personas tienen una personalidad única, no así con cincuenta. Cada persona tiene una identidad individual, un mundo propio. Pueden percibir las cosas con mayor claridad. Su honestidad y cómo se relaciona con la profundidad de su talento es una prueba. No se me escapa que el comité del Nobel sea tan pequeño.\n",
            "Pero, como Shakespeare, yo también me ocupo a menudo de mis proyectos creativos y de todos los aspectos de la vida cotidiana. \"¿Quiénes son los mejores músicos para estas canciones?\" \"¿Estoy grabando en el estudio adecuado?\" \"¿Está esta canción en la tonalidad correcta?\" Algunas cosas nunca cambian, ni siquiera en 400 años.\n",
            "Ni una sola vez he tenido tiempo de preguntarme: “¿Son mis canciones literatura ?”\n",
            "Por lo tanto, agradezco a la Academia Sueca, tanto por tomarse el tiempo para considerar esa misma pregunta como, en última instancia, por brindar una respuesta tan maravillosa.\n",
            "Mis mejores deseos para todos ustedes,\n",
            "Bob Dylan\n",
            "\n"
          ]
        }
      ],
      "source": [
        "doc_bob_dylan = Document(\"texts\\Discurso Bob Dylan.docx\")\n",
        "for para in doc_bob_dylan.paragraphs:\n",
        "    print(para.text)"
      ]
    },
    {
      "cell_type": "code",
      "execution_count": 69,
      "metadata": {
        "colab": {
          "base_uri": "https://localhost:8080/"
        },
        "id": "y1KmEe4BkR3H",
        "outputId": "9fd4e561-f328-4dc8-d9f7-debdd86b98f4"
      },
      "outputs": [
        {
          "name": "stdout",
          "output_type": "stream",
          "text": [
            "Elogio de la lectura y la ficción\n",
            "Aprendí a leer a los cinco años, en la clase del hermano Justiniano, en el Colegio de la Salle, en Cochabamba (Bolivia). Es la cosa más importante que me ha pasado en la vida. Casi setenta años después recuerdo con nitidez cómo esa magia, traducir las palabras de los libros en imágenes, enriqueció mi vida, rompiendo las barreras del tiempo y del espacio y permitiéndome viajar con el capitán Nemo veinte mil leguas de viaje submarino, luchar junto a d’Artagnan, Athos, Portos y Aramís contra las intrigas que amenazan a la Reina en los tiempos del sinuoso Richelieu, o arrastrarme por las entrañas de París, convertido en Jean Valjean, con el cuerpo inerte de Marius a cuestas.\n",
            "La lectura convertía el sueño en vida y la vida en sueño y ponía al alcance del pedacito de hombre que era yo el universo de la literatura. Mi madre me contó que las primeras cosas que escribí fueron continuaciones de las historias que leía pues me apenaba que se terminaran o quería enmendarles el final. Y acaso sea eso lo que me he pasado la vida haciendo sin saberlo: prolongando en el tiempo, mientras crecía, maduraba y envejecía, las historias que llenaron mi infancia de exaltación y de aventuras.\n",
            "Me gustaría que mi madre estuviera aquí, ella que solía emocionarse y llorar leyendo los poemas de Amado Nervo y de Pablo Neruda, y también el abuelo Pedro, de gran nariz y calva reluciente, que celebraba mis versos, y el tío Lucho que tanto me animó a volcarme en cuerpo y alma a escribir aunque la literatura, en aquel tiempo y lugar, alimentara tan mal a sus cultores. Toda la vida he tenido a mi lado gentes así, que me querían y alentaban, y me contagiaban su fe cuando dudaba. Gracias a ellos y, sin duda, también, a mi terquedad y algo de suerte, he podido dedicar buena parte de mi tiempo a esta pasión, vicio y maravilla que es escribir, crear una vida paralela donde refugiarnos contra la adversidad, que vuelve natural lo extraordinario y extraordinario lo natural, disipa el caos, embellece lo feo, eterniza el instante y torna la muerte un espectáculo pasajero.\n",
            "No era fácil escribir historias. Al volverse palabras, los proyectos se marchitaban en el papel y las ideas e imágenes desfallecían. ¿Cómo reanimarlos? Por fortuna, allí estaban los maestros para aprender de ellos y seguir su ejemplo. Flaubert me enseñó que el talento es una disciplina tenaz y una larga paciencia. Faulkner, que es la forma –la escritura y la estructura– lo que engrandece o empobrece los temas. Martorell, Cervantes, Dickens, Balzac, Tolstoi, Conrad, Thomas Mann, que el número y la ambición son tan importantes en una novela como la destreza estilística y la estrategia narrativa. Sartre, que las palabras son actos y que una novela, una obra de teatro, un ensayo, comprometidos con la actualidad y las mejores opciones, pueden cambiar el curso de la historia. Camus y Orwell, que una literatura desprovista de moral es inhumana y Malraux que el heroísmo y la épica cabían en la actualidad tanto como en el tiempo de los argonautas, la Odisea y la Ilíada.\n",
            "Si convocara en este discurso a todos los escritores a los que debo algo o mucho sus sombras nos sumirían en la oscuridad. Son innumerables. Además de revelarme los secretos del oficio de contar, me hicieron explorar los abismos de lo humano, admirar sus hazañas y horrorizarme con sus desvaríos. Fueron los amigos más serviciales, los animadores de mi vocación, en cuyos libros descubrí que, aun en las peores circunstancias, hay esperanzas y que vale la pena vivir, aunque fuera sólo porque sin la vida no podríamos leer ni fantasear historias.\n",
            "Algunas veces me pregunté si en países como el mío, con escasos lectores y tantos pobres, analfabetos e injusticias, donde la cultura era privilegio de tan pocos, escribir no era un lujo solipsista. Pero estas dudas nunca asfixiaron mi vocación y seguí siempre escribiendo, incluso en aquellos períodos en que los trabajos alimenticios absorbían casi todo mi tiempo. Creo que hice lo justo, pues, si para que la literatura florezca en una sociedad fuera requisito alcanzar primero la alta cultura, la libertad, la prosperidad y la justicia, ella no hubiera existido nunca. Por el contrario, gracias a la literatura, a las conciencias que formó, a los deseos y anhelos que inspiró, al desencanto de lo real con que volvemos del viaje a una bella fantasía, la civilización es ahora menos cruel que cuando los contadores de cuentos comenzaron a humanizar la vida con sus fábulas. Seríamos peores de lo que somos sin los buenos libros que leímos, más conformistas, menos inquietos e insumisos y el espíritu crítico, motor del progreso, ni siquiera existiría. Igual que escribir, leer es protestar contra las insuficiencias de la vida. Quien busca en la ficción lo que no tiene, dice, sin necesidad de decirlo, ni siquiera saberlo, que la vida tal como es no nos basta para colmar nuestra sed de absoluto, fundamento de la condición humana, y que debería ser mejor. Inventamos las ficciones para poder vivir de alguna manera las muchas vidas que quisiéramos tener cuando apenas disponemos de una sola.\n",
            "Sin las ficciones seríamos menos conscientes de la importancia de la libertad para que la vida sea vivible y del infierno en que se convierte cuando es conculcada por un tirano, una ideología o una religión. Quienes dudan de que la literatura, además de sumirnos en el sueño de la belleza y la felicidad, nos alerta contra toda forma de opresión, pregúntense por qué todos los regímenes empeñados en controlar la conducta de los ciudadanos de la cuna a la tumba, la temen tanto que establecen sistemas de censura para reprimirla y vigilan con tanta suspicacia a los escritores independientes. Lo hacen porque saben el riesgo que corren dejando que la imaginación discurra por los libros, lo sediciosas que se vuelven las ficciones cuando el lector coteja la libertad que las hace posibles y que en ellas se ejerce, con el oscurantismo y el miedo que lo acechan en el mundo real. Lo quieran o no, lo sepan o no, los fabuladores, al inventar historias, propagan la insatisfacción, mostrando que el mundo está mal hecho, que la vida de la fantasía es más rica que la de la rutina cotidiana. Esa comprobación, si echa raíces en la sensibilidad y la conciencia, vuelve a los ciudadanos más difíciles de manipular, de aceptar las mentiras de quienes quisieran hacerles creer que, entre barrotes, inquisidores y carceleros viven más seguros y mejor.\n",
            "La buena literatura tiende puentes entre gentes distintas y, haciéndonos gozar, sufrir o sorprendernos, nos une por debajo de las lenguas, creencias, usos, costumbres y prejuicios que nos separan. Cuando la gran ballena blanca sepulta al capitán Ahab en el mar, se encoge el corazón de los lectores idénticamente en Tokio, Lima o Tombuctú. Cuando Emma Bovary se traga el arsénico, Anna Karenina se arroja al tren y Julián Sorel sube al patíbulo, y cuando, en El Sur, el urbano doctor Juan Dahlmann sale de aquella pulpería de la pampa a enfrentarse al cuchillo de un matón, o advertimos que todos los pobladores de Comala, el pueblo de Pedro Páramo, están muertos, el estremecimiento es semejante en el lector que adora a Buda, Confucio, Cristo, Alá o es un agnóstico, vista saco y corbata, chilaba, kimono o bombachas. La literatura crea una fraternidad dentro de la diversidad humana y eclipsa las fronteras que erigen entre hombres y mujeres la ignorancia, las ideologías, las religiones, los idiomas y la estupidez.\n",
            "Como todas las épocas han tenido sus espantos, la nuestra es la de los fanáticos, la de los terroristas suicidas, antigua especie convencida de que matando se gana el paraíso, que la sangre de los inocentes lava las afrentas colectivas, corrige las injusticias e impone la verdad sobre las falsas creencias. Innumerables víctimas son inmoladas cada día en diversos lugares del mundo por quienes se sienten poseedores de verdades absolutas. Creíamos que, con el desplome de los imperios totalitarios, la convivencia, la paz, el pluralismo, los derechos humanos, se impondrían y el mundo dejaría atrás los holocaustos, genocidios, invasiones y guerras de exterminio. Nada de eso ha ocurrido. Nuevas formas de barbarie proliferan atizadas por el fanatismo y, con la multiplicación de armas de destrucción masiva, no se puede excluir que cualquier grupúsculo de enloquecidos redentores provoque un día un cataclismo nuclear. Hay que salirles al paso, enfrentarlos y derrotarlos. No son muchos, aunque el estruendo de sus crímenes retumbe por todo el planeta y nos abrumen de horror las pesadillas que provocan. No debemos dejarnos intimidar por quienes quisieran arrebatarnos la libertad que hemos ido conquistando en la larga hazaña de la civilización. Defendamos la democracia liberal, que, con todas sus limitaciones, sigue significando el pluralismo político, la convivencia, la tolerancia, los derechos humanos, el respeto a la crítica, la legalidad, las elecciones libres, la alternancia en el poder, todo aquello que nos ha ido sacando de la vida feral y acercándonos –aunque nunca llegaremos a alcanzarla– a la hermosa y perfecta vida que finge la literatura, aquella que sólo inventándola, escribiéndola y leyéndola podemos merecer. Enfrentándonos a los fanáticos homicidas defendemos nuestro derecho a soñar y a hacer nuestros sueños realidad.\n",
            "En mi juventud, como muchos escritores de mi generación, fui marxista y creí que el socialismo sería el remedio para la explotación y las injusticias sociales que arreciaban en mi país, América Latina y el resto del Tercer Mundo. Mi decepción del estatismo y el colectivismo y mi tránsito hacia el demócrata y el liberal que soy –que trato de ser– fue largo, difícil, y se llevó a cabo despacio y a raíz de episodios como la conversión de la Revolución Cubana, que me había entusiasmado al principio, al modelo autoritario y vertical de la Unión Soviética, el testimonio de los disidentes que conseguía escurrirse entre las alambradas del Gulag, la invasión de Checoeslovaquia por los países del Pacto de Varsovia, y gracias a pensadores como Raymond Aron, Jean-François Revel, Isaiah Berlin y Karl Popper, a quienes debo mi revalorización de la cultura democrática y de las sociedades abiertas. Esos maestros fueron un ejemplo de lucidez y gallardía cuando la intelligentsia de Occidente parecía, por frivolidad u oportunismo, haber sucumbido al hechizo del socialismo soviético, o, peor todavía, al aquelarre sanguinario de la revolución cultural china.\n",
            "De niño soñaba con llegar algún día a París porque, deslumbrado con la literatura francesa, creía que vivir allí y respirar el aire que respiraron Balzac, Stendhal, Baudelaire, Proust, me ayudaría a convertirme en un verdadero escritor, que si no salía del Perú sólo sería un seudo escritor de días domingos y feriados. Y la verdad es que debo a Francia, a la cultura francesa, enseñanzas inolvidables, como que la literatura es tanto una vocación como una disciplina, un trabajo y una terquedad. Viví allí cuando Sartre y Camus estaban vivos y escribiendo, en los años de Ionesco, Beckett, Bataille y Cioran, del descubrimiento del teatro de Brecht y el cine de Ingmar Bergman, el TNP de Jean Vilar y el Odéon de Jean Louis Barrault, de la Nouvelle Vague y le Nouveau Roman y los discursos, bellísimas piezas literarias, de André Malraux, y, tal vez, el espectáculo más teatral de la Europa de aquel tiempo, las conferencias de prensa y los truenos olímpicos del general de Gaulle. Pero, acaso, lo que más le agradezco a Francia sea el descubrimiento de América Latina. Allí aprendí que el Perú era parte de una vasta comunidad a la que hermanaban la historia, la geografía, la problemática social y política, una cierta manera de ser y la sabrosa lengua en que hablaba y escribía. Y que en esos mismos años producía una literatura novedosa y pujante. Allí leí a Borges, a Octavio Paz, Cortázar, García Márquez, Fuentes, Cabrera Infante, Rulfo, Onetti, Carpentier, Edwards, Donoso y muchos otros, cuyos escritos estaban revolucionando la narrativa en lengua española y gracias a los cuales Europa y buena parte del mundo descubrían que América Latina no era sólo el continente de los golpes de Estado, los caudillos de opereta, los guerrilleros barbudos y las maracas del mambo y el chachachá, sino también ideas, formas artísticas y fantasías literarias que trascendían lo pintoresco y hablaban un lenguaje universal.\n",
            "De entonces a esta época, no sin tropiezos y resbalones, América Latina ha ido progresando, aunque, como decía el verso de César Vallejo, todavía Hay, hermanos, muchísimo que hacer. Padecemos menos dictaduras que antaño, sólo Cuba y su candidata a secundarla, Venezuela, y algunas seudodemocracias populistas y payasas, como las de Bolivia y Nicaragua. Pero en el resto del continente, mal que mal, la democracia está funcionando, apoyada en amplios consensos populares, y, por primera vez en nuestra historia, tenemos una izquierda y una derecha que, como en Brasil, Chile, Uruguay, Perú, Colombia, República Dominicana, México y casi todo Centroamérica, respetan la legalidad, la libertad de crítica, las elecciones y la renovación en el poder. Ése es el buen camino y, si persevera en él, combate la insidiosa corrupción y sigue integrándose al mundo, América Latina dejará por fin de ser el continente del futuro y pasará a serlo del presente.\n",
            "Nunca me he sentido un extranjero en Europa, ni, en verdad, en ninguna parte. En todos los lugares donde he vivido, en París, en Londres, en Barcelona, en Madrid, en Berlín, en Washington, Nueva York, Brasil o la República Dominicana, me sentí en mi casa. Siempre he hallado una querencia donde podía vivir en paz y trabajando, aprender cosas, alentar ilusiones, encontrar amigos, buenas lecturas y temas para escribir. No me parece que haberme convertido, sin proponérmelo, en un ciudadano del mundo, haya debilitado eso que llaman “las raíces”, mis vínculos con mi propio país –lo que tampoco tendría mucha importancia–, porque, si así fuera, las experiencias peruanas no seguirían alimentándome como escritor y no asomarían siempre en mis historias, aun cuando éstas parezcan ocurrir muy lejos del Perú. Creo que vivir tanto tiempo fuera del país donde nací ha fortalecido más bien aquellos vínculos, añadiéndoles una perspectiva más lúcida, y la nostalgia, que sabe diferenciar lo adjetivo y lo sustancial y mantiene reverberando los recuerdos. El amor al país en que uno nació no puede ser obligatorio, sino, al igual que cualquier otro amor, un movimiento espontáneo del corazón, como el que une a los amantes, a padres e hijos, a los amigos entre sí.\n",
            "Al Perú yo lo llevo en las entrañas porque en él nací, crecí, me formé, y viví aquellas experiencias de niñez y juventud que modelaron mi personalidad, fraguaron mi vocación, y porque allí amé, odié, gocé, sufrí y soñé. Lo que en él ocurre me afecta más, me conmueve y exaspera más que lo que sucede en otras partes. No lo he buscado ni me lo he impuesto, simplemente es así. Algunos compatriotas me acusaron de traidor y estuve a punto de perder la ciudadanía cuando, durante la última dictadura, pedí a los gobiernos democráticos del mundo que penalizaran al régimen con sanciones diplomáticas y económicas, como lo he hecho siempre con todas las dictaduras, de cualquier índole, la de Pinochet, la de Fidel Castro, la de los talibanes en Afganistán, la de los imanes de Irán, la del apartheid de Africa del Sur, la de los sátrapas uniformados de Birmania (hoy Myanmar). Y lo volvería a hacer mañana si –el destino no lo quiera y los peruanos no lo permitan– el Perú fuera víctima una vez más de un golpe de estado que aniquilara nuestra frágil democracia. Aquella no fue la acción precipitada y pasional de un resentido, como escribieron algunos polígrafos acostumbrados a juzgar a los demás desde su propia pequeñez. Fue un acto coherente con mi convicción de que una dictadura representa el mal absoluto para un país, una fuente de brutalidad y corrupción y de heridas profundas que tardan mucho en cerrar, envenenan su futuro y crean hábitos y prácticas malsanas que se prolongan a lo largo de las generaciones demorando la reconstrucción democrática. Por eso, las dictaduras deben ser combatidas sin contemplaciones, por todos los medios a nuestro alcance, incluidas las sanciones económicas. Es lamentable que los gobiernos democráticos, en vez de dar el ejemplo, solidarizándose con quienes, como las Damas de Blanco en Cuba, los resistentes venezolanos, o Aung San Suu Kyi y Liu Xiaobo, que se enfrentan con temeridad a las dictaduras que sufren, se muestren a menudo complacientes no con ellos sino con sus verdugos. Aquellos valientes, luchando por su libertad, también luchan por la nuestra.\n",
            "Un compatriota mío, José María Arguedas, llamó al Perú el país de “todas las sangres”. No creo que haya fórmula que lo defina mejor. Eso somos y eso llevamos dentro todos los peruanos, nos guste o no: una suma de tradiciones, razas, creencias y culturas procedentes de los cuatro puntos cardinales. A mí me enorgullece sentirme heredero de las culturas prehispánicas que fabricaron los tejidos y mantos de plumas de Nazca y Paracas y los ceramios mochicas o incas que se exhiben en los mejores museos del mundo, de los constructores de Machu Picchu, el Gran Chimú, Chan Chan, Kuelap, Sipán, las huacas de La Bruja y del Sol y de la Luna, y de los españoles que, con sus alforjas, espadas y caballos, trajeron al Perú a Grecia, Roma, la tradición judeo-cristiana, el Renacimiento, Cervantes, Quevedo y Góngora, y la lengua recia de Castilla que los Andes dulcificaron. Y de que con España llegara también el África con su reciedumbre, su música y su efervescente imaginación a enriquecer la heterogeneidad peruana. Si escarbamos un poco descubrimos que el Perú, como el Aleph de Borges, es en pequeño formato el mundo entero. ¡Qué extraordinario privilegio el de un país que no tiene una identidad porque las tiene todas!\n",
            "La conquista de América fue cruel y violenta, como todas las conquistas, desde luego, y debemos criticarla, pero sin olvidar, al hacerlo, que quienes cometieron aquellos despojos y crímenes fueron, en gran número, nuestros bisabuelos y tatarabuelos, los españoles que fueron a América y allí se acriollaron, no los que se quedaron en su tierra. Aquellas críticas, para ser justas, deben ser una autocrítica. Porque, al independizarnos de España, hace doscientos años, quienes asumieron el poder en las antiguas colonias, en vez de redimir al indio y hacerle justicia por los antiguos agravios, siguieron explotándolo con tanta codicia y ferocidad como los conquistadores, y, en algunos países, diezmándolo y exterminándolo. Digámoslo con toda claridad: desde hace dos siglos la emancipación de los indígenas es una responsabilidad exclusivamente nuestra y la hemos incumplido. Ella sigue siendo una asignatura pendiente en toda América Latina. No hay una sola excepción a este oprobio y vergüenza.\n",
            "Quiero a España tanto como al Perú y mi deuda con ella es tan grande como el agradecimiento que le tengo. Si no hubiera sido por España jamás hubiera llegado a esta tribuna, ni a ser un escritor conocido, y tal vez, como tantos colegas desafortunados, andaría en el limbo de los escribidores sin suerte, sin editores, ni premios, ni lectores, cuyo talento acaso –triste consuelo– descubriría algún día la posteridad. En España se publicaron todos mis libros, recibí reconocimientos exagerados, amigos como Carlos Barral y Carmen Balcells y tantos otros se desvivieron porque mis historias tuvieran lectores. Y España me concedió una segunda nacionalidad cuando podía perder la mía. Jamás he sentido la menor incompatibilidad entre ser peruano y tener un pasaporte español porque siempre he sentido que España y el Perú son el anverso y el reverso de una misma cosa, y no sólo en mi pequeña persona, también en realidades esenciales como la historia, la lengua y la cultura.\n",
            "De todos los años que he vivido en suelo español, recuerdo con fulgor los cinco que pasé en la querida Barcelona a comienzos de los años setenta. La dictadura de Franco estaba todavía en pie y aún fusilaba, pero era ya un fósil en hilachas, y, sobre todo en el campo de la cultura, incapaz de mantener los controles de antaño. Se abrían rendijas y resquicios que la censura no alcanzaba a parchar y por ellas la sociedad española absorbía nuevas ideas, libros, corrientes de pensamiento y valores y formas artísticas hasta entonces prohibidos por subversivos. Ninguna ciudad aprovechó tanto y mejor que Barcelona este comienzo de apertura ni vivió una efervescencia semejante en todos los campos de las ideas y la creación. Se convirtió en la capital cultural de España, el lugar donde había que estar para respirar el anticipo de la libertad que se vendría. Y, en cierto modo, fue también la capital cultural de América Latina por la cantidad de pintores, escritores, editores y artistas procedentes de los países latinoamericanos que allí se instalaron, o iban y venían a Barcelona, porque era donde había que estar si uno quería ser un poeta, novelista, pintor o compositor de nuestro tiempo. Para mí, aquellos fueron unos años inolvidables de compañerismo, amistad, conspiraciones y fecundo trabajo intelectual. Igual que antes París, Barcelona fue una Torre de Babel, una ciudad cosmopolita y universal, donde era estimulante vivir y trabajar, y donde, por primera vez desde los tiempos de la guerra civil, escritores españoles y latinoamericanos se mezclaron y fraternizaron, reconociéndose dueños de una misma tradición y aliados en una empresa común y una certeza: que el final de la dictadura era inminente y que en la España democrática la cultura sería la protagonista principal.\n",
            "Aunque no ocurrió así exactamente, la transición española de la dictadura a la democracia ha sido una de las mejores historias de los tiempos modernos, un ejemplo de como, cuando la sensatez y la racionalidad prevalecen y los adversarios políticos aparcan el sectarismo en favor del bien común, pueden ocurrir hechos tan prodigiosos como los de las novelas del realismo mágico. La transición española del autoritarismo a la libertad, del subdesarrollo a la prosperidad, de una sociedad de contrastes económicos y desigualdades tercermundistas a un país de clases medias, su integración a Europa y su adopción en pocos años de una cultura democrática, ha admirado al mundo entero y disparado la modernización de España. Ha sido para mí una experiencia emocionante y aleccionadora vivirla de muy cerca y a ratos desde dentro. Ojalá que los nacionalismos, plaga incurable del mundo moderno y también de España, no estropeen esta historia feliz.\n",
            "Detesto toda forma de nacionalismo, ideología –o, más bien, religión– provinciana, de corto vuelo, excluyente, que recorta el horizonte intelectual y disimula en su seno prejuicios étnicos y racistas, pues convierte en valor supremo, en privilegio moral y ontológico, la circunstancia fortuita del lugar de nacimiento. Junto con la religión, el nacionalismo ha sido la causa de las peores carnicerías de la historia, como las de las dos guerras mundiales y la sangría actual del Medio Oriente. Nada ha contribuido tanto como el nacionalismo a que América Latina se haya balcanizado, ensangrentado en insensatas contiendas y litigios y derrochado astronómicos recursos en comprar armas en vez de construir escuelas, bibliotecas y hospitales.\n",
            "No hay que confundir el nacionalismo de orejeras y su rechazo del “otro”, siempre semilla de violencia, con el patriotismo, sentimiento sano y generoso, de amor a la tierra donde uno vio la luz, donde vivieron sus ancestros y se forjaron los primeros sueños, paisaje familiar de geografías, seres queridos y ocurrencias que se convierten en hitos de la memoria y escudos contra la soledad. La patria no son las banderas ni los himnos, ni los discursos apodícticos sobre los héroes emblemáticos, sino un puñado de lugares y personas que pueblan nuestros recuerdos y los tiñen de melancolía, la sensación cálida de que, no importa donde estemos, existe un hogar al que podemos volver.\n",
            "El Perú es para mí una Arequipa donde nací pero nunca viví, una ciudad que mi madre, mis abuelos y mis tíos me enseñaron a conocer a través de sus recuerdos y añoranzas, porque toda mi tribu familiar, como suelen hacer los arequipeños, se llevó siempre a la Ciudad Blanca con ella en su andariega existencia. Es la Piura del desierto, el algarrobo y el sufrido burrito, al que los piuranos de mi juventud llamaban “el pie ajeno” –lindo y triste apelativo–, donde descubrí que no eran las cigüeñas las que traían los bebes al mundo sino que los fabricaban las parejas haciendo unas barbaridades que eran pecado mortal. Es el Colegio San Miguel y el Teatro Variedades donde por primera vez vi subir al escenario una obrita escrita por mí. Es la esquina de Diego Ferré y Colón, en el Miraflores limeño –la llamábamos el Barrio Alegre–, donde cambié el pantalón corto por el largo, fumé mi primer cigarrillo, aprendí a bailar, a enamorar y a declararme a las chicas. Es la polvorienta y temblorosa redacción del diario La Crónica donde, a mis dieciséis años, velé mis primeras armas de periodista, oficio que, con la literatura, ha ocupado casi toda mi vida y me ha hecho, como los libros, vivir más, conocer mejor el mundo y frecuentar a gente de todas partes y de todos los registros, gente excelente, buena, mala y execrable. Es el Colegio Militar Leoncio Prado, donde aprendí que el Perú no era el pequeño reducto de clase media en el que yo había vivido hasta entonces confinado y protegido, sino un país grande, antiguo, enconado, desigual y sacudido por toda clase de tormentas sociales. Son las células clandestinas de Cahuide en las que con un puñado de sanmarquinos preparábamos la revolución mundial. Y el Perú son mis amigos y amigas del Movimiento Libertad con los que por tres años, entre las bombas, apagones y asesinatos del terrorismo, trabajamos en defensa de la democracia y la cultura de la libertad.\n",
            "El Perú es Patricia, la prima de naricita respingada y carácter indomable con la que tuve la fortuna de casarme hace 45 años y que todavía soporta las manías, neurosis y rabietas que me ayudan a escribir. Sin ella mi vida se hubiera disuelto hace tiempo en un torbellino caótico y no hubieran nacido Álvaro, Gonzalo, Morgana ni los seis nietos que nos prolongan y alegran la existencia. Ella hace todo y todo lo hace bien. Resuelve los problemas, administra la economía, pone orden en el caos, mantiene a raya a los periodistas y a los intrusos, defiende mi tiempo, decide las citas y los viajes, hace y deshace las maletas, y es tan generosa que, hasta cuando cree que me riñe, me hace el mejor de los elogios: “Mario, para lo único que tú sirves es para escribir”.\n",
            "Volvamos a la literatura. El paraíso de la infancia no es para mí un mito literario sino una realidad que viví y gocé en la gran casa familiar de tres patios, en Cochabamba, donde con mis primas y compañeros de colegio podíamos reproducir las historias de Tarzán y de Salgari, y en la Prefectura de Piura, en cuyos entretechos anidaban los murciélagos, sombras silentes que llenaban de misterio las noches estrelladas de esa tierra caliente. En esos años, escribir fue jugar un juego que me celebraba la familia, una gracia que me merecía aplausos, a mí, el nieto, el sobrino, el hijo sin papá, porque mi padre había muerto y estaba en el cielo. Era un señor alto y buen mozo, de uniforme de marino, cuya foto engalanaba mi velador y a la que yo rezaba y besaba antes de dormir. Una mañana piurana, de la que todavía no creo haberme recobrado, mi madre me reveló que aquel caballero, en verdad, estaba vivo. Y que ese mismo día nos iríamos a vivir con él, a Lima. Yo tenía once años y, desde entonces, todo cambió. Perdí la inocencia y descubrí la soledad, la autoridad, la vida adulta y el miedo. Mi salvación fue leer, leer los buenos libros, refugiarme en esos mundos donde vivir era exaltante, intenso, una aventura tras otra, donde podía sentirme libre y volvía a ser feliz. Y fue escribir, a escondidas, como quien se entrega a un vicio inconfensable, a una pasión prohibida. La literatura dejó de ser un juego. Se volvió una manera de resistir la adversidad, de protestar, de rebelarme, de escapar a lo intolerable, mi razón de vivir. Desde entonces y hasta ahora, en todas las circunstancias en que me he sentido abatido o golpeado, a orillas de la desesperación, entregarme en cuerpo y alma a mi trabajo de fabulador ha sido la luz que señala la salida del túnel, la tabla de salvación que lleva al náufrago a la playa.\n",
            "Aunque me cuesta mucho trabajo y me hace sudar la gota gorda, y, como todo escritor, siento a veces la amenaza de la parálisis, de la sequía de la imaginación, nada me ha hecho gozar en la vida tanto como pasarme los meses y los años construyendo una historia, desde su incierto despuntar, esa imagen que la memoria almacenó de alguna experiencia vivida, que se volvió un desasosiego, un entusiasmo, un fantaseo que germinó luego en un proyecto y en la decisión de intentar convertir esa niebla agitada de fantasmas en una historia. “Escribir es una manera de vivir”, dijo Flaubert. Sí, muy cierto, una manera de vivir con ilusión y alegría y un fuego chisporroteante en la cabeza, peleando con las palabras díscolas hasta amaestrarlas, explorando el ancho mundo como un cazador en pos de presas codiciables para alimentar la ficción en ciernes y aplacar ese apetito voraz de toda historia que al crecer quisiera tragarse todas las historias. Llegar a sentir el vértigo al que nos conduce una novela en gestación, cuando toma forma y parece empezar a vivir por cuenta propia, con personajes que se mueven, actúan, piensan, sienten y exigen respeto y consideración, a los que ya no es posible imponer arbitrariamente una conducta, ni privarlos de su libre albedrío sin matarlos, sin que la historia pierda poder de persuasión, es una experiencia que me sigue hechizando como la primera vez, tan plena y vertiginosa como hacer el amor con la mujer amada días, semanas y meses, sin cesar.\n",
            "Al hablar de la ficción, he hablado mucho de la novela y poco del teatro, otra de sus formas excelsas. Una gran injusticia, desde luego. El teatro fue mi primer amor, desde que, adolescente, vi en el Teatro Segura, de Lima, La muerte de un viajante, de Arthur Miller, espectáculo que me dejó traspasado de emoción y me precipitó a escribir un drama con incas. Si en la Lima de los cincuenta hubiera habido un movimiento teatral habría sido dramaturgo antes que novelista. No lo había y eso debió orientarme cada vez más hacia la narrativa. Pero mi amor por el teatro nunca cesó, dormitó acurrucado a la sombra de las novelas, como una tentación y una nostalgia, sobre todo cuando veía alguna pieza subyugante. A fines de los setenta, el recuerdo pertinaz de una tía abuela centenaria, la Mamaé, que, en los últimos años de su vida, cortó con la realidad circundante para refugiarse en los recuerdos y la ficción, me sugirió una historia. Y sentí, de manera fatídica, que aquella era una historia para el teatro, que sólo sobre un escenario cobraría la animación y el esplendor de las ficciones logradas. La escribí con el temblor excitado del principiante y gocé tanto viéndola en escena, con Norma Aleandro en el papel de la heroína, que, desde entonces, entre novela y novela, ensayo y ensayo, he reincidido varias veces. Eso sí, nunca imaginé que, a mis setenta años, me subiría (debería decir mejor me arrastraría) a un escenario a actuar. Esa temeraria aventura me hizo vivir por primera vez en carne y hueso el milagro que es, para alguien que se ha pasado la vida escribiendo ficciones, encarnar por unas horas a un personaje de la fantasía, vivir la ficción delante de un público. Nunca podré agradecer bastante a mis queridos amigos, el director Joan Ollé y la actriz Aitana Sánchez Gijón, haberme animado a compartir con ellos esa fantástica experiencia (pese al pánico que la acompañó).\n",
            "La literatura es una representación falaz de la vida que, sin embargo, nos ayuda a entenderla mejor, a orientarnos por el laberinto en el que nacimos, transcurrimos y morimos. Ella nos desagravia de los reveses y frustraciones que nos inflige la vida verdadera y gracias a ella desciframos, al menos parcialmente, el jeroglífico que suele ser la existencia para la gran mayoría de los seres humanos, principalmente aquellos que alentamos más dudas que certezas, y confesamos nuestra perplejidad ante temas como la trascendencia, el destino individual y colectivo, el alma, el sentido o el sinsentido de la historia, el más acá y el más allá del conocimiento racional.\n",
            "Siempre me ha fascinado imaginar aquella incierta circunstancia en que nuestros antepasados, apenas diferentes todavía del animal, recién nacido el lenguaje que les permitía comunicarse, empezaron, en las cavernas, en torno a las hogueras, en noches hirvientes de amenazas –rayos, truenos, gruñidos de las fieras–, a inventar historias y a contárselas. Aquel fue el momento crucial de nuestro destino, porque, en esas rondas de seres primitivos suspensos por la voz y la fantasía del contador, comenzó la civilización, el largo transcurrir que poco a poco nos humanizaría y nos llevaría a inventar al individuo soberano y a desgajarlo de la tribu, la ciencia, las artes, el derecho, la libertad, a escrutar las entrañas de la naturaleza, del cuerpo humano, del espacio y a viajar a las estrellas. Aquellos cuentos, fábulas, mitos, leyendas, que resonaron por primera vez como una música nueva ante auditorios intimidados por los misterios y peligros de un mundo donde todo era desconocido y peligroso, debieron ser un baño refrescante, un remanso para esos espíritus siempre en el quién vive, para los que existir quería decir apenas comer, guarecerse de los elementos, matar y fornicar. Desde que empezaron a soñar en colectividad, a compartir los sueños, incitados por los contadores de cuentos, dejaron de estar atados a la noria de la supervivencia, un remolino de quehaceres embrutecedores, y su vida se volvió sueño, goce, fantasía y un designio revolucionario: romper aquel confinamiento y cambiar y mejorar, una lucha para aplacar aquellos deseos y ambiciones que en ellos azuzaban las vidas figuradas, y la curiosidad por despejar las incógnitas de que estaba constelado su entorno.\n",
            "Ese proceso nunca interrumpido se enriqueció cuando nació la escritura y las historias, además de escucharse, pudieron leerse y alcanzaron la permanencia que les confiere la literatura. Por eso, hay que repetirlo sin tregua hasta convencer de ello a las nuevas generaciones: la ficción es más que un entretenimiento, más que un ejercicio intelectual que aguza la sensibilidad y despierta el espíritu crítico. Es una necesidad imprescindible para que la civilización siga existiendo, renovándose y conservando en nosotros lo mejor de lo humano. Para que no retrocedamos a la barbarie de la incomunicación y la vida no se reduzca al pragmatismo de los especialistas que ven las cosas en profundidad pero ignoran lo que las rodea, precede y continúa. Para que no pasemos de servirnos de las máquinas que inventamos a ser sus sirvientes y esclavos. Y porque un mundo sin literatura sería un mundo sin deseos ni ideales ni desacatos, un mundo de autómatas privados de lo que hace que el ser humano sea de veras humano: la capacidad de salir de sí mismo y mudarse en otro, en otros, modelados con la arcilla de nuestros sueños.\n",
            "De la caverna al rascacielos, del garrote a las armas de destrucción masiva, de la vida tautológica de la tribu a la era de la globalización, las ficciones de la literatura han multiplicado las experiencias humanas, impidiendo que hombres y mujeres sucumbamos al letargo, al ensimismamiento, a la resignación. Nada ha sembrado tanto la inquietud, removido tanto la imaginación y los deseos, como esa vida de mentiras que añadimos a la que tenemos gracias a la literatura para protagonizar las grandes aventuras, las grandes pasiones, que la vida verdadera nunca nos dará. Las mentiras de la literatura se vuelven verdades a través de nosotros, los lectores transformados, contaminados de anhelos y, por culpa de la ficción, en permanente entredicho con la mediocre realidad. Hechicería que, al ilusionarnos con tener lo que no tenemos, ser lo que no somos, acceder a esa imposible existencia donde, como dioses paganos, nos sentimos terrenales y eternos a la vez, la literatura introduce en nuestros espíritus la inconformidad y la rebeldía, que están detrás de todas las hazañas que han contribuido a disminuir la violencia en las relaciones humanas. A disminuir la violencia, no a acabar con ella. Porque la nuestra será siempre, por fortuna, una historia inconclusa. Por eso tenemos que seguir soñando, leyendo y escribiendo, la más eficaz manera que hayamos encontrado de aliviar nuestra condición perecedera, de derrotar a la carcoma del tiempo y de convertir en posible lo imposible.\n",
            "Estocolmo, 7 de diciembre de 2010.\n",
            "\n"
          ]
        }
      ],
      "source": [
        "doc_vargas_llosa = Document(\"texts\\Discurso Vargas Llosa.docx\")\n",
        "for para in doc_vargas_llosa.paragraphs:\n",
        "    print(para.text)"
      ]
    },
    {
      "cell_type": "markdown",
      "metadata": {
        "id": "iyiK_cu7kis0"
      },
      "source": [
        "### 1.6 Eliminación de elementos no deseados"
      ]
    },
    {
      "cell_type": "code",
      "execution_count": 70,
      "metadata": {
        "id": "ig-kYOm5kkB8"
      },
      "outputs": [],
      "source": [
        "def extract_text_without_unwanted_elements(text):\n",
        "    text = re.sub(r\"[^a-zA-Z0-9áéíóúÁÉÍÓÚüÜñÑ\\s]\", \"\", text)\n",
        "    return text"
      ]
    },
    {
      "cell_type": "code",
      "execution_count": 86,
      "metadata": {},
      "outputs": [],
      "source": [
        "def extract_text_without_unwanted_elements_sentences(text):\n",
        "    \"\"\"\n",
        "    Clean Spanish text but keep sentence delimiters (.!?¡¿) and newlines.\n",
        "    \"\"\"\n",
        "    # Keep Spanish letters, digits, spaces, newlines, and sentence delimiters\n",
        "    text = re.sub(r\"[^a-zA-Z0-9áéíóúÁÉÍÓÚüÜñÑ \\n\\.\\!\\?\\¡\\¿]\", \"\", text)\n",
        "    \n",
        "    # Optional: normalize multiple newlines into a single one\n",
        "    text = re.sub(r\"\\n+\", \"\\n\", text)\n",
        "    \n",
        "    return text\n"
      ]
    },
    {
      "cell_type": "markdown",
      "metadata": {
        "id": "-WGUdRQuklsm"
      },
      "source": [
        "### 1.6 Conversión a minúsculas"
      ]
    },
    {
      "cell_type": "code",
      "execution_count": 72,
      "metadata": {
        "id": "pNBf6WJ_mF5H"
      },
      "outputs": [],
      "source": [
        "def convertToLowerCase(text):\n",
        "    return text.lower()"
      ]
    },
    {
      "cell_type": "markdown",
      "metadata": {
        "id": "dOKeVIdYkmes"
      },
      "source": [
        "### 1.7 Transformación UNICODE"
      ]
    },
    {
      "cell_type": "code",
      "execution_count": 73,
      "metadata": {
        "id": "Y3KkfUDOmMcV"
      },
      "outputs": [],
      "source": [
        "def unicodeTransformation(text, method):\n",
        "    return unicodedata.normalize(method, text)"
      ]
    },
    {
      "cell_type": "markdown",
      "metadata": {
        "id": "WNuvz5FLkpkt"
      },
      "source": [
        "### 1.8 Tokenización"
      ]
    },
    {
      "cell_type": "code",
      "execution_count": 74,
      "metadata": {
        "id": "Sn5pEtXNmPst"
      },
      "outputs": [],
      "source": [
        "def stanza_tokenization_words(text):\n",
        "    doc = nlp_stanza(text)\n",
        "    return [word.text for sent in doc.sentences for word in sent.words]"
      ]
    },
    {
      "cell_type": "code",
      "execution_count": 75,
      "metadata": {},
      "outputs": [],
      "source": [
        "def stanza_tokenization_sentences(text):\n",
        "    \"\"\"\n",
        "    Tokenize text into words using Stanza (Spanish).\n",
        "    Returns: list of tokens per sentence (nested list).\n",
        "    \"\"\"\n",
        "    doc = nlp_stanza(text)\n",
        "    return [[word.text for word in sent.words] for sent in doc.sentences]"
      ]
    },
    {
      "cell_type": "markdown",
      "metadata": {
        "id": "TraDEOSFk11t"
      },
      "source": [
        "### 1.9 Eliminación de stop words"
      ]
    },
    {
      "cell_type": "code",
      "execution_count": 76,
      "metadata": {
        "id": "VLCO3NhZoYed"
      },
      "outputs": [],
      "source": [
        "# --- Function for spaCy ---\n",
        "def remove_stopwords_spacy(text):\n",
        "    \"\"\"\n",
        "    Return Spanish text without stop words using spaCy\n",
        "    \"\"\"\n",
        "    nlp = spacy.load(\"es_core_news_sm\")\n",
        "    doc = nlp(text)\n",
        "    filtered = [token.text for token in doc if not token.is_stop]\n",
        "    return \" \".join(filtered)"
      ]
    },
    {
      "cell_type": "markdown",
      "metadata": {
        "id": "HRKs7HlYlDy-"
      },
      "source": [
        "### 1.10 Lematización"
      ]
    },
    {
      "cell_type": "code",
      "execution_count": 82,
      "metadata": {
        "id": "9MOHa4LSoeT2"
      },
      "outputs": [],
      "source": [
        "def lemmatize_with_stanza(text):\n",
        "    \"\"\"\n",
        "    Lemmatize text using Stanza (Spanish pipeline).\n",
        "    Returns a flat list of lemmas.\n",
        "    \"\"\"\n",
        "    doc = nlp_stanza(text)\n",
        "    return [word.lemma for sent in doc.sentences for word in sent.words]\n"
      ]
    },
    {
      "cell_type": "code",
      "execution_count": 83,
      "metadata": {},
      "outputs": [],
      "source": [
        "def lemmatize_with_stanza_sentences(text):\n",
        "    \"\"\"\n",
        "    Lemmatize text using Stanza.\n",
        "    Splits into sentences and returns list of lists of lemmas.\n",
        "    \"\"\"\n",
        "    doc = nlp_stanza(text)\n",
        "    \n",
        "    lemmatized_sentences = []\n",
        "    for sent in doc.sentences:\n",
        "        lemmas = [word.lemma for word in sent.words]\n",
        "        lemmatized_sentences.append(lemmas)\n",
        "    \n",
        "    return lemmatized_sentences\n"
      ]
    },
    {
      "cell_type": "markdown",
      "metadata": {
        "id": "EcVknMrNlHvE"
      },
      "source": [
        "### 1.11 Stemming"
      ]
    },
    {
      "cell_type": "code",
      "execution_count": null,
      "metadata": {
        "id": "S6Vmn6dAogel"
      },
      "outputs": [],
      "source": [
        "# --- Function 2: Stemming with NLTK ---\n",
        "def stem_spanish(text):\n",
        "    \"\"\"\n",
        "    Stem Spanish text (no stopword removal)\n",
        "    \"\"\"\n",
        "    stemmer = SnowballStemmer(\"spanish\")\n",
        "    tokens = nltk.word_tokenize(text, language=\"spanish\")\n",
        "    stems = [stemmer.stem(word) for word in tokens if word.isalpha()]\n",
        "    return stems"
      ]
    },
    {
      "cell_type": "markdown",
      "metadata": {
        "id": "0p21Or9ulLt9"
      },
      "source": [
        "### 1.12 Identificar NERs"
      ]
    },
    {
      "cell_type": "code",
      "execution_count": null,
      "metadata": {
        "id": "ezgeG7kvoz6c"
      },
      "outputs": [],
      "source": [
        "def apply_ner(text):\n",
        "    sentence = Sentence(text)\n",
        "    tagger.predict(sentence)\n",
        "    entities = [(entity.text, entity.labels[0].value) for entity in sentence.get_spans('ner')]\n",
        "    return entities"
      ]
    },
    {
      "cell_type": "markdown",
      "metadata": {
        "id": "Mqc6pmfklSHt"
      },
      "source": [
        "### 1.13 Procedimiento de Textos"
      ]
    },
    {
      "cell_type": "code",
      "execution_count": null,
      "metadata": {},
      "outputs": [],
      "source": [
        "def text_processing_pipeline_words(text):\n",
        "    text_unicode = unicodeTransformation(text, \"NFKD\")\n",
        "\n",
        "    text_cleaned = extract_text_without_unwanted_elements(text_unicode)\n",
        "\n",
        "    text_lower_case = convertToLowerCase(text_cleaned)\n",
        "\n",
        "    text_without_stop_words = remove_stopwords_spacy(text_lower_case)\n",
        "\n",
        "    tokens = stanza_tokenization_words(text_without_stop_words)\n",
        "    \n",
        "    lammes = lemmatize_with_stanza(' '.join(tokens))\n",
        "    \n",
        "    return ' '.join(lammes)"
      ]
    },
    {
      "cell_type": "code",
      "execution_count": 84,
      "metadata": {},
      "outputs": [],
      "source": [
        "def text_processing_pipeline_sentences(text):\n",
        "    # Step 1: Unicode normalization\n",
        "    text_unicode = unicodeTransformation(text, \"NFKD\")\n",
        "\n",
        "    # Step 2: Clean unwanted elements\n",
        "    text_cleaned = extract_text_without_unwanted_elements_sentences(text_unicode)\n",
        "\n",
        "    # Step 3: Lowercase\n",
        "    text_lower_case = convertToLowerCase(text_cleaned)\n",
        "\n",
        "    # Step 4: Remove stopwords\n",
        "    text_without_stop_words = remove_stopwords_spacy(text_lower_case)\n",
        "\n",
        "    # Step 5: Lemmatization with Stanza (handles sentence + word tokenization itself)\n",
        "    lemmatized_sentences = lemmatize_with_stanza_sentences(text_without_stop_words)\n",
        "\n",
        "    return lemmatized_sentences"
      ]
    },
    {
      "cell_type": "markdown",
      "metadata": {},
      "source": [
        "### 1.14 Ejecutar Limpieza"
      ]
    },
    {
      "cell_type": "code",
      "execution_count": null,
      "metadata": {},
      "outputs": [],
      "source": [
        "gabriel_garcia_marquez_text = docx2txt.process(\"texts/Discuros Gabriel García Marquez.docx\")\n",
        "albert_camus_text = docx2txt.process(\"texts/Discurso Albert Camus.docx\")\n",
        "bob_dylan_text = docx2txt.process(\"texts/Discurso Bob Dylan.docx\")\n",
        "vargas_llosa_text = docx2txt.process(\"texts/Discurso Vargas Llosa.docx\")"
      ]
    },
    {
      "cell_type": "code",
      "execution_count": null,
      "metadata": {},
      "outputs": [
        {
          "name": "stdout",
          "output_type": "stream",
          "text": [
            "2025-09-10 20:58:19,908 SequenceTagger predicts: Dictionary with 53 tags: <unk>, O, UH, ,, VBD, PRP, VB, PRP$, NN, RB, ., DT, JJ, VBP, VBG, IN, CD, NNS, NNP, WRB, VBZ, WDT, CC, TO, MD, VBN, WP, :, RP, EX, JJR, FW, XX, HYPH, POS, RBR, JJS, PDT, NNPS, RBS, AFX, WP$, -LRB-, -RRB-, ``, '', LS, $, SYM, ADD\n"
          ]
        }
      ],
      "source": [
        "gabriel_garcia_marquez_lammes = text_processing_pipeline_words(gabriel_garcia_marquez_text)"
      ]
    },
    {
      "cell_type": "code",
      "execution_count": null,
      "metadata": {},
      "outputs": [
        {
          "name": "stdout",
          "output_type": "stream",
          "text": [
            "2025-09-10 20:58:40,264 SequenceTagger predicts: Dictionary with 53 tags: <unk>, O, UH, ,, VBD, PRP, VB, PRP$, NN, RB, ., DT, JJ, VBP, VBG, IN, CD, NNS, NNP, WRB, VBZ, WDT, CC, TO, MD, VBN, WP, :, RP, EX, JJR, FW, XX, HYPH, POS, RBR, JJS, PDT, NNPS, RBS, AFX, WP$, -LRB-, -RRB-, ``, '', LS, $, SYM, ADD\n"
          ]
        }
      ],
      "source": [
        "albert_camus_lammes = text_processing_pipeline_words(albert_camus_text)"
      ]
    },
    {
      "cell_type": "code",
      "execution_count": null,
      "metadata": {},
      "outputs": [
        {
          "name": "stdout",
          "output_type": "stream",
          "text": [
            "2025-09-10 20:58:51,193 SequenceTagger predicts: Dictionary with 53 tags: <unk>, O, UH, ,, VBD, PRP, VB, PRP$, NN, RB, ., DT, JJ, VBP, VBG, IN, CD, NNS, NNP, WRB, VBZ, WDT, CC, TO, MD, VBN, WP, :, RP, EX, JJR, FW, XX, HYPH, POS, RBR, JJS, PDT, NNPS, RBS, AFX, WP$, -LRB-, -RRB-, ``, '', LS, $, SYM, ADD\n"
          ]
        }
      ],
      "source": [
        "bob_dylan_lammes = text_processing_pipeline_words(bob_dylan_text)"
      ]
    },
    {
      "cell_type": "code",
      "execution_count": null,
      "metadata": {},
      "outputs": [
        {
          "name": "stdout",
          "output_type": "stream",
          "text": [
            "2025-09-10 20:59:33,401 SequenceTagger predicts: Dictionary with 53 tags: <unk>, O, UH, ,, VBD, PRP, VB, PRP$, NN, RB, ., DT, JJ, VBP, VBG, IN, CD, NNS, NNP, WRB, VBZ, WDT, CC, TO, MD, VBN, WP, :, RP, EX, JJR, FW, XX, HYPH, POS, RBR, JJS, PDT, NNPS, RBS, AFX, WP$, -LRB-, -RRB-, ``, '', LS, $, SYM, ADD\n"
          ]
        }
      ],
      "source": [
        "vargas_llosa_lammes = text_processing_pipeline_words(vargas_llosa_text)"
      ]
    },
    {
      "cell_type": "code",
      "execution_count": null,
      "metadata": {},
      "outputs": [],
      "source": [
        "gabriel_garcia_marquez_sentences = text_processing_pipeline_sentences(albert_camus_text)"
      ]
    },
    {
      "cell_type": "code",
      "execution_count": 90,
      "metadata": {},
      "outputs": [],
      "source": [
        "albert_camus_sentences = text_processing_pipeline_sentences(gabriel_garcia_marquez_text)"
      ]
    },
    {
      "cell_type": "code",
      "execution_count": 91,
      "metadata": {},
      "outputs": [],
      "source": [
        "bob_dylan_sentences = text_processing_pipeline_sentences(bob_dylan_text)"
      ]
    },
    {
      "cell_type": "code",
      "execution_count": 92,
      "metadata": {},
      "outputs": [],
      "source": [
        "vargas_llosa_sentences = text_processing_pipeline_sentences(vargas_llosa_text)"
      ]
    },
    {
      "cell_type": "markdown",
      "metadata": {},
      "source": [
        "## 2. Vectorización"
      ]
    },
    {
      "cell_type": "markdown",
      "metadata": {},
      "source": [
        "### 2.1 Vectorización con TF-IDF"
      ]
    },
    {
      "cell_type": "code",
      "execution_count": 93,
      "metadata": {},
      "outputs": [],
      "source": [
        "docs = [\n",
        "    gabriel_garcia_marquez_lammes,\n",
        "    albert_camus_lammes,\n",
        "    bob_dylan_lammes,\n",
        "    vargas_llosa_lammes\n",
        "]"
      ]
    },
    {
      "cell_type": "code",
      "execution_count": 94,
      "metadata": {},
      "outputs": [],
      "source": [
        "# TF-IDF Vectorizer (Spanish stopwords optional)\n",
        "vectorizer = TfidfVectorizer(stop_words=None)  # or provide custom list\n",
        "X = vectorizer.fit_transform(docs)"
      ]
    },
    {
      "cell_type": "markdown",
      "metadata": {
        "id": "iQDAYfssl0qe"
      },
      "source": [
        "### 2.2 Vectorización con GloVe"
      ]
    },
    {
      "cell_type": "code",
      "execution_count": 95,
      "metadata": {},
      "outputs": [
        {
          "name": "stdout",
          "output_type": "stream",
          "text": [
            "✅ File already exists (949886421 bytes). No download needed.\n"
          ]
        }
      ],
      "source": [
        "url = \"http://dcc.uchile.cl/~jperez/word-embeddings/glove-sbwc.i25.vec.gz\"\n",
        "local_path = \"glove-sbwc.i25.vec.gz\"\n",
        "\n",
        "if not os.path.exists(local_path) or os.path.getsize(local_path) == 0:\n",
        "    print(f\"Downloading {local_path} ...\")\n",
        "    response = requests.get(url, stream=True)\n",
        "    response.raise_for_status()\n",
        "    \n",
        "    total_size = int(response.headers.get(\"content-length\", 0))\n",
        "    block_size = 1024  # 1 KB\n",
        "    \n",
        "    with open(local_path, \"wb\") as file, tqdm(\n",
        "        total=total_size, unit=\"iB\", unit_scale=True\n",
        "    ) as bar:\n",
        "        for chunk in response.iter_content(block_size):\n",
        "            file.write(chunk)\n",
        "            bar.update(len(chunk))\n",
        "    \n",
        "    print(\"✅ Download complete.\")\n",
        "else:\n",
        "    print(f\"✅ File already exists ({os.path.getsize(local_path)} bytes). No download needed.\")"
      ]
    },
    {
      "cell_type": "code",
      "execution_count": 96,
      "metadata": {},
      "outputs": [],
      "source": [
        "# Step 2: Load embeddings into a dictionary (only the words we care about)\n",
        "def load_embeddings(file_path, vocab=None):\n",
        "    embeddings = {}\n",
        "    with gzip.open(file_path, \"rt\", encoding=\"utf-8\") as f:\n",
        "        for line in f:\n",
        "            parts = line.strip().split()\n",
        "            word = parts[0]\n",
        "            if vocab is None or word in vocab:\n",
        "                try:\n",
        "                    vector = list(map(float, parts[1:]))\n",
        "                    embeddings[word] = vector\n",
        "                except ValueError:\n",
        "                    continue\n",
        "    return embeddings"
      ]
    },
    {
      "cell_type": "code",
      "execution_count": null,
      "metadata": {},
      "outputs": [],
      "source": [
        "gabriel_garcia_marquez_lamme_tokens = gabriel_garcia_marquez_lammes.split()"
      ]
    },
    {
      "cell_type": "code",
      "execution_count": null,
      "metadata": {},
      "outputs": [],
      "source": [
        "albert_camus_lamme_tokens = albert_camus_lammes.split()"
      ]
    },
    {
      "cell_type": "code",
      "execution_count": null,
      "metadata": {},
      "outputs": [],
      "source": [
        "bob_dylan_lamme_tokens = bob_dylan_lammes.split()"
      ]
    },
    {
      "cell_type": "code",
      "execution_count": null,
      "metadata": {},
      "outputs": [],
      "source": [
        "vargas_llosa_lamme_tokens = vargas_llosa_lammes.split()"
      ]
    },
    {
      "cell_type": "code",
      "execution_count": null,
      "metadata": {},
      "outputs": [],
      "source": [
        "# Step 3: Load embeddings only for these tokens\n",
        "gabriel_garcia_marquez_vocab = set(gabriel_garcia_marquez_lamme_tokens)\n",
        "gabriel_garcia_marquez_vocab_embeddings = load_embeddings(local_path, gabriel_garcia_marquez_vocab)"
      ]
    },
    {
      "cell_type": "code",
      "execution_count": null,
      "metadata": {},
      "outputs": [],
      "source": [
        "albert_camus_vocab = set(albert_camus_lamme_tokens)\n",
        "albert_camus_embeddings = load_embeddings(local_path, albert_camus_vocab)"
      ]
    },
    {
      "cell_type": "code",
      "execution_count": null,
      "metadata": {},
      "outputs": [],
      "source": [
        "bob_dylan_vocab = set(bob_dylan_lamme_tokens)\n",
        "bob_dylan_embeddings = load_embeddings(local_path, bob_dylan_vocab)"
      ]
    },
    {
      "cell_type": "code",
      "execution_count": null,
      "metadata": {},
      "outputs": [],
      "source": [
        "vargas_llosa_vocab = set(vargas_llosa_lamme_tokens)\n",
        "vargas_llosa_embeddings = load_embeddings(local_path, vargas_llosa_vocab)"
      ]
    },
    {
      "cell_type": "code",
      "execution_count": null,
      "metadata": {},
      "outputs": [],
      "source": [
        "# Step 4: Vectorize text (average embedding)\n",
        "def vectorize_text(tokens, embeddings):\n",
        "    vecs = [embeddings[word] for word in tokens if word in embeddings]\n",
        "    if not vecs:\n",
        "        return np.zeros(25)  # fallback if no embeddings found\n",
        "    return np.mean(vecs, axis=0)"
      ]
    },
    {
      "cell_type": "code",
      "execution_count": null,
      "metadata": {},
      "outputs": [
        {
          "name": "stdout",
          "output_type": "stream",
          "text": [
            "Vector shape: (300,)\n",
            "Vector (first 5 dims): [-0.01470105  0.03982766 -0.00598356 -0.00013167  0.03406841]\n"
          ]
        }
      ],
      "source": [
        "gabriel_garcia_marquez_vector = vectorize_text(gabriel_garcia_marquez_lamme_tokens, gabriel_garcia_marquez_vocab_embeddings)\n",
        "\n",
        "print(\"Vector shape:\", gabriel_garcia_marquez_vector.shape)\n",
        "print(\"Vector (first 5 dims):\", gabriel_garcia_marquez_vector[:5])"
      ]
    },
    {
      "cell_type": "code",
      "execution_count": null,
      "metadata": {},
      "outputs": [
        {
          "name": "stdout",
          "output_type": "stream",
          "text": [
            "Vector shape: (300,)\n",
            "Vector (first 5 dims): [-0.07566411  0.08753591 -0.00210951  0.03758463 -0.00879787]\n"
          ]
        }
      ],
      "source": [
        "albert_camus_vector = vectorize_text(albert_camus_lamme_tokens, albert_camus_embeddings)\n",
        "\n",
        "print(\"Vector shape:\", albert_camus_vector.shape)\n",
        "print(\"Vector (first 5 dims):\", albert_camus_vector[:5])"
      ]
    },
    {
      "cell_type": "code",
      "execution_count": null,
      "metadata": {},
      "outputs": [
        {
          "name": "stdout",
          "output_type": "stream",
          "text": [
            "Vector shape: (300,)\n",
            "Vector (first 5 dims): [-0.02437542  0.12023954  0.03665135  0.07913365  0.12269059]\n"
          ]
        }
      ],
      "source": [
        "bob_dylan_vector = vectorize_text(bob_dylan_lamme_tokens, bob_dylan_embeddings)\n",
        "\n",
        "print(\"Vector shape:\", bob_dylan_vector.shape)\n",
        "print(\"Vector (first 5 dims):\", bob_dylan_vector[:5])"
      ]
    },
    {
      "cell_type": "code",
      "execution_count": null,
      "metadata": {},
      "outputs": [
        {
          "name": "stdout",
          "output_type": "stream",
          "text": [
            "Vector shape: (300,)\n",
            "Vector (first 5 dims): [-0.05418063  0.08038231 -0.02178696  0.02122399  0.04492896]\n"
          ]
        }
      ],
      "source": [
        "vargas_llosa_vector = vectorize_text(vargas_llosa_lamme_tokens, vargas_llosa_embeddings)\n",
        "\n",
        "print(\"Vector shape:\", vargas_llosa_vector.shape)\n",
        "print(\"Vector (first 5 dims):\", vargas_llosa_vector[:5])"
      ]
    },
    {
      "cell_type": "markdown",
      "metadata": {
        "id": "rLXA_HPul4Wk"
      },
      "source": [
        "### 2.3 Vectorización con Word2Vec"
      ]
    },
    {
      "cell_type": "code",
      "execution_count": null,
      "metadata": {},
      "outputs": [],
      "source": [
        "gabriel_garcia_marquez_sentences\n",
        "albert_camus_sentences\n",
        "bob_dylan_sentences\n",
        "vargas_llosa_sentences"
      ]
    },
    {
      "cell_type": "code",
      "execution_count": 97,
      "metadata": {},
      "outputs": [],
      "source": [
        "# Train Word2Vec model\n",
        "model = Word2Vec(\n",
        "    gabriel_garcia_marquez_sentences,\n",
        "    vector_size=25,   # embedding size (can be 25, 50, 100…)\n",
        "    window=5,         # context window\n",
        "    min_count=1,      # keep all words\n",
        "    workers=4,\n",
        "    sg=1              # 1 = skip-gram, 0 = CBOW\n",
        ")"
      ]
    },
    {
      "cell_type": "code",
      "execution_count": 101,
      "metadata": {},
      "outputs": [
        {
          "name": "stdout",
          "output_type": "stream",
          "text": [
            "Vector for 'soledad':\n",
            "[ 0.01351639 -0.03284274  0.03206305  0.03240193 -0.03818129  0.00933546\n",
            "  0.04025585 -0.02815499 -0.03081796 -0.03304289  0.03578829 -0.003574\n",
            "  0.03733782 -0.03046647  0.01359323  0.0143363   0.00197631  0.00990706\n",
            " -0.03351754 -0.03601529  0.00985445  0.0251933   0.03260829  0.02194987\n",
            " -0.0016914 ]\n",
            "\n",
            "Most similar to 'soledad':\n",
            "[('cambio', 0.6847589015960693), ('hijo', 0.5102234482765198), ('escribir', 0.505395233631134), ('él', 0.4928467869758606), ('distancia', 0.48601725697517395), ('persona', 0.47745034098625183), ('discurso', 0.47743070125579834), ('virtud', 0.4653416872024536), ('imponer', 0.46123090386390686), ('.', 0.458726167678833)]\n"
          ]
        }
      ],
      "source": [
        "# Example: get vector for a word\n",
        "print(\"Vector for 'soledad':\")\n",
        "print(model.wv['soledad'])\n",
        "\n",
        "# Example: find most similar words\n",
        "print(\"\\nMost similar to 'soledad':\")\n",
        "print(model.wv.most_similar('soledad'))"
      ]
    },
    {
      "cell_type": "code",
      "execution_count": null,
      "metadata": {},
      "outputs": [],
      "source": []
    },
    {
      "cell_type": "markdown",
      "metadata": {},
      "source": [
        "## Implementar técnicas de N-grams"
      ]
    }
  ],
  "metadata": {
    "colab": {
      "provenance": []
    },
    "kernelspec": {
      "display_name": "env",
      "language": "python",
      "name": "python3"
    },
    "language_info": {
      "codemirror_mode": {
        "name": "ipython",
        "version": 3
      },
      "file_extension": ".py",
      "mimetype": "text/x-python",
      "name": "python",
      "nbconvert_exporter": "python",
      "pygments_lexer": "ipython3",
      "version": "3.11.5"
    },
    "widgets": {
      "application/vnd.jupyter.widget-state+json": {
        "007f10afd122469cb083fb84e7d004b3": {
          "model_module": "@jupyter-widgets/controls",
          "model_module_version": "1.5.0",
          "model_name": "HTMLModel",
          "state": {
            "_dom_classes": [],
            "_model_module": "@jupyter-widgets/controls",
            "_model_module_version": "1.5.0",
            "_model_name": "HTMLModel",
            "_view_count": null,
            "_view_module": "@jupyter-widgets/controls",
            "_view_module_version": "1.5.0",
            "_view_name": "HTMLView",
            "description": "",
            "description_tooltip": null,
            "layout": "IPY_MODEL_4c96befd880440fca6ac1d7740b7ca75",
            "placeholder": "​",
            "style": "IPY_MODEL_4a99a3b937a94d898676da7b0b44c01f",
            "value": " 364/364 [00:00&lt;00:00, 26.4kB/s]"
          }
        },
        "02025d4aee4747e1a5af1fca368d023f": {
          "model_module": "@jupyter-widgets/controls",
          "model_module_version": "1.5.0",
          "model_name": "DescriptionStyleModel",
          "state": {
            "_model_module": "@jupyter-widgets/controls",
            "_model_module_version": "1.5.0",
            "_model_name": "DescriptionStyleModel",
            "_view_count": null,
            "_view_module": "@jupyter-widgets/base",
            "_view_module_version": "1.2.0",
            "_view_name": "StyleView",
            "description_width": ""
          }
        },
        "036fe75b89ba48738a2be78cb266550b": {
          "model_module": "@jupyter-widgets/controls",
          "model_module_version": "1.5.0",
          "model_name": "FloatProgressModel",
          "state": {
            "_dom_classes": [],
            "_model_module": "@jupyter-widgets/controls",
            "_model_module_version": "1.5.0",
            "_model_name": "FloatProgressModel",
            "_view_count": null,
            "_view_module": "@jupyter-widgets/controls",
            "_view_module_version": "1.5.0",
            "_view_name": "ProgressView",
            "bar_style": "success",
            "description": "",
            "description_tooltip": null,
            "layout": "IPY_MODEL_24384a70f5524740b8cb7b9aeb6045ef",
            "max": 648,
            "min": 0,
            "orientation": "horizontal",
            "style": "IPY_MODEL_48c04366d31d4f3e98ee76030b66a915",
            "value": 648
          }
        },
        "09603f605b4b45908ecec5bbc798aedb": {
          "model_module": "@jupyter-widgets/controls",
          "model_module_version": "1.5.0",
          "model_name": "HTMLModel",
          "state": {
            "_dom_classes": [],
            "_model_module": "@jupyter-widgets/controls",
            "_model_module_version": "1.5.0",
            "_model_name": "HTMLModel",
            "_view_count": null,
            "_view_module": "@jupyter-widgets/controls",
            "_view_module_version": "1.5.0",
            "_view_name": "HTMLView",
            "description": "",
            "description_tooltip": null,
            "layout": "IPY_MODEL_c3f405be35f7488993bb2dde63a73ed5",
            "placeholder": "​",
            "style": "IPY_MODEL_bd9b73379ebd4498a97468879693e9be",
            "value": " 242k/? [00:00&lt;00:00, 10.8MB/s]"
          }
        },
        "0c427dec66274d7c8d9f81605baf88f0": {
          "model_module": "@jupyter-widgets/base",
          "model_module_version": "1.2.0",
          "model_name": "LayoutModel",
          "state": {
            "_model_module": "@jupyter-widgets/base",
            "_model_module_version": "1.2.0",
            "_model_name": "LayoutModel",
            "_view_count": null,
            "_view_module": "@jupyter-widgets/base",
            "_view_module_version": "1.2.0",
            "_view_name": "LayoutView",
            "align_content": null,
            "align_items": null,
            "align_self": null,
            "border": null,
            "bottom": null,
            "display": null,
            "flex": null,
            "flex_flow": null,
            "grid_area": null,
            "grid_auto_columns": null,
            "grid_auto_flow": null,
            "grid_auto_rows": null,
            "grid_column": null,
            "grid_gap": null,
            "grid_row": null,
            "grid_template_areas": null,
            "grid_template_columns": null,
            "grid_template_rows": null,
            "height": null,
            "justify_content": null,
            "justify_items": null,
            "left": null,
            "margin": null,
            "max_height": null,
            "max_width": null,
            "min_height": null,
            "min_width": null,
            "object_fit": null,
            "object_position": null,
            "order": null,
            "overflow": null,
            "overflow_x": null,
            "overflow_y": null,
            "padding": null,
            "right": null,
            "top": null,
            "visibility": null,
            "width": "20px"
          }
        },
        "0cfd8a325383451d8adc1d798a06eb8c": {
          "model_module": "@jupyter-widgets/controls",
          "model_module_version": "1.5.0",
          "model_name": "HTMLModel",
          "state": {
            "_dom_classes": [],
            "_model_module": "@jupyter-widgets/controls",
            "_model_module_version": "1.5.0",
            "_model_name": "HTMLModel",
            "_view_count": null,
            "_view_module": "@jupyter-widgets/controls",
            "_view_module_version": "1.5.0",
            "_view_name": "HTMLView",
            "description": "",
            "description_tooltip": null,
            "layout": "IPY_MODEL_269d11ffdbfc41e5aba58855911cac5d",
            "placeholder": "​",
            "style": "IPY_MODEL_d15f9f58ee044d38a97ec19a440f9dcf",
            "value": "special_tokens_map.json: 100%"
          }
        },
        "13abbe47630b446f8a9018a33623b52d": {
          "model_module": "@jupyter-widgets/controls",
          "model_module_version": "1.5.0",
          "model_name": "HBoxModel",
          "state": {
            "_dom_classes": [],
            "_model_module": "@jupyter-widgets/controls",
            "_model_module_version": "1.5.0",
            "_model_name": "HBoxModel",
            "_view_count": null,
            "_view_module": "@jupyter-widgets/controls",
            "_view_module_version": "1.5.0",
            "_view_name": "HBoxView",
            "box_style": "",
            "children": [
              "IPY_MODEL_0cfd8a325383451d8adc1d798a06eb8c",
              "IPY_MODEL_6e0c0aa3bd9645778215523e6257e360",
              "IPY_MODEL_d16fb6b9124f458d878b49863c676a97"
            ],
            "layout": "IPY_MODEL_983224230e7e420a970caa2d36dba553"
          }
        },
        "17256e4f880e417e8153e2f6196c5d29": {
          "model_module": "@jupyter-widgets/controls",
          "model_module_version": "1.5.0",
          "model_name": "DescriptionStyleModel",
          "state": {
            "_model_module": "@jupyter-widgets/controls",
            "_model_module_version": "1.5.0",
            "_model_name": "DescriptionStyleModel",
            "_view_count": null,
            "_view_module": "@jupyter-widgets/base",
            "_view_module_version": "1.2.0",
            "_view_name": "StyleView",
            "description_width": ""
          }
        },
        "17843ba97a9944e6b4a0c2b2ac58ab3e": {
          "model_module": "@jupyter-widgets/controls",
          "model_module_version": "1.5.0",
          "model_name": "ProgressStyleModel",
          "state": {
            "_model_module": "@jupyter-widgets/controls",
            "_model_module_version": "1.5.0",
            "_model_name": "ProgressStyleModel",
            "_view_count": null,
            "_view_module": "@jupyter-widgets/base",
            "_view_module_version": "1.2.0",
            "_view_name": "StyleView",
            "bar_color": null,
            "description_width": ""
          }
        },
        "1982dafe5491425a82d2215e70f33c95": {
          "model_module": "@jupyter-widgets/controls",
          "model_module_version": "1.5.0",
          "model_name": "ProgressStyleModel",
          "state": {
            "_model_module": "@jupyter-widgets/controls",
            "_model_module_version": "1.5.0",
            "_model_name": "ProgressStyleModel",
            "_view_count": null,
            "_view_module": "@jupyter-widgets/base",
            "_view_module_version": "1.2.0",
            "_view_name": "StyleView",
            "bar_color": null,
            "description_width": ""
          }
        },
        "1ac5ef2754604d33a9b13a12233b555f": {
          "model_module": "@jupyter-widgets/controls",
          "model_module_version": "1.5.0",
          "model_name": "HTMLModel",
          "state": {
            "_dom_classes": [],
            "_model_module": "@jupyter-widgets/controls",
            "_model_module_version": "1.5.0",
            "_model_name": "HTMLModel",
            "_view_count": null,
            "_view_module": "@jupyter-widgets/controls",
            "_view_module_version": "1.5.0",
            "_view_name": "HTMLView",
            "description": "",
            "description_tooltip": null,
            "layout": "IPY_MODEL_facdcdb1ce2842b0a43b8d28e0ed717a",
            "placeholder": "​",
            "style": "IPY_MODEL_8be8fde9fa784641bd001d922bd7faa6",
            "value": "tokenizer.json: "
          }
        },
        "1b8e2f71b38343759380cc9c9166354f": {
          "model_module": "@jupyter-widgets/base",
          "model_module_version": "1.2.0",
          "model_name": "LayoutModel",
          "state": {
            "_model_module": "@jupyter-widgets/base",
            "_model_module_version": "1.2.0",
            "_model_name": "LayoutModel",
            "_view_count": null,
            "_view_module": "@jupyter-widgets/base",
            "_view_module_version": "1.2.0",
            "_view_name": "LayoutView",
            "align_content": null,
            "align_items": null,
            "align_self": null,
            "border": null,
            "bottom": null,
            "display": null,
            "flex": null,
            "flex_flow": null,
            "grid_area": null,
            "grid_auto_columns": null,
            "grid_auto_flow": null,
            "grid_auto_rows": null,
            "grid_column": null,
            "grid_gap": null,
            "grid_row": null,
            "grid_template_areas": null,
            "grid_template_columns": null,
            "grid_template_rows": null,
            "height": null,
            "justify_content": null,
            "justify_items": null,
            "left": null,
            "margin": null,
            "max_height": null,
            "max_width": null,
            "min_height": null,
            "min_width": null,
            "object_fit": null,
            "object_position": null,
            "order": null,
            "overflow": null,
            "overflow_x": null,
            "overflow_y": null,
            "padding": null,
            "right": null,
            "top": null,
            "visibility": null,
            "width": null
          }
        },
        "1db7bd99e8b94bca9db986aaeb3fb6c3": {
          "model_module": "@jupyter-widgets/controls",
          "model_module_version": "1.5.0",
          "model_name": "DescriptionStyleModel",
          "state": {
            "_model_module": "@jupyter-widgets/controls",
            "_model_module_version": "1.5.0",
            "_model_name": "DescriptionStyleModel",
            "_view_count": null,
            "_view_module": "@jupyter-widgets/base",
            "_view_module_version": "1.2.0",
            "_view_name": "StyleView",
            "description_width": ""
          }
        },
        "1e845f15cd014d699f8946fcacda231d": {
          "model_module": "@jupyter-widgets/controls",
          "model_module_version": "1.5.0",
          "model_name": "HTMLModel",
          "state": {
            "_dom_classes": [],
            "_model_module": "@jupyter-widgets/controls",
            "_model_module_version": "1.5.0",
            "_model_name": "HTMLModel",
            "_view_count": null,
            "_view_module": "@jupyter-widgets/controls",
            "_view_module_version": "1.5.0",
            "_view_name": "HTMLView",
            "description": "",
            "description_tooltip": null,
            "layout": "IPY_MODEL_f1fbd6a1f6144c7ab710b013a60b8885",
            "placeholder": "​",
            "style": "IPY_MODEL_8c17d7dda4bf49f1acde1c9276cfbfbe",
            "value": "Downloading https://huggingface.co/stanfordnlp/stanza-es/resolve/v1.10.0/models/default.zip: 100%"
          }
        },
        "1f2307b6e11446568e51ede0f64c49ce": {
          "model_module": "@jupyter-widgets/controls",
          "model_module_version": "1.5.0",
          "model_name": "ProgressStyleModel",
          "state": {
            "_model_module": "@jupyter-widgets/controls",
            "_model_module_version": "1.5.0",
            "_model_name": "ProgressStyleModel",
            "_view_count": null,
            "_view_module": "@jupyter-widgets/base",
            "_view_module_version": "1.2.0",
            "_view_name": "StyleView",
            "bar_color": null,
            "description_width": ""
          }
        },
        "237b9ddd459a4c1aa54ed5d238f06151": {
          "model_module": "@jupyter-widgets/controls",
          "model_module_version": "1.5.0",
          "model_name": "FloatProgressModel",
          "state": {
            "_dom_classes": [],
            "_model_module": "@jupyter-widgets/controls",
            "_model_module_version": "1.5.0",
            "_model_name": "FloatProgressModel",
            "_view_count": null,
            "_view_module": "@jupyter-widgets/controls",
            "_view_module_version": "1.5.0",
            "_view_name": "ProgressView",
            "bar_style": "success",
            "description": "",
            "description_tooltip": null,
            "layout": "IPY_MODEL_a77634183333439295cfddb548b9314e",
            "max": 53583,
            "min": 0,
            "orientation": "horizontal",
            "style": "IPY_MODEL_17843ba97a9944e6b4a0c2b2ac58ab3e",
            "value": 53583
          }
        },
        "24060a7dbccf4f69a3cf9440d0481a17": {
          "model_module": "@jupyter-widgets/base",
          "model_module_version": "1.2.0",
          "model_name": "LayoutModel",
          "state": {
            "_model_module": "@jupyter-widgets/base",
            "_model_module_version": "1.2.0",
            "_model_name": "LayoutModel",
            "_view_count": null,
            "_view_module": "@jupyter-widgets/base",
            "_view_module_version": "1.2.0",
            "_view_name": "LayoutView",
            "align_content": null,
            "align_items": null,
            "align_self": null,
            "border": null,
            "bottom": null,
            "display": null,
            "flex": null,
            "flex_flow": null,
            "grid_area": null,
            "grid_auto_columns": null,
            "grid_auto_flow": null,
            "grid_auto_rows": null,
            "grid_column": null,
            "grid_gap": null,
            "grid_row": null,
            "grid_template_areas": null,
            "grid_template_columns": null,
            "grid_template_rows": null,
            "height": null,
            "justify_content": null,
            "justify_items": null,
            "left": null,
            "margin": null,
            "max_height": null,
            "max_width": null,
            "min_height": null,
            "min_width": null,
            "object_fit": null,
            "object_position": null,
            "order": null,
            "overflow": null,
            "overflow_x": null,
            "overflow_y": null,
            "padding": null,
            "right": null,
            "top": null,
            "visibility": null,
            "width": null
          }
        },
        "24384a70f5524740b8cb7b9aeb6045ef": {
          "model_module": "@jupyter-widgets/base",
          "model_module_version": "1.2.0",
          "model_name": "LayoutModel",
          "state": {
            "_model_module": "@jupyter-widgets/base",
            "_model_module_version": "1.2.0",
            "_model_name": "LayoutModel",
            "_view_count": null,
            "_view_module": "@jupyter-widgets/base",
            "_view_module_version": "1.2.0",
            "_view_name": "LayoutView",
            "align_content": null,
            "align_items": null,
            "align_self": null,
            "border": null,
            "bottom": null,
            "display": null,
            "flex": null,
            "flex_flow": null,
            "grid_area": null,
            "grid_auto_columns": null,
            "grid_auto_flow": null,
            "grid_auto_rows": null,
            "grid_column": null,
            "grid_gap": null,
            "grid_row": null,
            "grid_template_areas": null,
            "grid_template_columns": null,
            "grid_template_rows": null,
            "height": null,
            "justify_content": null,
            "justify_items": null,
            "left": null,
            "margin": null,
            "max_height": null,
            "max_width": null,
            "min_height": null,
            "min_width": null,
            "object_fit": null,
            "object_position": null,
            "order": null,
            "overflow": null,
            "overflow_x": null,
            "overflow_y": null,
            "padding": null,
            "right": null,
            "top": null,
            "visibility": null,
            "width": null
          }
        },
        "24aa937722be458bac8df636acceaac8": {
          "model_module": "@jupyter-widgets/controls",
          "model_module_version": "1.5.0",
          "model_name": "ProgressStyleModel",
          "state": {
            "_model_module": "@jupyter-widgets/controls",
            "_model_module_version": "1.5.0",
            "_model_name": "ProgressStyleModel",
            "_view_count": null,
            "_view_module": "@jupyter-widgets/base",
            "_view_module_version": "1.2.0",
            "_view_name": "StyleView",
            "bar_color": null,
            "description_width": ""
          }
        },
        "269d11ffdbfc41e5aba58855911cac5d": {
          "model_module": "@jupyter-widgets/base",
          "model_module_version": "1.2.0",
          "model_name": "LayoutModel",
          "state": {
            "_model_module": "@jupyter-widgets/base",
            "_model_module_version": "1.2.0",
            "_model_name": "LayoutModel",
            "_view_count": null,
            "_view_module": "@jupyter-widgets/base",
            "_view_module_version": "1.2.0",
            "_view_name": "LayoutView",
            "align_content": null,
            "align_items": null,
            "align_self": null,
            "border": null,
            "bottom": null,
            "display": null,
            "flex": null,
            "flex_flow": null,
            "grid_area": null,
            "grid_auto_columns": null,
            "grid_auto_flow": null,
            "grid_auto_rows": null,
            "grid_column": null,
            "grid_gap": null,
            "grid_row": null,
            "grid_template_areas": null,
            "grid_template_columns": null,
            "grid_template_rows": null,
            "height": null,
            "justify_content": null,
            "justify_items": null,
            "left": null,
            "margin": null,
            "max_height": null,
            "max_width": null,
            "min_height": null,
            "min_width": null,
            "object_fit": null,
            "object_position": null,
            "order": null,
            "overflow": null,
            "overflow_x": null,
            "overflow_y": null,
            "padding": null,
            "right": null,
            "top": null,
            "visibility": null,
            "width": null
          }
        },
        "2ca80f9886424d02b3ef0bc515b4c27b": {
          "model_module": "@jupyter-widgets/base",
          "model_module_version": "1.2.0",
          "model_name": "LayoutModel",
          "state": {
            "_model_module": "@jupyter-widgets/base",
            "_model_module_version": "1.2.0",
            "_model_name": "LayoutModel",
            "_view_count": null,
            "_view_module": "@jupyter-widgets/base",
            "_view_module_version": "1.2.0",
            "_view_name": "LayoutView",
            "align_content": null,
            "align_items": null,
            "align_self": null,
            "border": null,
            "bottom": null,
            "display": null,
            "flex": null,
            "flex_flow": null,
            "grid_area": null,
            "grid_auto_columns": null,
            "grid_auto_flow": null,
            "grid_auto_rows": null,
            "grid_column": null,
            "grid_gap": null,
            "grid_row": null,
            "grid_template_areas": null,
            "grid_template_columns": null,
            "grid_template_rows": null,
            "height": null,
            "justify_content": null,
            "justify_items": null,
            "left": null,
            "margin": null,
            "max_height": null,
            "max_width": null,
            "min_height": null,
            "min_width": null,
            "object_fit": null,
            "object_position": null,
            "order": null,
            "overflow": null,
            "overflow_x": null,
            "overflow_y": null,
            "padding": null,
            "right": null,
            "top": null,
            "visibility": null,
            "width": null
          }
        },
        "3755dc5575654854a95c61a5eece3568": {
          "model_module": "@jupyter-widgets/controls",
          "model_module_version": "1.5.0",
          "model_name": "HTMLModel",
          "state": {
            "_dom_classes": [],
            "_model_module": "@jupyter-widgets/controls",
            "_model_module_version": "1.5.0",
            "_model_name": "HTMLModel",
            "_view_count": null,
            "_view_module": "@jupyter-widgets/controls",
            "_view_module_version": "1.5.0",
            "_view_name": "HTMLView",
            "description": "",
            "description_tooltip": null,
            "layout": "IPY_MODEL_24060a7dbccf4f69a3cf9440d0481a17",
            "placeholder": "​",
            "style": "IPY_MODEL_ca01a2405ae34649a01de0289a8aab99",
            "value": "Downloading https://raw.githubusercontent.com/stanfordnlp/stanza-resources/main/resources_1.10.0.json: "
          }
        },
        "3a321e1482704cdc9257018a6cca6265": {
          "model_module": "@jupyter-widgets/controls",
          "model_module_version": "1.5.0",
          "model_name": "HTMLModel",
          "state": {
            "_dom_classes": [],
            "_model_module": "@jupyter-widgets/controls",
            "_model_module_version": "1.5.0",
            "_model_name": "HTMLModel",
            "_view_count": null,
            "_view_module": "@jupyter-widgets/controls",
            "_view_module_version": "1.5.0",
            "_view_name": "HTMLView",
            "description": "",
            "description_tooltip": null,
            "layout": "IPY_MODEL_d25442b7a2e244ecacaea001d79b12a4",
            "placeholder": "​",
            "style": "IPY_MODEL_cfca4b12ab6d412485c8c2bc4fa56e77",
            "value": "config.json: 100%"
          }
        },
        "4635f62aa28e45b19ecda7df8c4859d5": {
          "model_module": "@jupyter-widgets/base",
          "model_module_version": "1.2.0",
          "model_name": "LayoutModel",
          "state": {
            "_model_module": "@jupyter-widgets/base",
            "_model_module_version": "1.2.0",
            "_model_name": "LayoutModel",
            "_view_count": null,
            "_view_module": "@jupyter-widgets/base",
            "_view_module_version": "1.2.0",
            "_view_name": "LayoutView",
            "align_content": null,
            "align_items": null,
            "align_self": null,
            "border": null,
            "bottom": null,
            "display": null,
            "flex": null,
            "flex_flow": null,
            "grid_area": null,
            "grid_auto_columns": null,
            "grid_auto_flow": null,
            "grid_auto_rows": null,
            "grid_column": null,
            "grid_gap": null,
            "grid_row": null,
            "grid_template_areas": null,
            "grid_template_columns": null,
            "grid_template_rows": null,
            "height": null,
            "justify_content": null,
            "justify_items": null,
            "left": null,
            "margin": null,
            "max_height": null,
            "max_width": null,
            "min_height": null,
            "min_width": null,
            "object_fit": null,
            "object_position": null,
            "order": null,
            "overflow": null,
            "overflow_x": null,
            "overflow_y": null,
            "padding": null,
            "right": null,
            "top": null,
            "visibility": null,
            "width": null
          }
        },
        "48c04366d31d4f3e98ee76030b66a915": {
          "model_module": "@jupyter-widgets/controls",
          "model_module_version": "1.5.0",
          "model_name": "ProgressStyleModel",
          "state": {
            "_model_module": "@jupyter-widgets/controls",
            "_model_module_version": "1.5.0",
            "_model_name": "ProgressStyleModel",
            "_view_count": null,
            "_view_module": "@jupyter-widgets/base",
            "_view_module_version": "1.2.0",
            "_view_name": "StyleView",
            "bar_color": null,
            "description_width": ""
          }
        },
        "4a99a3b937a94d898676da7b0b44c01f": {
          "model_module": "@jupyter-widgets/controls",
          "model_module_version": "1.5.0",
          "model_name": "DescriptionStyleModel",
          "state": {
            "_model_module": "@jupyter-widgets/controls",
            "_model_module_version": "1.5.0",
            "_model_name": "DescriptionStyleModel",
            "_view_count": null,
            "_view_module": "@jupyter-widgets/base",
            "_view_module_version": "1.2.0",
            "_view_name": "StyleView",
            "description_width": ""
          }
        },
        "4adba0c9eb5949df885b2f7feb9d14e2": {
          "model_module": "@jupyter-widgets/controls",
          "model_module_version": "1.5.0",
          "model_name": "FloatProgressModel",
          "state": {
            "_dom_classes": [],
            "_model_module": "@jupyter-widgets/controls",
            "_model_module_version": "1.5.0",
            "_model_name": "FloatProgressModel",
            "_view_count": null,
            "_view_module": "@jupyter-widgets/controls",
            "_view_module_version": "1.5.0",
            "_view_name": "ProgressView",
            "bar_style": "success",
            "description": "",
            "description_tooltip": null,
            "layout": "IPY_MODEL_a7433a4e52464ee5bb6d9c2c42453666",
            "max": 1,
            "min": 0,
            "orientation": "horizontal",
            "style": "IPY_MODEL_1f2307b6e11446568e51ede0f64c49ce",
            "value": 1
          }
        },
        "4b56224ecfb64f09bc45e091592031da": {
          "model_module": "@jupyter-widgets/controls",
          "model_module_version": "1.5.0",
          "model_name": "HTMLModel",
          "state": {
            "_dom_classes": [],
            "_model_module": "@jupyter-widgets/controls",
            "_model_module_version": "1.5.0",
            "_model_name": "HTMLModel",
            "_view_count": null,
            "_view_module": "@jupyter-widgets/controls",
            "_view_module_version": "1.5.0",
            "_view_name": "HTMLView",
            "description": "",
            "description_tooltip": null,
            "layout": "IPY_MODEL_1b8e2f71b38343759380cc9c9166354f",
            "placeholder": "​",
            "style": "IPY_MODEL_e3a6b7cf36274b54af7806e9f759aa27",
            "value": " 480k/? [00:00&lt;00:00, 18.9MB/s]"
          }
        },
        "4c96befd880440fca6ac1d7740b7ca75": {
          "model_module": "@jupyter-widgets/base",
          "model_module_version": "1.2.0",
          "model_name": "LayoutModel",
          "state": {
            "_model_module": "@jupyter-widgets/base",
            "_model_module_version": "1.2.0",
            "_model_name": "LayoutModel",
            "_view_count": null,
            "_view_module": "@jupyter-widgets/base",
            "_view_module_version": "1.2.0",
            "_view_name": "LayoutView",
            "align_content": null,
            "align_items": null,
            "align_self": null,
            "border": null,
            "bottom": null,
            "display": null,
            "flex": null,
            "flex_flow": null,
            "grid_area": null,
            "grid_auto_columns": null,
            "grid_auto_flow": null,
            "grid_auto_rows": null,
            "grid_column": null,
            "grid_gap": null,
            "grid_row": null,
            "grid_template_areas": null,
            "grid_template_columns": null,
            "grid_template_rows": null,
            "height": null,
            "justify_content": null,
            "justify_items": null,
            "left": null,
            "margin": null,
            "max_height": null,
            "max_width": null,
            "min_height": null,
            "min_width": null,
            "object_fit": null,
            "object_position": null,
            "order": null,
            "overflow": null,
            "overflow_x": null,
            "overflow_y": null,
            "padding": null,
            "right": null,
            "top": null,
            "visibility": null,
            "width": null
          }
        },
        "4d4ae2b160ed4976830ccb685d405d6b": {
          "model_module": "@jupyter-widgets/base",
          "model_module_version": "1.2.0",
          "model_name": "LayoutModel",
          "state": {
            "_model_module": "@jupyter-widgets/base",
            "_model_module_version": "1.2.0",
            "_model_name": "LayoutModel",
            "_view_count": null,
            "_view_module": "@jupyter-widgets/base",
            "_view_module_version": "1.2.0",
            "_view_name": "LayoutView",
            "align_content": null,
            "align_items": null,
            "align_self": null,
            "border": null,
            "bottom": null,
            "display": null,
            "flex": null,
            "flex_flow": null,
            "grid_area": null,
            "grid_auto_columns": null,
            "grid_auto_flow": null,
            "grid_auto_rows": null,
            "grid_column": null,
            "grid_gap": null,
            "grid_row": null,
            "grid_template_areas": null,
            "grid_template_columns": null,
            "grid_template_rows": null,
            "height": null,
            "justify_content": null,
            "justify_items": null,
            "left": null,
            "margin": null,
            "max_height": null,
            "max_width": null,
            "min_height": null,
            "min_width": null,
            "object_fit": null,
            "object_position": null,
            "order": null,
            "overflow": null,
            "overflow_x": null,
            "overflow_y": null,
            "padding": null,
            "right": null,
            "top": null,
            "visibility": null,
            "width": null
          }
        },
        "5661149a0b9e46e0bc80eda87068b054": {
          "model_module": "@jupyter-widgets/controls",
          "model_module_version": "1.5.0",
          "model_name": "ProgressStyleModel",
          "state": {
            "_model_module": "@jupyter-widgets/controls",
            "_model_module_version": "1.5.0",
            "_model_name": "ProgressStyleModel",
            "_view_count": null,
            "_view_module": "@jupyter-widgets/base",
            "_view_module_version": "1.2.0",
            "_view_name": "StyleView",
            "bar_color": null,
            "description_width": ""
          }
        },
        "584688bcdb4d44dbb89c44bdd26fc596": {
          "model_module": "@jupyter-widgets/controls",
          "model_module_version": "1.5.0",
          "model_name": "FloatProgressModel",
          "state": {
            "_dom_classes": [],
            "_model_module": "@jupyter-widgets/controls",
            "_model_module_version": "1.5.0",
            "_model_name": "FloatProgressModel",
            "_view_count": null,
            "_view_module": "@jupyter-widgets/controls",
            "_view_module_version": "1.5.0",
            "_view_name": "ProgressView",
            "bar_style": "success",
            "description": "",
            "description_tooltip": null,
            "layout": "IPY_MODEL_c7beac449b12491c8eb54b5231ee7e90",
            "max": 364,
            "min": 0,
            "orientation": "horizontal",
            "style": "IPY_MODEL_24aa937722be458bac8df636acceaac8",
            "value": 364
          }
        },
        "5b6f435f4efd44d08bc9c297e82b5d86": {
          "model_module": "@jupyter-widgets/controls",
          "model_module_version": "1.5.0",
          "model_name": "HBoxModel",
          "state": {
            "_dom_classes": [],
            "_model_module": "@jupyter-widgets/controls",
            "_model_module_version": "1.5.0",
            "_model_name": "HBoxModel",
            "_view_count": null,
            "_view_module": "@jupyter-widgets/controls",
            "_view_module_version": "1.5.0",
            "_view_name": "HBoxView",
            "box_style": "",
            "children": [
              "IPY_MODEL_1ac5ef2754604d33a9b13a12233b555f",
              "IPY_MODEL_4adba0c9eb5949df885b2f7feb9d14e2",
              "IPY_MODEL_4b56224ecfb64f09bc45e091592031da"
            ],
            "layout": "IPY_MODEL_803f621dbce44d9080d8f8c5121ce429"
          }
        },
        "5b881969ac604028a2d07f859c8ac2e3": {
          "model_module": "@jupyter-widgets/controls",
          "model_module_version": "1.5.0",
          "model_name": "ProgressStyleModel",
          "state": {
            "_model_module": "@jupyter-widgets/controls",
            "_model_module_version": "1.5.0",
            "_model_name": "ProgressStyleModel",
            "_view_count": null,
            "_view_module": "@jupyter-widgets/base",
            "_view_module_version": "1.2.0",
            "_view_name": "StyleView",
            "bar_color": null,
            "description_width": ""
          }
        },
        "5fef9b532f3946aaa1636ce60d7a3fc9": {
          "model_module": "@jupyter-widgets/base",
          "model_module_version": "1.2.0",
          "model_name": "LayoutModel",
          "state": {
            "_model_module": "@jupyter-widgets/base",
            "_model_module_version": "1.2.0",
            "_model_name": "LayoutModel",
            "_view_count": null,
            "_view_module": "@jupyter-widgets/base",
            "_view_module_version": "1.2.0",
            "_view_name": "LayoutView",
            "align_content": null,
            "align_items": null,
            "align_self": null,
            "border": null,
            "bottom": null,
            "display": null,
            "flex": null,
            "flex_flow": null,
            "grid_area": null,
            "grid_auto_columns": null,
            "grid_auto_flow": null,
            "grid_auto_rows": null,
            "grid_column": null,
            "grid_gap": null,
            "grid_row": null,
            "grid_template_areas": null,
            "grid_template_columns": null,
            "grid_template_rows": null,
            "height": null,
            "justify_content": null,
            "justify_items": null,
            "left": null,
            "margin": null,
            "max_height": null,
            "max_width": null,
            "min_height": null,
            "min_width": null,
            "object_fit": null,
            "object_position": null,
            "order": null,
            "overflow": null,
            "overflow_x": null,
            "overflow_y": null,
            "padding": null,
            "right": null,
            "top": null,
            "visibility": null,
            "width": null
          }
        },
        "67ca0c17292b44ab993a81cb9ea99952": {
          "model_module": "@jupyter-widgets/controls",
          "model_module_version": "1.5.0",
          "model_name": "FloatProgressModel",
          "state": {
            "_dom_classes": [],
            "_model_module": "@jupyter-widgets/controls",
            "_model_module_version": "1.5.0",
            "_model_name": "FloatProgressModel",
            "_view_count": null,
            "_view_module": "@jupyter-widgets/controls",
            "_view_module_version": "1.5.0",
            "_view_name": "ProgressView",
            "bar_style": "success",
            "description": "",
            "description_tooltip": null,
            "layout": "IPY_MODEL_aea78e0138014370ad60ee68cbdd3f65",
            "max": 641842546,
            "min": 0,
            "orientation": "horizontal",
            "style": "IPY_MODEL_5b881969ac604028a2d07f859c8ac2e3",
            "value": 641842546
          }
        },
        "6a1c1016060c4271a488db8f6f3ea272": {
          "model_module": "@jupyter-widgets/controls",
          "model_module_version": "1.5.0",
          "model_name": "HTMLModel",
          "state": {
            "_dom_classes": [],
            "_model_module": "@jupyter-widgets/controls",
            "_model_module_version": "1.5.0",
            "_model_name": "HTMLModel",
            "_view_count": null,
            "_view_module": "@jupyter-widgets/controls",
            "_view_module_version": "1.5.0",
            "_view_name": "HTMLView",
            "description": "",
            "description_tooltip": null,
            "layout": "IPY_MODEL_b7f338ebf9b64d689ce46ec26f0c2996",
            "placeholder": "​",
            "style": "IPY_MODEL_17256e4f880e417e8153e2f6196c5d29",
            "value": "tokenizer_config.json: 100%"
          }
        },
        "6e0c0aa3bd9645778215523e6257e360": {
          "model_module": "@jupyter-widgets/controls",
          "model_module_version": "1.5.0",
          "model_name": "FloatProgressModel",
          "state": {
            "_dom_classes": [],
            "_model_module": "@jupyter-widgets/controls",
            "_model_module_version": "1.5.0",
            "_model_name": "FloatProgressModel",
            "_view_count": null,
            "_view_module": "@jupyter-widgets/controls",
            "_view_module_version": "1.5.0",
            "_view_name": "ProgressView",
            "bar_style": "success",
            "description": "",
            "description_tooltip": null,
            "layout": "IPY_MODEL_dedad397cd3949169c1152f1254881da",
            "max": 134,
            "min": 0,
            "orientation": "horizontal",
            "style": "IPY_MODEL_1982dafe5491425a82d2215e70f33c95",
            "value": 134
          }
        },
        "726fc60397354714b5686f18ed59295f": {
          "model_module": "@jupyter-widgets/controls",
          "model_module_version": "1.5.0",
          "model_name": "HTMLModel",
          "state": {
            "_dom_classes": [],
            "_model_module": "@jupyter-widgets/controls",
            "_model_module_version": "1.5.0",
            "_model_name": "HTMLModel",
            "_view_count": null,
            "_view_module": "@jupyter-widgets/controls",
            "_view_module_version": "1.5.0",
            "_view_name": "HTMLView",
            "description": "",
            "description_tooltip": null,
            "layout": "IPY_MODEL_98d66420dc844b118ac5907b8ee64be8",
            "placeholder": "​",
            "style": "IPY_MODEL_02025d4aee4747e1a5af1fca368d023f",
            "value": " 642M/642M [00:03&lt;00:00, 176MB/s]"
          }
        },
        "73d1f2b6e49845078d5815a280651d32": {
          "model_module": "@jupyter-widgets/controls",
          "model_module_version": "1.5.0",
          "model_name": "HTMLModel",
          "state": {
            "_dom_classes": [],
            "_model_module": "@jupyter-widgets/controls",
            "_model_module_version": "1.5.0",
            "_model_name": "HTMLModel",
            "_view_count": null,
            "_view_module": "@jupyter-widgets/controls",
            "_view_module_version": "1.5.0",
            "_view_name": "HTMLView",
            "description": "",
            "description_tooltip": null,
            "layout": "IPY_MODEL_2ca80f9886424d02b3ef0bc515b4c27b",
            "placeholder": "​",
            "style": "IPY_MODEL_c69148527a664c739eeca514c5e02019",
            "value": "Downloading https://raw.githubusercontent.com/stanfordnlp/stanza-resources/main/resources_1.10.0.json: "
          }
        },
        "77fbd86169314e00a4ea043d5e44ae52": {
          "model_module": "@jupyter-widgets/controls",
          "model_module_version": "1.5.0",
          "model_name": "HBoxModel",
          "state": {
            "_dom_classes": [],
            "_model_module": "@jupyter-widgets/controls",
            "_model_module_version": "1.5.0",
            "_model_name": "HBoxModel",
            "_view_count": null,
            "_view_module": "@jupyter-widgets/controls",
            "_view_module_version": "1.5.0",
            "_view_name": "HBoxView",
            "box_style": "",
            "children": [
              "IPY_MODEL_1e845f15cd014d699f8946fcacda231d",
              "IPY_MODEL_67ca0c17292b44ab993a81cb9ea99952",
              "IPY_MODEL_726fc60397354714b5686f18ed59295f"
            ],
            "layout": "IPY_MODEL_9577d749f5b44d72868312215df79903"
          }
        },
        "7df44ba3d392452ba5c5b6a06b36524b": {
          "model_module": "@jupyter-widgets/controls",
          "model_module_version": "1.5.0",
          "model_name": "DescriptionStyleModel",
          "state": {
            "_model_module": "@jupyter-widgets/controls",
            "_model_module_version": "1.5.0",
            "_model_name": "DescriptionStyleModel",
            "_view_count": null,
            "_view_module": "@jupyter-widgets/base",
            "_view_module_version": "1.2.0",
            "_view_name": "StyleView",
            "description_width": ""
          }
        },
        "803f621dbce44d9080d8f8c5121ce429": {
          "model_module": "@jupyter-widgets/base",
          "model_module_version": "1.2.0",
          "model_name": "LayoutModel",
          "state": {
            "_model_module": "@jupyter-widgets/base",
            "_model_module_version": "1.2.0",
            "_model_name": "LayoutModel",
            "_view_count": null,
            "_view_module": "@jupyter-widgets/base",
            "_view_module_version": "1.2.0",
            "_view_name": "LayoutView",
            "align_content": null,
            "align_items": null,
            "align_self": null,
            "border": null,
            "bottom": null,
            "display": null,
            "flex": null,
            "flex_flow": null,
            "grid_area": null,
            "grid_auto_columns": null,
            "grid_auto_flow": null,
            "grid_auto_rows": null,
            "grid_column": null,
            "grid_gap": null,
            "grid_row": null,
            "grid_template_areas": null,
            "grid_template_columns": null,
            "grid_template_rows": null,
            "height": null,
            "justify_content": null,
            "justify_items": null,
            "left": null,
            "margin": null,
            "max_height": null,
            "max_width": null,
            "min_height": null,
            "min_width": null,
            "object_fit": null,
            "object_position": null,
            "order": null,
            "overflow": null,
            "overflow_x": null,
            "overflow_y": null,
            "padding": null,
            "right": null,
            "top": null,
            "visibility": null,
            "width": null
          }
        },
        "832ebcc19dc643d3a43e69d85e492f52": {
          "model_module": "@jupyter-widgets/controls",
          "model_module_version": "1.5.0",
          "model_name": "DescriptionStyleModel",
          "state": {
            "_model_module": "@jupyter-widgets/controls",
            "_model_module_version": "1.5.0",
            "_model_name": "DescriptionStyleModel",
            "_view_count": null,
            "_view_module": "@jupyter-widgets/base",
            "_view_module_version": "1.2.0",
            "_view_name": "StyleView",
            "description_width": ""
          }
        },
        "841b034482fe42f89f82d7115a9956fc": {
          "model_module": "@jupyter-widgets/controls",
          "model_module_version": "1.5.0",
          "model_name": "HTMLModel",
          "state": {
            "_dom_classes": [],
            "_model_module": "@jupyter-widgets/controls",
            "_model_module_version": "1.5.0",
            "_model_name": "HTMLModel",
            "_view_count": null,
            "_view_module": "@jupyter-widgets/controls",
            "_view_module_version": "1.5.0",
            "_view_name": "HTMLView",
            "description": "",
            "description_tooltip": null,
            "layout": "IPY_MODEL_4635f62aa28e45b19ecda7df8c4859d5",
            "placeholder": "​",
            "style": "IPY_MODEL_832ebcc19dc643d3a43e69d85e492f52",
            "value": " 648/648 [00:00&lt;00:00, 60.9kB/s]"
          }
        },
        "8830bedbae2b4b0ca535b6eef2652086": {
          "model_module": "@jupyter-widgets/controls",
          "model_module_version": "1.5.0",
          "model_name": "HTMLModel",
          "state": {
            "_dom_classes": [],
            "_model_module": "@jupyter-widgets/controls",
            "_model_module_version": "1.5.0",
            "_model_name": "HTMLModel",
            "_view_count": null,
            "_view_module": "@jupyter-widgets/controls",
            "_view_module_version": "1.5.0",
            "_view_name": "HTMLView",
            "description": "",
            "description_tooltip": null,
            "layout": "IPY_MODEL_4d4ae2b160ed4976830ccb685d405d6b",
            "placeholder": "​",
            "style": "IPY_MODEL_1db7bd99e8b94bca9db986aaeb3fb6c3",
            "value": "vocab.txt: "
          }
        },
        "8be8fde9fa784641bd001d922bd7faa6": {
          "model_module": "@jupyter-widgets/controls",
          "model_module_version": "1.5.0",
          "model_name": "DescriptionStyleModel",
          "state": {
            "_model_module": "@jupyter-widgets/controls",
            "_model_module_version": "1.5.0",
            "_model_name": "DescriptionStyleModel",
            "_view_count": null,
            "_view_module": "@jupyter-widgets/base",
            "_view_module_version": "1.2.0",
            "_view_name": "StyleView",
            "description_width": ""
          }
        },
        "8c17d7dda4bf49f1acde1c9276cfbfbe": {
          "model_module": "@jupyter-widgets/controls",
          "model_module_version": "1.5.0",
          "model_name": "DescriptionStyleModel",
          "state": {
            "_model_module": "@jupyter-widgets/controls",
            "_model_module_version": "1.5.0",
            "_model_name": "DescriptionStyleModel",
            "_view_count": null,
            "_view_module": "@jupyter-widgets/base",
            "_view_module_version": "1.2.0",
            "_view_name": "StyleView",
            "description_width": ""
          }
        },
        "9428de496afc40f4ba1642cdc335ff42": {
          "model_module": "@jupyter-widgets/base",
          "model_module_version": "1.2.0",
          "model_name": "LayoutModel",
          "state": {
            "_model_module": "@jupyter-widgets/base",
            "_model_module_version": "1.2.0",
            "_model_name": "LayoutModel",
            "_view_count": null,
            "_view_module": "@jupyter-widgets/base",
            "_view_module_version": "1.2.0",
            "_view_name": "LayoutView",
            "align_content": null,
            "align_items": null,
            "align_self": null,
            "border": null,
            "bottom": null,
            "display": null,
            "flex": null,
            "flex_flow": null,
            "grid_area": null,
            "grid_auto_columns": null,
            "grid_auto_flow": null,
            "grid_auto_rows": null,
            "grid_column": null,
            "grid_gap": null,
            "grid_row": null,
            "grid_template_areas": null,
            "grid_template_columns": null,
            "grid_template_rows": null,
            "height": null,
            "justify_content": null,
            "justify_items": null,
            "left": null,
            "margin": null,
            "max_height": null,
            "max_width": null,
            "min_height": null,
            "min_width": null,
            "object_fit": null,
            "object_position": null,
            "order": null,
            "overflow": null,
            "overflow_x": null,
            "overflow_y": null,
            "padding": null,
            "right": null,
            "top": null,
            "visibility": null,
            "width": null
          }
        },
        "9577d749f5b44d72868312215df79903": {
          "model_module": "@jupyter-widgets/base",
          "model_module_version": "1.2.0",
          "model_name": "LayoutModel",
          "state": {
            "_model_module": "@jupyter-widgets/base",
            "_model_module_version": "1.2.0",
            "_model_name": "LayoutModel",
            "_view_count": null,
            "_view_module": "@jupyter-widgets/base",
            "_view_module_version": "1.2.0",
            "_view_name": "LayoutView",
            "align_content": null,
            "align_items": null,
            "align_self": null,
            "border": null,
            "bottom": null,
            "display": null,
            "flex": null,
            "flex_flow": null,
            "grid_area": null,
            "grid_auto_columns": null,
            "grid_auto_flow": null,
            "grid_auto_rows": null,
            "grid_column": null,
            "grid_gap": null,
            "grid_row": null,
            "grid_template_areas": null,
            "grid_template_columns": null,
            "grid_template_rows": null,
            "height": null,
            "justify_content": null,
            "justify_items": null,
            "left": null,
            "margin": null,
            "max_height": null,
            "max_width": null,
            "min_height": null,
            "min_width": null,
            "object_fit": null,
            "object_position": null,
            "order": null,
            "overflow": null,
            "overflow_x": null,
            "overflow_y": null,
            "padding": null,
            "right": null,
            "top": null,
            "visibility": null,
            "width": null
          }
        },
        "983224230e7e420a970caa2d36dba553": {
          "model_module": "@jupyter-widgets/base",
          "model_module_version": "1.2.0",
          "model_name": "LayoutModel",
          "state": {
            "_model_module": "@jupyter-widgets/base",
            "_model_module_version": "1.2.0",
            "_model_name": "LayoutModel",
            "_view_count": null,
            "_view_module": "@jupyter-widgets/base",
            "_view_module_version": "1.2.0",
            "_view_name": "LayoutView",
            "align_content": null,
            "align_items": null,
            "align_self": null,
            "border": null,
            "bottom": null,
            "display": null,
            "flex": null,
            "flex_flow": null,
            "grid_area": null,
            "grid_auto_columns": null,
            "grid_auto_flow": null,
            "grid_auto_rows": null,
            "grid_column": null,
            "grid_gap": null,
            "grid_row": null,
            "grid_template_areas": null,
            "grid_template_columns": null,
            "grid_template_rows": null,
            "height": null,
            "justify_content": null,
            "justify_items": null,
            "left": null,
            "margin": null,
            "max_height": null,
            "max_width": null,
            "min_height": null,
            "min_width": null,
            "object_fit": null,
            "object_position": null,
            "order": null,
            "overflow": null,
            "overflow_x": null,
            "overflow_y": null,
            "padding": null,
            "right": null,
            "top": null,
            "visibility": null,
            "width": null
          }
        },
        "98d66420dc844b118ac5907b8ee64be8": {
          "model_module": "@jupyter-widgets/base",
          "model_module_version": "1.2.0",
          "model_name": "LayoutModel",
          "state": {
            "_model_module": "@jupyter-widgets/base",
            "_model_module_version": "1.2.0",
            "_model_name": "LayoutModel",
            "_view_count": null,
            "_view_module": "@jupyter-widgets/base",
            "_view_module_version": "1.2.0",
            "_view_name": "LayoutView",
            "align_content": null,
            "align_items": null,
            "align_self": null,
            "border": null,
            "bottom": null,
            "display": null,
            "flex": null,
            "flex_flow": null,
            "grid_area": null,
            "grid_auto_columns": null,
            "grid_auto_flow": null,
            "grid_auto_rows": null,
            "grid_column": null,
            "grid_gap": null,
            "grid_row": null,
            "grid_template_areas": null,
            "grid_template_columns": null,
            "grid_template_rows": null,
            "height": null,
            "justify_content": null,
            "justify_items": null,
            "left": null,
            "margin": null,
            "max_height": null,
            "max_width": null,
            "min_height": null,
            "min_width": null,
            "object_fit": null,
            "object_position": null,
            "order": null,
            "overflow": null,
            "overflow_x": null,
            "overflow_y": null,
            "padding": null,
            "right": null,
            "top": null,
            "visibility": null,
            "width": null
          }
        },
        "99964ab9466049f7b7f2bc3f4bb7a1b0": {
          "model_module": "@jupyter-widgets/controls",
          "model_module_version": "1.5.0",
          "model_name": "HBoxModel",
          "state": {
            "_dom_classes": [],
            "_model_module": "@jupyter-widgets/controls",
            "_model_module_version": "1.5.0",
            "_model_name": "HBoxModel",
            "_view_count": null,
            "_view_module": "@jupyter-widgets/controls",
            "_view_module_version": "1.5.0",
            "_view_name": "HBoxView",
            "box_style": "",
            "children": [
              "IPY_MODEL_73d1f2b6e49845078d5815a280651d32",
              "IPY_MODEL_a7266e1ca4404c23adecf2b907908655",
              "IPY_MODEL_aa1f1bed21614c50a8ce1dadf83cb40d"
            ],
            "layout": "IPY_MODEL_a9f5be277a9a412c843dc300dd55f95d"
          }
        },
        "a41bd40d41fb4caea83931b82e79d2b1": {
          "model_module": "@jupyter-widgets/controls",
          "model_module_version": "1.5.0",
          "model_name": "HBoxModel",
          "state": {
            "_dom_classes": [],
            "_model_module": "@jupyter-widgets/controls",
            "_model_module_version": "1.5.0",
            "_model_name": "HBoxModel",
            "_view_count": null,
            "_view_module": "@jupyter-widgets/controls",
            "_view_module_version": "1.5.0",
            "_view_name": "HBoxView",
            "box_style": "",
            "children": [
              "IPY_MODEL_8830bedbae2b4b0ca535b6eef2652086",
              "IPY_MODEL_c489418f3cbf42d68a1e9a4093f01b30",
              "IPY_MODEL_09603f605b4b45908ecec5bbc798aedb"
            ],
            "layout": "IPY_MODEL_b77dc2cad48e4bf8a93c269f7a4baae7"
          }
        },
        "a7266e1ca4404c23adecf2b907908655": {
          "model_module": "@jupyter-widgets/controls",
          "model_module_version": "1.5.0",
          "model_name": "FloatProgressModel",
          "state": {
            "_dom_classes": [],
            "_model_module": "@jupyter-widgets/controls",
            "_model_module_version": "1.5.0",
            "_model_name": "FloatProgressModel",
            "_view_count": null,
            "_view_module": "@jupyter-widgets/controls",
            "_view_module_version": "1.5.0",
            "_view_name": "ProgressView",
            "bar_style": "success",
            "description": "",
            "description_tooltip": null,
            "layout": "IPY_MODEL_5fef9b532f3946aaa1636ce60d7a3fc9",
            "max": 53583,
            "min": 0,
            "orientation": "horizontal",
            "style": "IPY_MODEL_5661149a0b9e46e0bc80eda87068b054",
            "value": 53583
          }
        },
        "a72b9612858142e3b796374c9177992b": {
          "model_module": "@jupyter-widgets/controls",
          "model_module_version": "1.5.0",
          "model_name": "HBoxModel",
          "state": {
            "_dom_classes": [],
            "_model_module": "@jupyter-widgets/controls",
            "_model_module_version": "1.5.0",
            "_model_name": "HBoxModel",
            "_view_count": null,
            "_view_module": "@jupyter-widgets/controls",
            "_view_module_version": "1.5.0",
            "_view_name": "HBoxView",
            "box_style": "",
            "children": [
              "IPY_MODEL_6a1c1016060c4271a488db8f6f3ea272",
              "IPY_MODEL_584688bcdb4d44dbb89c44bdd26fc596",
              "IPY_MODEL_007f10afd122469cb083fb84e7d004b3"
            ],
            "layout": "IPY_MODEL_a8d684125d2242a888d79af334fe9611"
          }
        },
        "a7433a4e52464ee5bb6d9c2c42453666": {
          "model_module": "@jupyter-widgets/base",
          "model_module_version": "1.2.0",
          "model_name": "LayoutModel",
          "state": {
            "_model_module": "@jupyter-widgets/base",
            "_model_module_version": "1.2.0",
            "_model_name": "LayoutModel",
            "_view_count": null,
            "_view_module": "@jupyter-widgets/base",
            "_view_module_version": "1.2.0",
            "_view_name": "LayoutView",
            "align_content": null,
            "align_items": null,
            "align_self": null,
            "border": null,
            "bottom": null,
            "display": null,
            "flex": null,
            "flex_flow": null,
            "grid_area": null,
            "grid_auto_columns": null,
            "grid_auto_flow": null,
            "grid_auto_rows": null,
            "grid_column": null,
            "grid_gap": null,
            "grid_row": null,
            "grid_template_areas": null,
            "grid_template_columns": null,
            "grid_template_rows": null,
            "height": null,
            "justify_content": null,
            "justify_items": null,
            "left": null,
            "margin": null,
            "max_height": null,
            "max_width": null,
            "min_height": null,
            "min_width": null,
            "object_fit": null,
            "object_position": null,
            "order": null,
            "overflow": null,
            "overflow_x": null,
            "overflow_y": null,
            "padding": null,
            "right": null,
            "top": null,
            "visibility": null,
            "width": "20px"
          }
        },
        "a77634183333439295cfddb548b9314e": {
          "model_module": "@jupyter-widgets/base",
          "model_module_version": "1.2.0",
          "model_name": "LayoutModel",
          "state": {
            "_model_module": "@jupyter-widgets/base",
            "_model_module_version": "1.2.0",
            "_model_name": "LayoutModel",
            "_view_count": null,
            "_view_module": "@jupyter-widgets/base",
            "_view_module_version": "1.2.0",
            "_view_name": "LayoutView",
            "align_content": null,
            "align_items": null,
            "align_self": null,
            "border": null,
            "bottom": null,
            "display": null,
            "flex": null,
            "flex_flow": null,
            "grid_area": null,
            "grid_auto_columns": null,
            "grid_auto_flow": null,
            "grid_auto_rows": null,
            "grid_column": null,
            "grid_gap": null,
            "grid_row": null,
            "grid_template_areas": null,
            "grid_template_columns": null,
            "grid_template_rows": null,
            "height": null,
            "justify_content": null,
            "justify_items": null,
            "left": null,
            "margin": null,
            "max_height": null,
            "max_width": null,
            "min_height": null,
            "min_width": null,
            "object_fit": null,
            "object_position": null,
            "order": null,
            "overflow": null,
            "overflow_x": null,
            "overflow_y": null,
            "padding": null,
            "right": null,
            "top": null,
            "visibility": null,
            "width": null
          }
        },
        "a8d684125d2242a888d79af334fe9611": {
          "model_module": "@jupyter-widgets/base",
          "model_module_version": "1.2.0",
          "model_name": "LayoutModel",
          "state": {
            "_model_module": "@jupyter-widgets/base",
            "_model_module_version": "1.2.0",
            "_model_name": "LayoutModel",
            "_view_count": null,
            "_view_module": "@jupyter-widgets/base",
            "_view_module_version": "1.2.0",
            "_view_name": "LayoutView",
            "align_content": null,
            "align_items": null,
            "align_self": null,
            "border": null,
            "bottom": null,
            "display": null,
            "flex": null,
            "flex_flow": null,
            "grid_area": null,
            "grid_auto_columns": null,
            "grid_auto_flow": null,
            "grid_auto_rows": null,
            "grid_column": null,
            "grid_gap": null,
            "grid_row": null,
            "grid_template_areas": null,
            "grid_template_columns": null,
            "grid_template_rows": null,
            "height": null,
            "justify_content": null,
            "justify_items": null,
            "left": null,
            "margin": null,
            "max_height": null,
            "max_width": null,
            "min_height": null,
            "min_width": null,
            "object_fit": null,
            "object_position": null,
            "order": null,
            "overflow": null,
            "overflow_x": null,
            "overflow_y": null,
            "padding": null,
            "right": null,
            "top": null,
            "visibility": null,
            "width": null
          }
        },
        "a9f5be277a9a412c843dc300dd55f95d": {
          "model_module": "@jupyter-widgets/base",
          "model_module_version": "1.2.0",
          "model_name": "LayoutModel",
          "state": {
            "_model_module": "@jupyter-widgets/base",
            "_model_module_version": "1.2.0",
            "_model_name": "LayoutModel",
            "_view_count": null,
            "_view_module": "@jupyter-widgets/base",
            "_view_module_version": "1.2.0",
            "_view_name": "LayoutView",
            "align_content": null,
            "align_items": null,
            "align_self": null,
            "border": null,
            "bottom": null,
            "display": null,
            "flex": null,
            "flex_flow": null,
            "grid_area": null,
            "grid_auto_columns": null,
            "grid_auto_flow": null,
            "grid_auto_rows": null,
            "grid_column": null,
            "grid_gap": null,
            "grid_row": null,
            "grid_template_areas": null,
            "grid_template_columns": null,
            "grid_template_rows": null,
            "height": null,
            "justify_content": null,
            "justify_items": null,
            "left": null,
            "margin": null,
            "max_height": null,
            "max_width": null,
            "min_height": null,
            "min_width": null,
            "object_fit": null,
            "object_position": null,
            "order": null,
            "overflow": null,
            "overflow_x": null,
            "overflow_y": null,
            "padding": null,
            "right": null,
            "top": null,
            "visibility": null,
            "width": null
          }
        },
        "aa1f1bed21614c50a8ce1dadf83cb40d": {
          "model_module": "@jupyter-widgets/controls",
          "model_module_version": "1.5.0",
          "model_name": "HTMLModel",
          "state": {
            "_dom_classes": [],
            "_model_module": "@jupyter-widgets/controls",
            "_model_module_version": "1.5.0",
            "_model_name": "HTMLModel",
            "_view_count": null,
            "_view_module": "@jupyter-widgets/controls",
            "_view_module_version": "1.5.0",
            "_view_name": "HTMLView",
            "description": "",
            "description_tooltip": null,
            "layout": "IPY_MODEL_ec63b49449cd4ecf9fa5ed4284cf4941",
            "placeholder": "​",
            "style": "IPY_MODEL_7df44ba3d392452ba5c5b6a06b36524b",
            "value": " 434k/? [00:00&lt;00:00, 17.1MB/s]"
          }
        },
        "aaa85327ba1e42799deb04124f8ad18b": {
          "model_module": "@jupyter-widgets/base",
          "model_module_version": "1.2.0",
          "model_name": "LayoutModel",
          "state": {
            "_model_module": "@jupyter-widgets/base",
            "_model_module_version": "1.2.0",
            "_model_name": "LayoutModel",
            "_view_count": null,
            "_view_module": "@jupyter-widgets/base",
            "_view_module_version": "1.2.0",
            "_view_name": "LayoutView",
            "align_content": null,
            "align_items": null,
            "align_self": null,
            "border": null,
            "bottom": null,
            "display": null,
            "flex": null,
            "flex_flow": null,
            "grid_area": null,
            "grid_auto_columns": null,
            "grid_auto_flow": null,
            "grid_auto_rows": null,
            "grid_column": null,
            "grid_gap": null,
            "grid_row": null,
            "grid_template_areas": null,
            "grid_template_columns": null,
            "grid_template_rows": null,
            "height": null,
            "justify_content": null,
            "justify_items": null,
            "left": null,
            "margin": null,
            "max_height": null,
            "max_width": null,
            "min_height": null,
            "min_width": null,
            "object_fit": null,
            "object_position": null,
            "order": null,
            "overflow": null,
            "overflow_x": null,
            "overflow_y": null,
            "padding": null,
            "right": null,
            "top": null,
            "visibility": null,
            "width": null
          }
        },
        "aea78e0138014370ad60ee68cbdd3f65": {
          "model_module": "@jupyter-widgets/base",
          "model_module_version": "1.2.0",
          "model_name": "LayoutModel",
          "state": {
            "_model_module": "@jupyter-widgets/base",
            "_model_module_version": "1.2.0",
            "_model_name": "LayoutModel",
            "_view_count": null,
            "_view_module": "@jupyter-widgets/base",
            "_view_module_version": "1.2.0",
            "_view_name": "LayoutView",
            "align_content": null,
            "align_items": null,
            "align_self": null,
            "border": null,
            "bottom": null,
            "display": null,
            "flex": null,
            "flex_flow": null,
            "grid_area": null,
            "grid_auto_columns": null,
            "grid_auto_flow": null,
            "grid_auto_rows": null,
            "grid_column": null,
            "grid_gap": null,
            "grid_row": null,
            "grid_template_areas": null,
            "grid_template_columns": null,
            "grid_template_rows": null,
            "height": null,
            "justify_content": null,
            "justify_items": null,
            "left": null,
            "margin": null,
            "max_height": null,
            "max_width": null,
            "min_height": null,
            "min_width": null,
            "object_fit": null,
            "object_position": null,
            "order": null,
            "overflow": null,
            "overflow_x": null,
            "overflow_y": null,
            "padding": null,
            "right": null,
            "top": null,
            "visibility": null,
            "width": null
          }
        },
        "b69b831cbb8248268cdb127d11a38d53": {
          "model_module": "@jupyter-widgets/controls",
          "model_module_version": "1.5.0",
          "model_name": "DescriptionStyleModel",
          "state": {
            "_model_module": "@jupyter-widgets/controls",
            "_model_module_version": "1.5.0",
            "_model_name": "DescriptionStyleModel",
            "_view_count": null,
            "_view_module": "@jupyter-widgets/base",
            "_view_module_version": "1.2.0",
            "_view_name": "StyleView",
            "description_width": ""
          }
        },
        "b77dc2cad48e4bf8a93c269f7a4baae7": {
          "model_module": "@jupyter-widgets/base",
          "model_module_version": "1.2.0",
          "model_name": "LayoutModel",
          "state": {
            "_model_module": "@jupyter-widgets/base",
            "_model_module_version": "1.2.0",
            "_model_name": "LayoutModel",
            "_view_count": null,
            "_view_module": "@jupyter-widgets/base",
            "_view_module_version": "1.2.0",
            "_view_name": "LayoutView",
            "align_content": null,
            "align_items": null,
            "align_self": null,
            "border": null,
            "bottom": null,
            "display": null,
            "flex": null,
            "flex_flow": null,
            "grid_area": null,
            "grid_auto_columns": null,
            "grid_auto_flow": null,
            "grid_auto_rows": null,
            "grid_column": null,
            "grid_gap": null,
            "grid_row": null,
            "grid_template_areas": null,
            "grid_template_columns": null,
            "grid_template_rows": null,
            "height": null,
            "justify_content": null,
            "justify_items": null,
            "left": null,
            "margin": null,
            "max_height": null,
            "max_width": null,
            "min_height": null,
            "min_width": null,
            "object_fit": null,
            "object_position": null,
            "order": null,
            "overflow": null,
            "overflow_x": null,
            "overflow_y": null,
            "padding": null,
            "right": null,
            "top": null,
            "visibility": null,
            "width": null
          }
        },
        "b7f338ebf9b64d689ce46ec26f0c2996": {
          "model_module": "@jupyter-widgets/base",
          "model_module_version": "1.2.0",
          "model_name": "LayoutModel",
          "state": {
            "_model_module": "@jupyter-widgets/base",
            "_model_module_version": "1.2.0",
            "_model_name": "LayoutModel",
            "_view_count": null,
            "_view_module": "@jupyter-widgets/base",
            "_view_module_version": "1.2.0",
            "_view_name": "LayoutView",
            "align_content": null,
            "align_items": null,
            "align_self": null,
            "border": null,
            "bottom": null,
            "display": null,
            "flex": null,
            "flex_flow": null,
            "grid_area": null,
            "grid_auto_columns": null,
            "grid_auto_flow": null,
            "grid_auto_rows": null,
            "grid_column": null,
            "grid_gap": null,
            "grid_row": null,
            "grid_template_areas": null,
            "grid_template_columns": null,
            "grid_template_rows": null,
            "height": null,
            "justify_content": null,
            "justify_items": null,
            "left": null,
            "margin": null,
            "max_height": null,
            "max_width": null,
            "min_height": null,
            "min_width": null,
            "object_fit": null,
            "object_position": null,
            "order": null,
            "overflow": null,
            "overflow_x": null,
            "overflow_y": null,
            "padding": null,
            "right": null,
            "top": null,
            "visibility": null,
            "width": null
          }
        },
        "ba9579e162574ab097e872e8a91791ee": {
          "model_module": "@jupyter-widgets/controls",
          "model_module_version": "1.5.0",
          "model_name": "HBoxModel",
          "state": {
            "_dom_classes": [],
            "_model_module": "@jupyter-widgets/controls",
            "_model_module_version": "1.5.0",
            "_model_name": "HBoxModel",
            "_view_count": null,
            "_view_module": "@jupyter-widgets/controls",
            "_view_module_version": "1.5.0",
            "_view_name": "HBoxView",
            "box_style": "",
            "children": [
              "IPY_MODEL_3a321e1482704cdc9257018a6cca6265",
              "IPY_MODEL_036fe75b89ba48738a2be78cb266550b",
              "IPY_MODEL_841b034482fe42f89f82d7115a9956fc"
            ],
            "layout": "IPY_MODEL_bbb83053a1af468483b6f72331197948"
          }
        },
        "bbb83053a1af468483b6f72331197948": {
          "model_module": "@jupyter-widgets/base",
          "model_module_version": "1.2.0",
          "model_name": "LayoutModel",
          "state": {
            "_model_module": "@jupyter-widgets/base",
            "_model_module_version": "1.2.0",
            "_model_name": "LayoutModel",
            "_view_count": null,
            "_view_module": "@jupyter-widgets/base",
            "_view_module_version": "1.2.0",
            "_view_name": "LayoutView",
            "align_content": null,
            "align_items": null,
            "align_self": null,
            "border": null,
            "bottom": null,
            "display": null,
            "flex": null,
            "flex_flow": null,
            "grid_area": null,
            "grid_auto_columns": null,
            "grid_auto_flow": null,
            "grid_auto_rows": null,
            "grid_column": null,
            "grid_gap": null,
            "grid_row": null,
            "grid_template_areas": null,
            "grid_template_columns": null,
            "grid_template_rows": null,
            "height": null,
            "justify_content": null,
            "justify_items": null,
            "left": null,
            "margin": null,
            "max_height": null,
            "max_width": null,
            "min_height": null,
            "min_width": null,
            "object_fit": null,
            "object_position": null,
            "order": null,
            "overflow": null,
            "overflow_x": null,
            "overflow_y": null,
            "padding": null,
            "right": null,
            "top": null,
            "visibility": null,
            "width": null
          }
        },
        "bc0f9c3ad0f74a5d8d1625063a538283": {
          "model_module": "@jupyter-widgets/controls",
          "model_module_version": "1.5.0",
          "model_name": "HTMLModel",
          "state": {
            "_dom_classes": [],
            "_model_module": "@jupyter-widgets/controls",
            "_model_module_version": "1.5.0",
            "_model_name": "HTMLModel",
            "_view_count": null,
            "_view_module": "@jupyter-widgets/controls",
            "_view_module_version": "1.5.0",
            "_view_name": "HTMLView",
            "description": "",
            "description_tooltip": null,
            "layout": "IPY_MODEL_e02cd41b4c8e4505b4f91925efc0540c",
            "placeholder": "​",
            "style": "IPY_MODEL_c6027d8199514c62ace814fd9f103ab9",
            "value": " 434k/? [00:00&lt;00:00, 13.1MB/s]"
          }
        },
        "bd9b73379ebd4498a97468879693e9be": {
          "model_module": "@jupyter-widgets/controls",
          "model_module_version": "1.5.0",
          "model_name": "DescriptionStyleModel",
          "state": {
            "_model_module": "@jupyter-widgets/controls",
            "_model_module_version": "1.5.0",
            "_model_name": "DescriptionStyleModel",
            "_view_count": null,
            "_view_module": "@jupyter-widgets/base",
            "_view_module_version": "1.2.0",
            "_view_name": "StyleView",
            "description_width": ""
          }
        },
        "c3f405be35f7488993bb2dde63a73ed5": {
          "model_module": "@jupyter-widgets/base",
          "model_module_version": "1.2.0",
          "model_name": "LayoutModel",
          "state": {
            "_model_module": "@jupyter-widgets/base",
            "_model_module_version": "1.2.0",
            "_model_name": "LayoutModel",
            "_view_count": null,
            "_view_module": "@jupyter-widgets/base",
            "_view_module_version": "1.2.0",
            "_view_name": "LayoutView",
            "align_content": null,
            "align_items": null,
            "align_self": null,
            "border": null,
            "bottom": null,
            "display": null,
            "flex": null,
            "flex_flow": null,
            "grid_area": null,
            "grid_auto_columns": null,
            "grid_auto_flow": null,
            "grid_auto_rows": null,
            "grid_column": null,
            "grid_gap": null,
            "grid_row": null,
            "grid_template_areas": null,
            "grid_template_columns": null,
            "grid_template_rows": null,
            "height": null,
            "justify_content": null,
            "justify_items": null,
            "left": null,
            "margin": null,
            "max_height": null,
            "max_width": null,
            "min_height": null,
            "min_width": null,
            "object_fit": null,
            "object_position": null,
            "order": null,
            "overflow": null,
            "overflow_x": null,
            "overflow_y": null,
            "padding": null,
            "right": null,
            "top": null,
            "visibility": null,
            "width": null
          }
        },
        "c489418f3cbf42d68a1e9a4093f01b30": {
          "model_module": "@jupyter-widgets/controls",
          "model_module_version": "1.5.0",
          "model_name": "FloatProgressModel",
          "state": {
            "_dom_classes": [],
            "_model_module": "@jupyter-widgets/controls",
            "_model_module_version": "1.5.0",
            "_model_name": "FloatProgressModel",
            "_view_count": null,
            "_view_module": "@jupyter-widgets/controls",
            "_view_module_version": "1.5.0",
            "_view_name": "ProgressView",
            "bar_style": "success",
            "description": "",
            "description_tooltip": null,
            "layout": "IPY_MODEL_0c427dec66274d7c8d9f81605baf88f0",
            "max": 1,
            "min": 0,
            "orientation": "horizontal",
            "style": "IPY_MODEL_e4cfc72a65d84cd981351e7a9b4e2ff8",
            "value": 1
          }
        },
        "c6027d8199514c62ace814fd9f103ab9": {
          "model_module": "@jupyter-widgets/controls",
          "model_module_version": "1.5.0",
          "model_name": "DescriptionStyleModel",
          "state": {
            "_model_module": "@jupyter-widgets/controls",
            "_model_module_version": "1.5.0",
            "_model_name": "DescriptionStyleModel",
            "_view_count": null,
            "_view_module": "@jupyter-widgets/base",
            "_view_module_version": "1.2.0",
            "_view_name": "StyleView",
            "description_width": ""
          }
        },
        "c69148527a664c739eeca514c5e02019": {
          "model_module": "@jupyter-widgets/controls",
          "model_module_version": "1.5.0",
          "model_name": "DescriptionStyleModel",
          "state": {
            "_model_module": "@jupyter-widgets/controls",
            "_model_module_version": "1.5.0",
            "_model_name": "DescriptionStyleModel",
            "_view_count": null,
            "_view_module": "@jupyter-widgets/base",
            "_view_module_version": "1.2.0",
            "_view_name": "StyleView",
            "description_width": ""
          }
        },
        "c7beac449b12491c8eb54b5231ee7e90": {
          "model_module": "@jupyter-widgets/base",
          "model_module_version": "1.2.0",
          "model_name": "LayoutModel",
          "state": {
            "_model_module": "@jupyter-widgets/base",
            "_model_module_version": "1.2.0",
            "_model_name": "LayoutModel",
            "_view_count": null,
            "_view_module": "@jupyter-widgets/base",
            "_view_module_version": "1.2.0",
            "_view_name": "LayoutView",
            "align_content": null,
            "align_items": null,
            "align_self": null,
            "border": null,
            "bottom": null,
            "display": null,
            "flex": null,
            "flex_flow": null,
            "grid_area": null,
            "grid_auto_columns": null,
            "grid_auto_flow": null,
            "grid_auto_rows": null,
            "grid_column": null,
            "grid_gap": null,
            "grid_row": null,
            "grid_template_areas": null,
            "grid_template_columns": null,
            "grid_template_rows": null,
            "height": null,
            "justify_content": null,
            "justify_items": null,
            "left": null,
            "margin": null,
            "max_height": null,
            "max_width": null,
            "min_height": null,
            "min_width": null,
            "object_fit": null,
            "object_position": null,
            "order": null,
            "overflow": null,
            "overflow_x": null,
            "overflow_y": null,
            "padding": null,
            "right": null,
            "top": null,
            "visibility": null,
            "width": null
          }
        },
        "ca01a2405ae34649a01de0289a8aab99": {
          "model_module": "@jupyter-widgets/controls",
          "model_module_version": "1.5.0",
          "model_name": "DescriptionStyleModel",
          "state": {
            "_model_module": "@jupyter-widgets/controls",
            "_model_module_version": "1.5.0",
            "_model_name": "DescriptionStyleModel",
            "_view_count": null,
            "_view_module": "@jupyter-widgets/base",
            "_view_module_version": "1.2.0",
            "_view_name": "StyleView",
            "description_width": ""
          }
        },
        "cfca4b12ab6d412485c8c2bc4fa56e77": {
          "model_module": "@jupyter-widgets/controls",
          "model_module_version": "1.5.0",
          "model_name": "DescriptionStyleModel",
          "state": {
            "_model_module": "@jupyter-widgets/controls",
            "_model_module_version": "1.5.0",
            "_model_name": "DescriptionStyleModel",
            "_view_count": null,
            "_view_module": "@jupyter-widgets/base",
            "_view_module_version": "1.2.0",
            "_view_name": "StyleView",
            "description_width": ""
          }
        },
        "d15f9f58ee044d38a97ec19a440f9dcf": {
          "model_module": "@jupyter-widgets/controls",
          "model_module_version": "1.5.0",
          "model_name": "DescriptionStyleModel",
          "state": {
            "_model_module": "@jupyter-widgets/controls",
            "_model_module_version": "1.5.0",
            "_model_name": "DescriptionStyleModel",
            "_view_count": null,
            "_view_module": "@jupyter-widgets/base",
            "_view_module_version": "1.2.0",
            "_view_name": "StyleView",
            "description_width": ""
          }
        },
        "d16fb6b9124f458d878b49863c676a97": {
          "model_module": "@jupyter-widgets/controls",
          "model_module_version": "1.5.0",
          "model_name": "HTMLModel",
          "state": {
            "_dom_classes": [],
            "_model_module": "@jupyter-widgets/controls",
            "_model_module_version": "1.5.0",
            "_model_name": "HTMLModel",
            "_view_count": null,
            "_view_module": "@jupyter-widgets/controls",
            "_view_module_version": "1.5.0",
            "_view_name": "HTMLView",
            "description": "",
            "description_tooltip": null,
            "layout": "IPY_MODEL_9428de496afc40f4ba1642cdc335ff42",
            "placeholder": "​",
            "style": "IPY_MODEL_b69b831cbb8248268cdb127d11a38d53",
            "value": " 134/134 [00:00&lt;00:00, 13.7kB/s]"
          }
        },
        "d25442b7a2e244ecacaea001d79b12a4": {
          "model_module": "@jupyter-widgets/base",
          "model_module_version": "1.2.0",
          "model_name": "LayoutModel",
          "state": {
            "_model_module": "@jupyter-widgets/base",
            "_model_module_version": "1.2.0",
            "_model_name": "LayoutModel",
            "_view_count": null,
            "_view_module": "@jupyter-widgets/base",
            "_view_module_version": "1.2.0",
            "_view_name": "LayoutView",
            "align_content": null,
            "align_items": null,
            "align_self": null,
            "border": null,
            "bottom": null,
            "display": null,
            "flex": null,
            "flex_flow": null,
            "grid_area": null,
            "grid_auto_columns": null,
            "grid_auto_flow": null,
            "grid_auto_rows": null,
            "grid_column": null,
            "grid_gap": null,
            "grid_row": null,
            "grid_template_areas": null,
            "grid_template_columns": null,
            "grid_template_rows": null,
            "height": null,
            "justify_content": null,
            "justify_items": null,
            "left": null,
            "margin": null,
            "max_height": null,
            "max_width": null,
            "min_height": null,
            "min_width": null,
            "object_fit": null,
            "object_position": null,
            "order": null,
            "overflow": null,
            "overflow_x": null,
            "overflow_y": null,
            "padding": null,
            "right": null,
            "top": null,
            "visibility": null,
            "width": null
          }
        },
        "dedad397cd3949169c1152f1254881da": {
          "model_module": "@jupyter-widgets/base",
          "model_module_version": "1.2.0",
          "model_name": "LayoutModel",
          "state": {
            "_model_module": "@jupyter-widgets/base",
            "_model_module_version": "1.2.0",
            "_model_name": "LayoutModel",
            "_view_count": null,
            "_view_module": "@jupyter-widgets/base",
            "_view_module_version": "1.2.0",
            "_view_name": "LayoutView",
            "align_content": null,
            "align_items": null,
            "align_self": null,
            "border": null,
            "bottom": null,
            "display": null,
            "flex": null,
            "flex_flow": null,
            "grid_area": null,
            "grid_auto_columns": null,
            "grid_auto_flow": null,
            "grid_auto_rows": null,
            "grid_column": null,
            "grid_gap": null,
            "grid_row": null,
            "grid_template_areas": null,
            "grid_template_columns": null,
            "grid_template_rows": null,
            "height": null,
            "justify_content": null,
            "justify_items": null,
            "left": null,
            "margin": null,
            "max_height": null,
            "max_width": null,
            "min_height": null,
            "min_width": null,
            "object_fit": null,
            "object_position": null,
            "order": null,
            "overflow": null,
            "overflow_x": null,
            "overflow_y": null,
            "padding": null,
            "right": null,
            "top": null,
            "visibility": null,
            "width": null
          }
        },
        "e02cd41b4c8e4505b4f91925efc0540c": {
          "model_module": "@jupyter-widgets/base",
          "model_module_version": "1.2.0",
          "model_name": "LayoutModel",
          "state": {
            "_model_module": "@jupyter-widgets/base",
            "_model_module_version": "1.2.0",
            "_model_name": "LayoutModel",
            "_view_count": null,
            "_view_module": "@jupyter-widgets/base",
            "_view_module_version": "1.2.0",
            "_view_name": "LayoutView",
            "align_content": null,
            "align_items": null,
            "align_self": null,
            "border": null,
            "bottom": null,
            "display": null,
            "flex": null,
            "flex_flow": null,
            "grid_area": null,
            "grid_auto_columns": null,
            "grid_auto_flow": null,
            "grid_auto_rows": null,
            "grid_column": null,
            "grid_gap": null,
            "grid_row": null,
            "grid_template_areas": null,
            "grid_template_columns": null,
            "grid_template_rows": null,
            "height": null,
            "justify_content": null,
            "justify_items": null,
            "left": null,
            "margin": null,
            "max_height": null,
            "max_width": null,
            "min_height": null,
            "min_width": null,
            "object_fit": null,
            "object_position": null,
            "order": null,
            "overflow": null,
            "overflow_x": null,
            "overflow_y": null,
            "padding": null,
            "right": null,
            "top": null,
            "visibility": null,
            "width": null
          }
        },
        "e3a6b7cf36274b54af7806e9f759aa27": {
          "model_module": "@jupyter-widgets/controls",
          "model_module_version": "1.5.0",
          "model_name": "DescriptionStyleModel",
          "state": {
            "_model_module": "@jupyter-widgets/controls",
            "_model_module_version": "1.5.0",
            "_model_name": "DescriptionStyleModel",
            "_view_count": null,
            "_view_module": "@jupyter-widgets/base",
            "_view_module_version": "1.2.0",
            "_view_name": "StyleView",
            "description_width": ""
          }
        },
        "e4cfc72a65d84cd981351e7a9b4e2ff8": {
          "model_module": "@jupyter-widgets/controls",
          "model_module_version": "1.5.0",
          "model_name": "ProgressStyleModel",
          "state": {
            "_model_module": "@jupyter-widgets/controls",
            "_model_module_version": "1.5.0",
            "_model_name": "ProgressStyleModel",
            "_view_count": null,
            "_view_module": "@jupyter-widgets/base",
            "_view_module_version": "1.2.0",
            "_view_name": "StyleView",
            "bar_color": null,
            "description_width": ""
          }
        },
        "ec63b49449cd4ecf9fa5ed4284cf4941": {
          "model_module": "@jupyter-widgets/base",
          "model_module_version": "1.2.0",
          "model_name": "LayoutModel",
          "state": {
            "_model_module": "@jupyter-widgets/base",
            "_model_module_version": "1.2.0",
            "_model_name": "LayoutModel",
            "_view_count": null,
            "_view_module": "@jupyter-widgets/base",
            "_view_module_version": "1.2.0",
            "_view_name": "LayoutView",
            "align_content": null,
            "align_items": null,
            "align_self": null,
            "border": null,
            "bottom": null,
            "display": null,
            "flex": null,
            "flex_flow": null,
            "grid_area": null,
            "grid_auto_columns": null,
            "grid_auto_flow": null,
            "grid_auto_rows": null,
            "grid_column": null,
            "grid_gap": null,
            "grid_row": null,
            "grid_template_areas": null,
            "grid_template_columns": null,
            "grid_template_rows": null,
            "height": null,
            "justify_content": null,
            "justify_items": null,
            "left": null,
            "margin": null,
            "max_height": null,
            "max_width": null,
            "min_height": null,
            "min_width": null,
            "object_fit": null,
            "object_position": null,
            "order": null,
            "overflow": null,
            "overflow_x": null,
            "overflow_y": null,
            "padding": null,
            "right": null,
            "top": null,
            "visibility": null,
            "width": null
          }
        },
        "ec662d2109d14379a23f5dafb23da6f7": {
          "model_module": "@jupyter-widgets/controls",
          "model_module_version": "1.5.0",
          "model_name": "HBoxModel",
          "state": {
            "_dom_classes": [],
            "_model_module": "@jupyter-widgets/controls",
            "_model_module_version": "1.5.0",
            "_model_name": "HBoxModel",
            "_view_count": null,
            "_view_module": "@jupyter-widgets/controls",
            "_view_module_version": "1.5.0",
            "_view_name": "HBoxView",
            "box_style": "",
            "children": [
              "IPY_MODEL_3755dc5575654854a95c61a5eece3568",
              "IPY_MODEL_237b9ddd459a4c1aa54ed5d238f06151",
              "IPY_MODEL_bc0f9c3ad0f74a5d8d1625063a538283"
            ],
            "layout": "IPY_MODEL_aaa85327ba1e42799deb04124f8ad18b"
          }
        },
        "f1fbd6a1f6144c7ab710b013a60b8885": {
          "model_module": "@jupyter-widgets/base",
          "model_module_version": "1.2.0",
          "model_name": "LayoutModel",
          "state": {
            "_model_module": "@jupyter-widgets/base",
            "_model_module_version": "1.2.0",
            "_model_name": "LayoutModel",
            "_view_count": null,
            "_view_module": "@jupyter-widgets/base",
            "_view_module_version": "1.2.0",
            "_view_name": "LayoutView",
            "align_content": null,
            "align_items": null,
            "align_self": null,
            "border": null,
            "bottom": null,
            "display": null,
            "flex": null,
            "flex_flow": null,
            "grid_area": null,
            "grid_auto_columns": null,
            "grid_auto_flow": null,
            "grid_auto_rows": null,
            "grid_column": null,
            "grid_gap": null,
            "grid_row": null,
            "grid_template_areas": null,
            "grid_template_columns": null,
            "grid_template_rows": null,
            "height": null,
            "justify_content": null,
            "justify_items": null,
            "left": null,
            "margin": null,
            "max_height": null,
            "max_width": null,
            "min_height": null,
            "min_width": null,
            "object_fit": null,
            "object_position": null,
            "order": null,
            "overflow": null,
            "overflow_x": null,
            "overflow_y": null,
            "padding": null,
            "right": null,
            "top": null,
            "visibility": null,
            "width": null
          }
        },
        "facdcdb1ce2842b0a43b8d28e0ed717a": {
          "model_module": "@jupyter-widgets/base",
          "model_module_version": "1.2.0",
          "model_name": "LayoutModel",
          "state": {
            "_model_module": "@jupyter-widgets/base",
            "_model_module_version": "1.2.0",
            "_model_name": "LayoutModel",
            "_view_count": null,
            "_view_module": "@jupyter-widgets/base",
            "_view_module_version": "1.2.0",
            "_view_name": "LayoutView",
            "align_content": null,
            "align_items": null,
            "align_self": null,
            "border": null,
            "bottom": null,
            "display": null,
            "flex": null,
            "flex_flow": null,
            "grid_area": null,
            "grid_auto_columns": null,
            "grid_auto_flow": null,
            "grid_auto_rows": null,
            "grid_column": null,
            "grid_gap": null,
            "grid_row": null,
            "grid_template_areas": null,
            "grid_template_columns": null,
            "grid_template_rows": null,
            "height": null,
            "justify_content": null,
            "justify_items": null,
            "left": null,
            "margin": null,
            "max_height": null,
            "max_width": null,
            "min_height": null,
            "min_width": null,
            "object_fit": null,
            "object_position": null,
            "order": null,
            "overflow": null,
            "overflow_x": null,
            "overflow_y": null,
            "padding": null,
            "right": null,
            "top": null,
            "visibility": null,
            "width": null
          }
        }
      }
    }
  },
  "nbformat": 4,
  "nbformat_minor": 0
}
