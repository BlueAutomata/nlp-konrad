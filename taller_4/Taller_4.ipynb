{
  "cells": [
    {
      "cell_type": "markdown",
      "metadata": {
        "id": "0PYkUjyGexzN"
      },
      "source": [
        "# Taller 4"
      ]
    },
    {
      "cell_type": "markdown",
      "metadata": {
        "id": "peJKq7VQeZpl"
      },
      "source": [
        "Autor: Guillermo Luigui Ubaldo Nieto Angarita\n",
        "\n",
        "Rol: Estudiante en Maestría en Analítica Estrategica de Datos"
      ]
    },
    {
      "cell_type": "markdown",
      "metadata": {},
      "source": [
        "Instrucciones: \n",
        "- Vectorizar con TF-IDF, Glove, Word2Vec\n",
        "- Implementar técnicas de Ngrams\n",
        "- Calcular la distancia del Coseno con los 3 vectorizaciones \n",
        "- representar mediante Mapa de calor los resultados de los distancia del Coseno\n",
        "- Calcular y representar el Top Modeling Mediante LDA."
      ]
    },
    {
      "cell_type": "markdown",
      "metadata": {
        "id": "Rem7TYwfe2kU"
      },
      "source": [
        "## 1. Limpieza del texto"
      ]
    },
    {
      "cell_type": "markdown",
      "metadata": {
        "id": "_ieunx--e7y7"
      },
      "source": [
        "### 1.1 Cargar librerías"
      ]
    },
    {
      "cell_type": "code",
      "execution_count": 61,
      "metadata": {
        "id": "j9QHXLmMeUCd"
      },
      "outputs": [],
      "source": [
        "import re  # Para trabajar con expresiones regulares\n",
        "import spacy  # Para procesamiento de lenguaje natural (NLP)\n",
        "import unicodedata  # Para normalizar caracteres Unicode\n",
        "import stanza\n",
        "import nltk\n",
        "import fitz  # PyMuPDF\n",
        "import docx2txt\n",
        "import requests\n",
        "import os\n",
        "import gzip\n",
        "import numpy as np\n",
        "import pandas as pd\n",
        "import seaborn as sns\n",
        "import matplotlib.pyplot as plt\n",
        "import scipy\n",
        "\n",
        "from gensim import corpora\n",
        "from transformers import AutoTokenizer\n",
        "from nltk.corpus import stopwords\n",
        "from nltk.stem import SnowballStemmer\n",
        "from flair.data import Sentence\n",
        "from flair.models import SequenceTagger\n",
        "from sklearn.feature_extraction.text import TfidfVectorizer\n",
        "from tqdm.notebook import tqdm\n",
        "from gensim.models import Word2Vec\n",
        "from gensim.models.phrases import Phrases, Phraser\n",
        "from huggingface_hub import login\n",
        "from scipy.spatial.distance import cosine\n",
        "from sklearn.metrics.pairwise import cosine_distances\n",
        "import pyLDAvis.gensim_models as gensimvis\n",
        "import pyLDAvis\n",
        "from gensim.models import LdaModel"
      ]
    },
    {
      "cell_type": "markdown",
      "metadata": {
        "id": "B2CI1Qb2fMWE"
      },
      "source": [
        "### 1.2 Descargar los tokenizadores"
      ]
    },
    {
      "cell_type": "code",
      "execution_count": 2,
      "metadata": {
        "colab": {
          "base_uri": "https://localhost:8080/",
          "height": 241,
          "referenced_widgets": [
            "ec662d2109d14379a23f5dafb23da6f7",
            "3755dc5575654854a95c61a5eece3568",
            "237b9ddd459a4c1aa54ed5d238f06151",
            "bc0f9c3ad0f74a5d8d1625063a538283",
            "aaa85327ba1e42799deb04124f8ad18b",
            "24060a7dbccf4f69a3cf9440d0481a17",
            "ca01a2405ae34649a01de0289a8aab99",
            "a77634183333439295cfddb548b9314e",
            "17843ba97a9944e6b4a0c2b2ac58ab3e",
            "e02cd41b4c8e4505b4f91925efc0540c",
            "c6027d8199514c62ace814fd9f103ab9",
            "77fbd86169314e00a4ea043d5e44ae52",
            "1e845f15cd014d699f8946fcacda231d",
            "67ca0c17292b44ab993a81cb9ea99952",
            "726fc60397354714b5686f18ed59295f",
            "9577d749f5b44d72868312215df79903",
            "f1fbd6a1f6144c7ab710b013a60b8885",
            "8c17d7dda4bf49f1acde1c9276cfbfbe",
            "aea78e0138014370ad60ee68cbdd3f65",
            "5b881969ac604028a2d07f859c8ac2e3",
            "98d66420dc844b118ac5907b8ee64be8",
            "02025d4aee4747e1a5af1fca368d023f"
          ]
        },
        "id": "8pPKRaDwfPxd",
        "outputId": "0f2a3f97-e8d0-4af5-e089-1346cffe5609"
      },
      "outputs": [
        {
          "name": "stderr",
          "output_type": "stream",
          "text": [
            "[nltk_data] Downloading package punkt to\n",
            "[nltk_data]     C:\\Users\\guill\\AppData\\Roaming\\nltk_data...\n",
            "[nltk_data]   Package punkt is already up-to-date!\n"
          ]
        },
        {
          "data": {
            "application/vnd.jupyter.widget-view+json": {
              "model_id": "3f77f8cf34f943ffabeeb4dec9445b96",
              "version_major": 2,
              "version_minor": 0
            },
            "text/plain": [
              "Downloading https://raw.githubusercontent.com/stanfordnlp/stanza-resources/main/resources_1.10.0.json:   0%|  …"
            ]
          },
          "metadata": {},
          "output_type": "display_data"
        },
        {
          "name": "stderr",
          "output_type": "stream",
          "text": [
            "2025-09-11 22:08:21 INFO: Downloaded file to C:\\Users\\guill\\stanza_resources\\resources.json\n",
            "2025-09-11 22:08:21 INFO: Downloading default packages for language: es (Spanish) ...\n",
            "2025-09-11 22:08:22 INFO: File exists: C:\\Users\\guill\\stanza_resources\\es\\default.zip\n",
            "2025-09-11 22:08:25 INFO: Finished downloading models and saved to C:\\Users\\guill\\stanza_resources\n"
          ]
        }
      ],
      "source": [
        "nltk.download('punkt')\n",
        "stanza.download('es')"
      ]
    },
    {
      "cell_type": "code",
      "execution_count": 3,
      "metadata": {
        "colab": {
          "base_uri": "https://localhost:8080/",
          "height": 795,
          "referenced_widgets": [
            "99964ab9466049f7b7f2bc3f4bb7a1b0",
            "73d1f2b6e49845078d5815a280651d32",
            "a7266e1ca4404c23adecf2b907908655",
            "aa1f1bed21614c50a8ce1dadf83cb40d",
            "a9f5be277a9a412c843dc300dd55f95d",
            "2ca80f9886424d02b3ef0bc515b4c27b",
            "c69148527a664c739eeca514c5e02019",
            "5fef9b532f3946aaa1636ce60d7a3fc9",
            "5661149a0b9e46e0bc80eda87068b054",
            "ec63b49449cd4ecf9fa5ed4284cf4941",
            "7df44ba3d392452ba5c5b6a06b36524b",
            "a72b9612858142e3b796374c9177992b",
            "6a1c1016060c4271a488db8f6f3ea272",
            "584688bcdb4d44dbb89c44bdd26fc596",
            "007f10afd122469cb083fb84e7d004b3",
            "a8d684125d2242a888d79af334fe9611",
            "b7f338ebf9b64d689ce46ec26f0c2996",
            "17256e4f880e417e8153e2f6196c5d29",
            "c7beac449b12491c8eb54b5231ee7e90",
            "24aa937722be458bac8df636acceaac8",
            "4c96befd880440fca6ac1d7740b7ca75",
            "4a99a3b937a94d898676da7b0b44c01f",
            "ba9579e162574ab097e872e8a91791ee",
            "3a321e1482704cdc9257018a6cca6265",
            "036fe75b89ba48738a2be78cb266550b",
            "841b034482fe42f89f82d7115a9956fc",
            "bbb83053a1af468483b6f72331197948",
            "d25442b7a2e244ecacaea001d79b12a4",
            "cfca4b12ab6d412485c8c2bc4fa56e77",
            "24384a70f5524740b8cb7b9aeb6045ef",
            "48c04366d31d4f3e98ee76030b66a915",
            "4635f62aa28e45b19ecda7df8c4859d5",
            "832ebcc19dc643d3a43e69d85e492f52",
            "a41bd40d41fb4caea83931b82e79d2b1",
            "8830bedbae2b4b0ca535b6eef2652086",
            "c489418f3cbf42d68a1e9a4093f01b30",
            "09603f605b4b45908ecec5bbc798aedb",
            "b77dc2cad48e4bf8a93c269f7a4baae7",
            "4d4ae2b160ed4976830ccb685d405d6b",
            "1db7bd99e8b94bca9db986aaeb3fb6c3",
            "0c427dec66274d7c8d9f81605baf88f0",
            "e4cfc72a65d84cd981351e7a9b4e2ff8",
            "c3f405be35f7488993bb2dde63a73ed5",
            "bd9b73379ebd4498a97468879693e9be",
            "5b6f435f4efd44d08bc9c297e82b5d86",
            "1ac5ef2754604d33a9b13a12233b555f",
            "4adba0c9eb5949df885b2f7feb9d14e2",
            "4b56224ecfb64f09bc45e091592031da",
            "803f621dbce44d9080d8f8c5121ce429",
            "facdcdb1ce2842b0a43b8d28e0ed717a",
            "8be8fde9fa784641bd001d922bd7faa6",
            "a7433a4e52464ee5bb6d9c2c42453666",
            "1f2307b6e11446568e51ede0f64c49ce",
            "1b8e2f71b38343759380cc9c9166354f",
            "e3a6b7cf36274b54af7806e9f759aa27",
            "13abbe47630b446f8a9018a33623b52d",
            "0cfd8a325383451d8adc1d798a06eb8c",
            "6e0c0aa3bd9645778215523e6257e360",
            "d16fb6b9124f458d878b49863c676a97",
            "983224230e7e420a970caa2d36dba553",
            "269d11ffdbfc41e5aba58855911cac5d",
            "d15f9f58ee044d38a97ec19a440f9dcf",
            "dedad397cd3949169c1152f1254881da",
            "1982dafe5491425a82d2215e70f33c95",
            "9428de496afc40f4ba1642cdc335ff42",
            "b69b831cbb8248268cdb127d11a38d53"
          ]
        },
        "id": "ccpghAVxmgS-",
        "outputId": "45e32ff2-eb14-4771-99be-437b35d0bbf2"
      },
      "outputs": [
        {
          "name": "stderr",
          "output_type": "stream",
          "text": [
            "2025-09-11 22:08:25 INFO: Checking for updates to resources.json in case models have been updated.  Note: this behavior can be turned off with download_method=None or download_method=DownloadMethod.REUSE_RESOURCES\n"
          ]
        },
        {
          "data": {
            "application/vnd.jupyter.widget-view+json": {
              "model_id": "19995709a681436b864c0959f5fc36b9",
              "version_major": 2,
              "version_minor": 0
            },
            "text/plain": [
              "Downloading https://raw.githubusercontent.com/stanfordnlp/stanza-resources/main/resources_1.10.0.json:   0%|  …"
            ]
          },
          "metadata": {},
          "output_type": "display_data"
        },
        {
          "name": "stderr",
          "output_type": "stream",
          "text": [
            "2025-09-11 22:08:26 INFO: Downloaded file to C:\\Users\\guill\\stanza_resources\\resources.json\n",
            "2025-09-11 22:08:27 INFO: Loading these models for language: es (Spanish):\n",
            "====================================\n",
            "| Processor    | Package           |\n",
            "------------------------------------\n",
            "| tokenize     | combined          |\n",
            "| mwt          | combined          |\n",
            "| pos          | combined_charlm   |\n",
            "| lemma        | combined_nocharlm |\n",
            "| constituency | combined_charlm   |\n",
            "| depparse     | combined_charlm   |\n",
            "| sentiment    | tass2020_charlm   |\n",
            "| ner          | conll02           |\n",
            "====================================\n",
            "\n",
            "2025-09-11 22:08:27 INFO: Using device: cpu\n",
            "2025-09-11 22:08:27 INFO: Loading: tokenize\n",
            "2025-09-11 22:08:27 INFO: Loading: mwt\n",
            "2025-09-11 22:08:27 INFO: Loading: pos\n",
            "2025-09-11 22:08:28 INFO: Loading: lemma\n",
            "2025-09-11 22:08:29 INFO: Loading: constituency\n",
            "2025-09-11 22:08:30 INFO: Loading: depparse\n",
            "2025-09-11 22:08:30 INFO: Loading: sentiment\n",
            "2025-09-11 22:08:30 INFO: Loading: ner\n",
            "2025-09-11 22:08:32 INFO: Done loading processors!\n"
          ]
        }
      ],
      "source": [
        "nlp_stanza = stanza.Pipeline(\"es\")\n",
        "nlp_spacy = spacy.load(\"es_core_news_sm\")  #cargar el modelo en español\n",
        "tokenizer_bert = AutoTokenizer.from_pretrained(\"dccuchile/bert-base-spanish-wwm-cased\")"
      ]
    },
    {
      "cell_type": "markdown",
      "metadata": {
        "id": "RkK85wa-gKS7"
      },
      "source": [
        "### 1.3 Descargar Stopwords en Español"
      ]
    },
    {
      "cell_type": "code",
      "execution_count": 4,
      "metadata": {
        "colab": {
          "base_uri": "https://localhost:8080/"
        },
        "id": "_UvtXuOzgJat",
        "outputId": "1a7c4c32-ec12-4ad7-d9dc-a1fec21bbd49"
      },
      "outputs": [
        {
          "name": "stderr",
          "output_type": "stream",
          "text": [
            "[nltk_data] Downloading package stopwords to\n",
            "[nltk_data]     C:\\Users\\guill\\AppData\\Roaming\\nltk_data...\n",
            "[nltk_data]   Package stopwords is already up-to-date!\n"
          ]
        }
      ],
      "source": [
        "nltk.download('stopwords')\n",
        "spanish_stopwords = set(stopwords.words('spanish'))"
      ]
    },
    {
      "cell_type": "markdown",
      "metadata": {
        "id": "b8T_cjYPgWjD"
      },
      "source": [
        "### 1.4 Cargar texto"
      ]
    },
    {
      "cell_type": "markdown",
      "metadata": {
        "id": "0EVe4_m5hCMF"
      },
      "source": [
        "### 1.5 Leer los Documentos Docx"
      ]
    },
    {
      "cell_type": "code",
      "execution_count": 5,
      "metadata": {},
      "outputs": [],
      "source": [
        "gabriel_garcia_marquez_text = docx2txt.process(\"texts/Discuros Gabriel García Marquez.docx\")\n",
        "albert_camus_text = docx2txt.process(\"texts/Discurso Albert Camus.docx\")\n",
        "bob_dylan_text = docx2txt.process(\"texts/Discurso Bob Dylan.docx\")\n",
        "vargas_llosa_text = docx2txt.process(\"texts/Discurso Vargas Llosa.docx\")"
      ]
    },
    {
      "cell_type": "markdown",
      "metadata": {
        "id": "iyiK_cu7kis0"
      },
      "source": [
        "### 1.6 Eliminación de elementos no deseados"
      ]
    },
    {
      "cell_type": "code",
      "execution_count": 6,
      "metadata": {
        "id": "ig-kYOm5kkB8"
      },
      "outputs": [],
      "source": [
        "def extract_text_without_unwanted_elements(text):\n",
        "    text = re.sub(r\"[^a-zA-Z0-9áéíóúÁÉÍÓÚüÜñÑ\\s]\", \"\", text)\n",
        "    return text"
      ]
    },
    {
      "cell_type": "code",
      "execution_count": 7,
      "metadata": {},
      "outputs": [],
      "source": [
        "def extract_text_without_unwanted_elements_sentences(text):\n",
        "    \"\"\"\n",
        "    Clean Spanish text but keep sentence delimiters (.!?¡¿) and newlines.\n",
        "    \"\"\"\n",
        "    # Keep Spanish letters, digits, spaces, newlines, and sentence delimiters\n",
        "    text = re.sub(r\"[^a-zA-Z0-9áéíóúÁÉÍÓÚüÜñÑ \\n\\.\\!\\?\\¡\\¿]\", \"\", text)\n",
        "    \n",
        "    # Optional: normalize multiple newlines into a single one\n",
        "    text = re.sub(r\"\\n+\", \"\\n\", text)\n",
        "    \n",
        "    return text\n"
      ]
    },
    {
      "cell_type": "markdown",
      "metadata": {
        "id": "-WGUdRQuklsm"
      },
      "source": [
        "### 1.6 Conversión a minúsculas"
      ]
    },
    {
      "cell_type": "code",
      "execution_count": 8,
      "metadata": {
        "id": "pNBf6WJ_mF5H"
      },
      "outputs": [],
      "source": [
        "def convertToLowerCase(text):\n",
        "    return text.lower()"
      ]
    },
    {
      "cell_type": "markdown",
      "metadata": {
        "id": "dOKeVIdYkmes"
      },
      "source": [
        "### 1.7 Transformación UNICODE"
      ]
    },
    {
      "cell_type": "code",
      "execution_count": 9,
      "metadata": {
        "id": "Y3KkfUDOmMcV"
      },
      "outputs": [],
      "source": [
        "def unicodeTransformation(text, method):\n",
        "    return unicodedata.normalize(method, text)"
      ]
    },
    {
      "cell_type": "markdown",
      "metadata": {
        "id": "WNuvz5FLkpkt"
      },
      "source": [
        "### 1.8 Tokenización"
      ]
    },
    {
      "cell_type": "code",
      "execution_count": 10,
      "metadata": {
        "id": "Sn5pEtXNmPst"
      },
      "outputs": [],
      "source": [
        "def stanza_tokenization_words(text):\n",
        "    doc = nlp_stanza(text)\n",
        "    return [word.text for sent in doc.sentences for word in sent.words]"
      ]
    },
    {
      "cell_type": "code",
      "execution_count": 11,
      "metadata": {},
      "outputs": [],
      "source": [
        "def stanza_tokenization_sentences(text):\n",
        "    \"\"\"\n",
        "    Tokenize text into words using Stanza (Spanish).\n",
        "    Returns: list of tokens per sentence (nested list).\n",
        "    \"\"\"\n",
        "    doc = nlp_stanza(text)\n",
        "    return [[word.text for word in sent.words] for sent in doc.sentences]"
      ]
    },
    {
      "cell_type": "markdown",
      "metadata": {
        "id": "TraDEOSFk11t"
      },
      "source": [
        "### 1.9 Eliminación de stop words"
      ]
    },
    {
      "cell_type": "code",
      "execution_count": 12,
      "metadata": {
        "id": "VLCO3NhZoYed"
      },
      "outputs": [],
      "source": [
        "# --- Function for spaCy ---\n",
        "def remove_stopwords_spacy(text):\n",
        "    \"\"\"\n",
        "    Return Spanish text without stop words using spaCy\n",
        "    \"\"\"\n",
        "    nlp = spacy.load(\"es_core_news_sm\")\n",
        "    doc = nlp(text)\n",
        "    filtered = [token.text for token in doc if not token.is_stop]\n",
        "    return \" \".join(filtered)"
      ]
    },
    {
      "cell_type": "markdown",
      "metadata": {
        "id": "HRKs7HlYlDy-"
      },
      "source": [
        "### 1.10 Lematización"
      ]
    },
    {
      "cell_type": "code",
      "execution_count": 13,
      "metadata": {
        "id": "9MOHa4LSoeT2"
      },
      "outputs": [],
      "source": [
        "def lemmatize_with_stanza(text):\n",
        "    \"\"\"\n",
        "    Lemmatize text using Stanza (Spanish pipeline).\n",
        "    Returns a flat list of lemmas.\n",
        "    \"\"\"\n",
        "    doc = nlp_stanza(text)\n",
        "    return [word.lemma for sent in doc.sentences for word in sent.words]\n"
      ]
    },
    {
      "cell_type": "code",
      "execution_count": 14,
      "metadata": {},
      "outputs": [],
      "source": [
        "def lemmatize_with_stanza_sentences(text):\n",
        "    \"\"\"\n",
        "    Lemmatize text using Stanza.\n",
        "    Splits into sentences and returns list of lists of lemmas.\n",
        "    \"\"\"\n",
        "    doc = nlp_stanza(text)\n",
        "    \n",
        "    lemmatized_sentences = []\n",
        "    for sent in doc.sentences:\n",
        "        lemmas = [word.lemma for word in sent.words]\n",
        "        lemmatized_sentences.append(lemmas)\n",
        "    \n",
        "    return lemmatized_sentences\n"
      ]
    },
    {
      "cell_type": "markdown",
      "metadata": {
        "id": "EcVknMrNlHvE"
      },
      "source": [
        "### 1.11 Stemming"
      ]
    },
    {
      "cell_type": "code",
      "execution_count": 15,
      "metadata": {
        "id": "S6Vmn6dAogel"
      },
      "outputs": [],
      "source": [
        "# --- Function 2: Stemming with NLTK ---\n",
        "def stem_spanish(text):\n",
        "    \"\"\"\n",
        "    Stem Spanish text (no stopword removal)\n",
        "    \"\"\"\n",
        "    stemmer = SnowballStemmer(\"spanish\")\n",
        "    tokens = nltk.word_tokenize(text, language=\"spanish\")\n",
        "    stems = [stemmer.stem(word) for word in tokens if word.isalpha()]\n",
        "    return stems"
      ]
    },
    {
      "cell_type": "markdown",
      "metadata": {
        "id": "0p21Or9ulLt9"
      },
      "source": [
        "### 1.12 Identificar NERs"
      ]
    },
    {
      "cell_type": "code",
      "execution_count": 16,
      "metadata": {
        "id": "ezgeG7kvoz6c"
      },
      "outputs": [],
      "source": [
        "def apply_ner(text):\n",
        "    sentence = Sentence(text)\n",
        "    tagger.predict(sentence)\n",
        "    entities = [(entity.text, entity.labels[0].value) for entity in sentence.get_spans('ner')]\n",
        "    return entities"
      ]
    },
    {
      "cell_type": "markdown",
      "metadata": {
        "id": "Mqc6pmfklSHt"
      },
      "source": [
        "### 1.13 Procedimiento de Textos"
      ]
    },
    {
      "cell_type": "code",
      "execution_count": 17,
      "metadata": {},
      "outputs": [],
      "source": [
        "def text_processing_pipeline_words(text):\n",
        "    text_unicode = unicodeTransformation(text, \"NFKD\")\n",
        "\n",
        "    text_cleaned = extract_text_without_unwanted_elements(text_unicode)\n",
        "\n",
        "    text_lower_case = convertToLowerCase(text_cleaned)\n",
        "\n",
        "    text_without_stop_words = remove_stopwords_spacy(text_lower_case)\n",
        "\n",
        "    tokens = stanza_tokenization_words(text_without_stop_words)\n",
        "    \n",
        "    lammes = lemmatize_with_stanza(' '.join(tokens))\n",
        "    \n",
        "    return ' '.join(lammes)"
      ]
    },
    {
      "cell_type": "code",
      "execution_count": 18,
      "metadata": {},
      "outputs": [],
      "source": [
        "def text_processing_pipeline_sentences(text):\n",
        "    # Step 1: Unicode normalization\n",
        "    text_unicode = unicodeTransformation(text, \"NFKD\")\n",
        "\n",
        "    # Step 2: Clean unwanted elements\n",
        "    text_cleaned = extract_text_without_unwanted_elements_sentences(text_unicode)\n",
        "\n",
        "    # Step 3: Lowercase\n",
        "    text_lower_case = convertToLowerCase(text_cleaned)\n",
        "\n",
        "    # Step 4: Remove stopwords\n",
        "    text_without_stop_words = remove_stopwords_spacy(text_lower_case)\n",
        "\n",
        "    # Step 5: Lemmatization with Stanza (handles sentence + word tokenization itself)\n",
        "    lemmatized_sentences = lemmatize_with_stanza_sentences(text_without_stop_words)\n",
        "\n",
        "    return lemmatized_sentences"
      ]
    },
    {
      "cell_type": "markdown",
      "metadata": {},
      "source": [
        "### 1.14 Ejecutar Limpieza"
      ]
    },
    {
      "cell_type": "code",
      "execution_count": 19,
      "metadata": {},
      "outputs": [],
      "source": [
        "gabriel_garcia_marquez_lammes = text_processing_pipeline_words(gabriel_garcia_marquez_text)"
      ]
    },
    {
      "cell_type": "code",
      "execution_count": 20,
      "metadata": {},
      "outputs": [],
      "source": [
        "albert_camus_lammes = text_processing_pipeline_words(albert_camus_text)"
      ]
    },
    {
      "cell_type": "code",
      "execution_count": 21,
      "metadata": {},
      "outputs": [],
      "source": [
        "bob_dylan_lammes = text_processing_pipeline_words(bob_dylan_text)"
      ]
    },
    {
      "cell_type": "code",
      "execution_count": 22,
      "metadata": {},
      "outputs": [],
      "source": [
        "vargas_llosa_lammes = text_processing_pipeline_words(vargas_llosa_text)"
      ]
    },
    {
      "cell_type": "code",
      "execution_count": 23,
      "metadata": {},
      "outputs": [],
      "source": [
        "gabriel_garcia_marquez_sentences = text_processing_pipeline_sentences(albert_camus_text)"
      ]
    },
    {
      "cell_type": "code",
      "execution_count": 24,
      "metadata": {},
      "outputs": [],
      "source": [
        "albert_camus_sentences = text_processing_pipeline_sentences(gabriel_garcia_marquez_text)"
      ]
    },
    {
      "cell_type": "code",
      "execution_count": 25,
      "metadata": {},
      "outputs": [],
      "source": [
        "bob_dylan_sentences = text_processing_pipeline_sentences(bob_dylan_text)"
      ]
    },
    {
      "cell_type": "code",
      "execution_count": 26,
      "metadata": {},
      "outputs": [],
      "source": [
        "vargas_llosa_sentences = text_processing_pipeline_sentences(vargas_llosa_text)"
      ]
    },
    {
      "cell_type": "markdown",
      "metadata": {},
      "source": [
        "## 2. Vectorización"
      ]
    },
    {
      "cell_type": "markdown",
      "metadata": {},
      "source": [
        "### 2.1 Vectorización con TF-IDF"
      ]
    },
    {
      "cell_type": "code",
      "execution_count": 27,
      "metadata": {},
      "outputs": [],
      "source": [
        "# --- Step 1: Combine documents ---\n",
        "docs = [\n",
        "    gabriel_garcia_marquez_lammes,\n",
        "    albert_camus_lammes,\n",
        "    bob_dylan_lammes,\n",
        "    vargas_llosa_lammes\n",
        "]"
      ]
    },
    {
      "cell_type": "code",
      "execution_count": 28,
      "metadata": {},
      "outputs": [],
      "source": [
        "names = [\"gabriel_garcia_marquez\", \"albert_camus\", \"bob_dylan\", \"vargas_llosa\"]"
      ]
    },
    {
      "cell_type": "code",
      "execution_count": 29,
      "metadata": {},
      "outputs": [],
      "source": [
        "# --- Step 2: Fit TF-IDF on all docs ---\n",
        "# TF-IDF Vectorizer with n-grams (unigrams + bigrams)\n",
        "vectorizer = TfidfVectorizer(stop_words=None, ngram_range=(1, 2))  \n",
        "X = vectorizer.fit_transform(docs)  # shape = (4, n_features)"
      ]
    },
    {
      "cell_type": "code",
      "execution_count": 30,
      "metadata": {},
      "outputs": [],
      "source": [
        "# --- Step 3: Save each document vector separately ---\n",
        "doc_vectors_tf_idf = {}\n",
        "for i, name in enumerate(names):\n",
        "    doc_vectors_tf_idf[name] = X[i]  # sparse vector"
      ]
    },
    {
      "cell_type": "markdown",
      "metadata": {
        "id": "iQDAYfssl0qe"
      },
      "source": [
        "### 2.2 Vectorización con GloVe"
      ]
    },
    {
      "cell_type": "code",
      "execution_count": 31,
      "metadata": {},
      "outputs": [
        {
          "name": "stdout",
          "output_type": "stream",
          "text": [
            "✅ File already exists (949886421 bytes). No download needed.\n"
          ]
        }
      ],
      "source": [
        "url = \"http://dcc.uchile.cl/~jperez/word-embeddings/glove-sbwc.i25.vec.gz\"\n",
        "local_path = \"glove-sbwc.i25.vec.gz\"\n",
        "\n",
        "if not os.path.exists(local_path) or os.path.getsize(local_path) == 0:\n",
        "    print(f\"Downloading {local_path} ...\")\n",
        "    response = requests.get(url, stream=True)\n",
        "    response.raise_for_status()\n",
        "    \n",
        "    total_size = int(response.headers.get(\"content-length\", 0))\n",
        "    block_size = 1024  # 1 KB\n",
        "    \n",
        "    with open(local_path, \"wb\") as file, tqdm(\n",
        "        total=total_size, unit=\"iB\", unit_scale=True\n",
        "    ) as bar:\n",
        "        for chunk in response.iter_content(block_size):\n",
        "            file.write(chunk)\n",
        "            bar.update(len(chunk))\n",
        "    \n",
        "    print(\"✅ Download complete.\")\n",
        "else:\n",
        "    print(f\"✅ File already exists ({os.path.getsize(local_path)} bytes). No download needed.\")"
      ]
    },
    {
      "cell_type": "code",
      "execution_count": 32,
      "metadata": {},
      "outputs": [],
      "source": [
        "# Step 1: Load embeddings (works with gzipped file)\n",
        "def load_embeddings(file_path, vocab=None):\n",
        "    embeddings = {}\n",
        "    dim = None\n",
        "    with gzip.open(file_path, \"rt\", encoding=\"utf-8\") as f:\n",
        "        for line in f:\n",
        "            parts = line.strip().split()\n",
        "            word = parts[0]\n",
        "            if dim is None:  # detect dimension automatically\n",
        "                dim = len(parts) - 1\n",
        "            if vocab is None or word in vocab:\n",
        "                try:\n",
        "                    vector = np.array(list(map(float, parts[1:])))\n",
        "                    embeddings[word] = vector\n",
        "                except ValueError:\n",
        "                    continue\n",
        "    return embeddings, dim"
      ]
    },
    {
      "cell_type": "code",
      "execution_count": 33,
      "metadata": {},
      "outputs": [],
      "source": [
        "# Step 2: Build n-grams\n",
        "def make_ngrams(docs, n=2, min_count=2, threshold=5):\n",
        "    if n == 1:\n",
        "        return docs\n",
        "    phrases = Phrases(docs, min_count=min_count, threshold=threshold)\n",
        "    ngram = Phraser(phrases)\n",
        "    return [ngram[doc] for doc in docs]"
      ]
    },
    {
      "cell_type": "code",
      "execution_count": 34,
      "metadata": {},
      "outputs": [],
      "source": [
        "# Step 3: Vectorize text\n",
        "def vectorize_text(tokens, embeddings, dim):\n",
        "    vecs = []\n",
        "    for token in tokens:\n",
        "        if token in embeddings:\n",
        "            vecs.append(embeddings[token])\n",
        "        elif \"_\" in token:  # if it's a bigram/trigram, average components\n",
        "            parts = token.split(\"_\")\n",
        "            part_vecs = [embeddings[p] for p in parts if p in embeddings]\n",
        "            if part_vecs:\n",
        "                vecs.append(np.mean(part_vecs, axis=0))\n",
        "    if not vecs:\n",
        "        return np.zeros(dim)\n",
        "    return np.mean(vecs, axis=0)"
      ]
    },
    {
      "cell_type": "code",
      "execution_count": 35,
      "metadata": {},
      "outputs": [],
      "source": [
        "docs = [\n",
        "    gabriel_garcia_marquez_lammes.split(),\n",
        "    albert_camus_lammes.split(),\n",
        "    bob_dylan_lammes.split(),\n",
        "    vargas_llosa_lammes.split()\n",
        "]\n"
      ]
    },
    {
      "cell_type": "code",
      "execution_count": 36,
      "metadata": {},
      "outputs": [],
      "source": [
        "# Build bigrams (set n=1 for unigrams, n=2 for bigrams, n=3 for trigrams)\n",
        "docs_ngrams = make_ngrams(docs, n=2)"
      ]
    },
    {
      "cell_type": "code",
      "execution_count": 37,
      "metadata": {},
      "outputs": [],
      "source": [
        "# Collect vocab\n",
        "all_vocab = set([w for doc in docs_ngrams for w in doc])"
      ]
    },
    {
      "cell_type": "code",
      "execution_count": 38,
      "metadata": {},
      "outputs": [],
      "source": [
        "# Load only relevant embeddings\n",
        "local_path = \"glove-sbwc.i25.vec.gz\"\n",
        "embeddings, dim = load_embeddings(local_path, all_vocab)"
      ]
    },
    {
      "cell_type": "code",
      "execution_count": 39,
      "metadata": {},
      "outputs": [],
      "source": [
        "# Get vectors for each document\n",
        "gabriel_vec_glove = vectorize_text(docs_ngrams[0], embeddings, dim)\n",
        "camus_vec_glove   = vectorize_text(docs_ngrams[1], embeddings, dim)\n",
        "dylan_vec_glove   = vectorize_text(docs_ngrams[2], embeddings, dim)\n",
        "llosa_vec_glove   = vectorize_text(docs_ngrams[3], embeddings, dim)"
      ]
    },
    {
      "cell_type": "code",
      "execution_count": 40,
      "metadata": {},
      "outputs": [
        {
          "name": "stdout",
          "output_type": "stream",
          "text": [
            "Gabriel García Márquez: [-0.04001103  0.06958032 -0.01171007 -0.00868808 -0.00860212]\n",
            "Albert Camus: [-0.09984587  0.12499387 -0.0056038   0.01600937 -0.02292111]\n",
            "Bob Dylan: [-0.0386673   0.10300651  0.01630648  0.04457312  0.10302979]\n",
            "Vargas Llosa: [-0.06080821  0.10940978 -0.02779223 -0.00382199  0.01150396]\n"
          ]
        }
      ],
      "source": [
        "# === Step 7: Inspect results ===\n",
        "print(\"Gabriel García Márquez:\", gabriel_vec_glove[:5])\n",
        "print(\"Albert Camus:\", camus_vec_glove[:5])\n",
        "print(\"Bob Dylan:\", dylan_vec_glove[:5])\n",
        "print(\"Vargas Llosa:\", llosa_vec_glove[:5])"
      ]
    },
    {
      "cell_type": "markdown",
      "metadata": {
        "id": "rLXA_HPul4Wk"
      },
      "source": [
        "### 2.3 Vectorización con Word2Vec"
      ]
    },
    {
      "cell_type": "code",
      "execution_count": 41,
      "metadata": {},
      "outputs": [],
      "source": [
        "def vectorize_doc_word2vec(sentences, ngram=2, word2vec_model=None, size=100, window=5, min_count=2, sg=1):\n",
        "    \"\"\"\n",
        "    Vectorizes a Spanish document (cleaned & lemmatized, in sentences) using Word2Vec with configurable n-grams.\n",
        "\n",
        "    Args:\n",
        "        sentences (list[list[str]]): List of sentences, each as a list of tokens.\n",
        "        ngram (int): 1=unigrams, 2=bigrams, 3=trigrams, etc.\n",
        "        word2vec_model (gensim.Word2Vec, optional): Pretrained Word2Vec model. If None, trains a new one.\n",
        "        size (int): Dimensionality of the Word2Vec vectors.\n",
        "        window (int): Context window size.\n",
        "        min_count (int): Minimum frequency count for training Word2Vec.\n",
        "        sg (int): 1 for skip-gram, 0 for CBOW.\n",
        "\n",
        "    Returns:\n",
        "        np.ndarray: Vector representation of the document (averaged word embeddings).\n",
        "    \"\"\"\n",
        "\n",
        "    # Apply n-grams if needed\n",
        "    sentences_ngrams = sentences\n",
        "    if ngram > 1:\n",
        "        for _ in range(1, ngram):\n",
        "            phrases = Phrases(sentences_ngrams, min_count=min_count, threshold=5)\n",
        "            phraser = Phraser(phrases)\n",
        "            sentences_ngrams = [phraser[sent] for sent in sentences_ngrams]\n",
        "\n",
        "    # Train Word2Vec if no pretrained model provided\n",
        "    if word2vec_model is None:\n",
        "        model = Word2Vec(sentences=sentences_ngrams, vector_size=size, window=window, min_count=min_count, sg=sg)\n",
        "    else:\n",
        "        model = word2vec_model\n",
        "\n",
        "    # Collect vectors\n",
        "    vectors = []\n",
        "    for sent in sentences_ngrams:\n",
        "        for w in sent:\n",
        "            if w in model.wv:\n",
        "                vectors.append(model.wv[w])\n",
        "\n",
        "    # Return average vector\n",
        "    if vectors:\n",
        "        return np.mean(vectors, axis=0)\n",
        "    else:\n",
        "        return np.zeros(size)\n"
      ]
    },
    {
      "cell_type": "code",
      "execution_count": 42,
      "metadata": {},
      "outputs": [],
      "source": [
        "gabriel_vec_word2vec = vectorize_doc_word2vec(gabriel_garcia_marquez_sentences)\n",
        "camus_vec_word2vec   = vectorize_doc_word2vec(albert_camus_sentences)\n",
        "dylan_vec_word2vec   = vectorize_doc_word2vec(bob_dylan_sentences)\n",
        "llosa_vec_word2vec   = vectorize_doc_word2vec(vargas_llosa_sentences)"
      ]
    },
    {
      "cell_type": "code",
      "execution_count": 43,
      "metadata": {},
      "outputs": [
        {
          "name": "stdout",
          "output_type": "stream",
          "text": [
            "Norms:\n",
            "0.014361786\n",
            "0.013135534\n",
            "0.014642931\n",
            "0.07455462\n"
          ]
        }
      ],
      "source": [
        "print(\"Norms:\")\n",
        "print(np.linalg.norm(gabriel_vec_word2vec))\n",
        "print(np.linalg.norm(camus_vec_word2vec))\n",
        "print (np.linalg.norm(dylan_vec_word2vec))\n",
        "print (np.linalg.norm(llosa_vec_word2vec ))\n"
      ]
    },
    {
      "cell_type": "markdown",
      "metadata": {},
      "source": [
        "## 3. Calcular la distancia del coseno utilizando las tres técnicas de vectorización"
      ]
    },
    {
      "cell_type": "code",
      "execution_count": 46,
      "metadata": {},
      "outputs": [
        {
          "name": "stdout",
          "output_type": "stream",
          "text": [
            "Cosine Distance Matrix:\n",
            "\n",
            "                        gabriel_garcia_marquez  albert_camus  bob_dylan  \\\n",
            "gabriel_garcia_marquez                0.000000      0.906189   0.912165   \n",
            "albert_camus                          0.906189      0.000000   0.921295   \n",
            "bob_dylan                             0.912165      0.921295   0.000000   \n",
            "vargas_llosa                          0.816081      0.772624   0.866493   \n",
            "\n",
            "                        vargas_llosa  \n",
            "gabriel_garcia_marquez      0.816081  \n",
            "albert_camus                0.772624  \n",
            "bob_dylan                   0.866493  \n",
            "vargas_llosa                0.000000  \n"
          ]
        }
      ],
      "source": [
        "names = [\"gabriel_garcia_marquez\", \"albert_camus\", \"bob_dylan\", \"vargas_llosa\"]\n",
        "\n",
        "# Create a matrix with all document vectors (sparse matrix is fine)\n",
        "\n",
        "X_all = scipy.sparse.vstack([doc_vectors_tf_idf[name] for name in names])\n",
        "\n",
        "# Compute pairwise cosine distances\n",
        "dist_matrix = cosine_distances(X_all)  # distance = 1 - cosine_similarity\n",
        "\n",
        "# Convert to a DataFrame for easy reading\n",
        "tf_idf_dist_df = pd.DataFrame(dist_matrix, index=names, columns=names)\n",
        "\n",
        "print(\"Cosine Distance Matrix:\\n\")\n",
        "print(tf_idf_dist_df)"
      ]
    },
    {
      "cell_type": "code",
      "execution_count": 47,
      "metadata": {},
      "outputs": [
        {
          "name": "stdout",
          "output_type": "stream",
          "text": [
            "Cosine Distance Matrix (GloVe document vectors):\n",
            "\n",
            "                        gabriel_garcia_marquez  albert_camus  bob_dylan  \\\n",
            "gabriel_garcia_marquez                0.000000      0.020096   0.043974   \n",
            "albert_camus                          0.020096      0.000000   0.041064   \n",
            "bob_dylan                             0.043974      0.041064   0.000000   \n",
            "vargas_llosa                          0.015602      0.013744   0.034654   \n",
            "\n",
            "                        vargas_llosa  \n",
            "gabriel_garcia_marquez      0.015602  \n",
            "albert_camus                0.013744  \n",
            "bob_dylan                   0.034654  \n",
            "vargas_llosa                0.000000  \n"
          ]
        }
      ],
      "source": [
        "\n",
        "\n",
        "# Stack GloVe vectors into a matrix (shape: 4 x vector_size)\n",
        "glove_matrix = np.vstack([\n",
        "    gabriel_vec_glove,\n",
        "    camus_vec_glove,\n",
        "    dylan_vec_glove,\n",
        "    llosa_vec_glove\n",
        "])\n",
        "\n",
        "# Compute pairwise cosine distances\n",
        "glove_dist_matrix = cosine_distances(glove_matrix)\n",
        "\n",
        "# Convert to DataFrame for easy inspection\n",
        "glove_dist_df = pd.DataFrame(glove_dist_matrix, index=names, columns=names)\n",
        "\n",
        "print(\"Cosine Distance Matrix (GloVe document vectors):\\n\")\n",
        "print(glove_dist_df)"
      ]
    },
    {
      "cell_type": "code",
      "execution_count": 48,
      "metadata": {},
      "outputs": [
        {
          "name": "stdout",
          "output_type": "stream",
          "text": [
            "Cosine Distance Matrix (Word2Vec document vectors):\n",
            "\n",
            "                        gabriel_garcia_marquez  albert_camus  bob_dylan  \\\n",
            "gabriel_garcia_marquez                0.000000      0.049293   0.084500   \n",
            "albert_camus                          0.049293      0.000000   0.077522   \n",
            "bob_dylan                             0.084500      0.077522   0.000000   \n",
            "vargas_llosa                          0.308195      0.328795   0.450840   \n",
            "\n",
            "                        vargas_llosa  \n",
            "gabriel_garcia_marquez      0.308195  \n",
            "albert_camus                0.328795  \n",
            "bob_dylan                   0.450840  \n",
            "vargas_llosa                0.000000  \n"
          ]
        }
      ],
      "source": [
        "# Stack Word2Vec vectors into a matrix (shape: 4 x vector_size)\n",
        "word2vec_matrix = np.vstack([\n",
        "    gabriel_vec_word2vec,\n",
        "    camus_vec_word2vec,\n",
        "    dylan_vec_word2vec,\n",
        "    llosa_vec_word2vec\n",
        "])\n",
        "\n",
        "# Compute pairwise cosine distances\n",
        "word2vec_dist_matrix = cosine_distances(word2vec_matrix)\n",
        "\n",
        "# Convert to DataFrame for readability\n",
        "word2vec_dist_df = pd.DataFrame(word2vec_dist_matrix, index=names, columns=names)\n",
        "\n",
        "print(\"Cosine Distance Matrix (Word2Vec document vectors):\\n\")\n",
        "print(word2vec_dist_df)"
      ]
    },
    {
      "cell_type": "markdown",
      "metadata": {},
      "source": [
        "## 4 Visualizar los resultados de la distancia del coseno mediante un mapa de calor."
      ]
    },
    {
      "cell_type": "code",
      "execution_count": 49,
      "metadata": {},
      "outputs": [
        {
          "data": {
            "image/png": "[encoded data removed]",
            "text/plain": [
              "<Figure size 1800x500 with 6 Axes>"
            ]
          },
          "metadata": {},
          "output_type": "display_data"
        }
      ],
      "source": [
        "# Assuming you have the distance DataFrames:\n",
        "# tfidf_dist_df, glove_dist_df, word2vec_dist_df\n",
        "distance_matrices = {\n",
        "    \"TF-IDF\": tf_idf_dist_df,\n",
        "    \"GloVe\": glove_dist_df,\n",
        "    \"Word2Vec\": word2vec_dist_df\n",
        "}\n",
        "\n",
        "# Set figure size\n",
        "plt.figure(figsize=(18, 5))\n",
        "\n",
        "for i, (name, dist_df) in enumerate(distance_matrices.items(), 1):\n",
        "    plt.subplot(1, 3, i)\n",
        "    sns.heatmap(dist_df, annot=True, cmap=\"coolwarm\", vmin=0, vmax=1)\n",
        "    plt.title(f\"Cosine Distance - {name}\")\n",
        "    plt.yticks(rotation=0)\n",
        "    plt.xticks(rotation=45)\n",
        "\n",
        "plt.tight_layout()\n",
        "plt.show()"
      ]
    },
    {
      "cell_type": "markdown",
      "metadata": {},
      "source": [
        "## 5. Realizar el cálculo y la representación del Topic Modeling utilizando LDA."
      ]
    },
    {
      "cell_type": "code",
      "execution_count": 51,
      "metadata": {},
      "outputs": [],
      "source": [
        "docs = [\n",
        "    gabriel_garcia_marquez_lammes,\n",
        "    albert_camus_lammes,\n",
        "    bob_dylan_lammes,\n",
        "    vargas_llosa_lammes\n",
        "]\n"
      ]
    },
    {
      "cell_type": "code",
      "execution_count": null,
      "metadata": {},
      "outputs": [
        {
          "name": "stdout",
          "output_type": "stream",
          "text": [
            "['discurso', 'aceptación', 'premio', 'nobel', 'soledad', 'america', 'latino', '1982', 'escuchar', 'parrafo', 'antonio', 'pigafetta', 'navegante', 'florentino', 'acompano', 'magallan', 'viaje', 'mundo', 'escribio', 'paso']\n"
          ]
        }
      ],
      "source": [
        "tokenized_docs = [doc.split() for doc in docs]\n",
        "print(tokenized_docs[0][:20])  # show first 20 tokens of García Márquez"
      ]
    },
    {
      "cell_type": "code",
      "execution_count": 63,
      "metadata": {},
      "outputs": [],
      "source": [
        "dictionary = corpora.Dictionary(tokenized_docs)\n",
        "corpus = [dictionary.doc2bow(text) for text in tokenized_docs]"
      ]
    },
    {
      "cell_type": "code",
      "execution_count": null,
      "metadata": {},
      "outputs": [
        {
          "name": "stdout",
          "output_type": "stream",
          "text": [
            "Topic 0: 0.006*\"él\" + 0.006*\"ano\" + 0.005*\"hombre\" + 0.005*\"mundo\" + 0.004*\"vida\" + 0.004*\"yo\" + 0.004*\"vivir\" + 0.004*\"tiempo\" + 0.003*\"mil\" + 0.003*\"cuyo\"\n",
            "Topic 1: 0.009*\"él\" + 0.008*\"vida\" + 0.007*\"yo\" + 0.006*\"literatura\" + 0.006*\"historia\" + 0.006*\"mundo\" + 0.005*\"vivir\" + 0.005*\"escribir\" + 0.005*\"ano\" + 0.004*\"tiempo\"\n"
          ]
        }
      ],
      "source": [
        "lda_model = LdaModel(\n",
        "    corpus=corpus,\n",
        "    id2word=dictionary,\n",
        "    num_topics=2,    # try 2, 3, 4... depends on your goal\n",
        "    passes=20,\n",
        "    random_state=42\n",
        ")\n",
        "\n",
        "for idx, topic in lda_model.print_topics(-1):\n",
        "    print(f\"Topic {idx}: {topic}\")\n"
      ]
    },
    {
      "cell_type": "code",
      "execution_count": 62,
      "metadata": {},
      "outputs": [
        {
          "data": {
            "text/html": [
              "\n",
              "<link rel=\"stylesheet\" type=\"text/css\" href=\"https://cdn.jsdelivr.net/gh/bmabey/pyLDAvis@3.4.0/pyLDAvis/js/ldavis.v1.0.0.css\">\n",
              "\n",
              "\n",
              "<div id=\"ldavis_el2396420908752389126546599320\" style=\"background-color:white;\"></div>\n",
              "<script type=\"text/javascript\">\n",
              "\n",
              "var ldavis_el2396420908752389126546599320_data = {\"mdsDat\": {\"x\": [0.060588862122996814, -0.060588862122996814], \"y\": [0.0, 0.0], \"topics\": [1, 2], \"cluster\": [1, 1], \"Freq\": [64.97327268028292, 35.02672731971707]}, \"tinfo\": {\"Term\": [\"hombre\", \"literatura\", \"poesia\", \"arte\", \"mil\", \"peru\", \"soledad\", \"servicio\", \"obligar\", \"libre\", \"guerra\", \"artista\", \"muerte\", \"mill\\u00f3n\", \"tratar\", \"honor\", \"siglo\", \"hacer\", \"ano\", \"cuyo\", \"poner\", \"oficio\", \"realidad\", \"morir\", \"cambio\", \"general\", \"numeroso\", \"mayoria\", \"ejercito\", \"silencio\", \"peru\", \"teatro\", \"dictadura\", \"literatura\", \"ficcion\", \"leer\", \"experiencia\", \"llevar\", \"canci\\u00f3n\", \"ficci\\u00f3n\", \"democratico\", \"espana\", \"inventar\", \"empezar\", \"nacionalismo\", \"hablar\", \"democracia\", \"barcelona\", \"ir\", \"peruano\", \"sonar\", \"civilizaci\\u00f3n\", \"madre\", \"ocurrir\", \"gente\", \"alcanzar\", \"setenta\", \"enfrentar\", \"arma\", \"ejemplo\", \"volver\", \"espanol\", \"libro\", \"cultura\", \"haber\", \"escribir\", \"novela\", \"convertir\", \"historia\", \"vida\", \"\\u00e9l\", \"yo\", \"humano\", \"el\", \"mundo\", \"vivir\", \"tiempo\", \"libertad\", \"ano\", \"forma\", \"cosa\", \"querer\", \"deber\", \"escritor\", \"pa\\u00eds\", \"latino\", \"poder\", \"poesia\", \"servicio\", \"obligar\", \"mill\\u00f3n\", \"tratar\", \"numeroso\", \"mayoria\", \"ejercito\", \"silencio\", \"reducido\", \"salvador\", \"perdido\", \"dolor\", \"poblaci\\u00f3n\", \"aumentar\", \"cien\", \"admitir\", \"europeo\", \"personal\", \"negar\", \"virtud\", \"oro\", \"habitante\", \"20\", \"arte\", \"sostenido\", \"viejo\", \"merito\", \"puesto\", \"necesario\", \"hombre\", \"honor\", \"siglo\", \"soledad\", \"mil\", \"artista\", \"muerte\", \"libre\", \"guerra\", \"ano\", \"hacer\", \"cuyo\", \"poner\", \"oficio\", \"realidad\", \"poder\", \"\\u00e9l\", \"vivir\", \"morir\", \"cambio\", \"general\", \"tiempo\", \"mundo\", \"americo\", \"yo\", \"vida\", \"dif\\u00edcil\", \"creer\", \"escritor\", \"historia\", \"latino\", \"querer\", \"obra\", \"recibir\"], \"Freq\": [10.0, 20.0, 4.0, 5.0, 7.0, 11.0, 6.0, 3.0, 3.0, 6.0, 6.0, 5.0, 5.0, 2.0, 2.0, 4.0, 4.0, 7.0, 23.0, 9.0, 4.0, 4.0, 8.0, 3.0, 3.0, 3.0, 2.0, 2.0, 2.0, 2.0, 10.991992199722974, 6.736742336401536, 6.736618489897449, 19.504825080621014, 6.027713982885033, 6.027315396435096, 5.31844256281022, 5.318145402376562, 5.31791550340633, 4.609519194117585, 4.609423462193448, 4.609340186095872, 4.609309580350609, 4.609083240187966, 3.9002424358313883, 3.9002040007094303, 3.9001897654790754, 3.90016307442216, 3.9001360274844856, 3.9000217897608875, 3.899979439950582, 3.1911920177078352, 3.1911425502823523, 3.1911158592254365, 3.191101268114323, 3.1910888122877625, 3.1910500212850454, 3.1910315154855837, 3.191011942043846, 3.191009806759293, 6.73809824209284, 6.737802861062976, 6.737434168596784, 8.866104322046311, 10.9938143092084, 14.540262870937495, 6.0288442601752115, 6.028741054755138, 18.79742239041104, 23.051487170805434, 28.727836521648236, 22.342848862600654, 9.575017370196939, 7.447416994308583, 18.795910608947352, 14.541330513214112, 13.120428183633162, 8.157026145223565, 14.539329039826214, 6.028792301584416, 6.028158122072106, 7.4466333448775455, 6.738402164260917, 7.44822911420033, 6.738066212824541, 6.0286392728581015, 6.028587314267305, 4.257945848513325, 3.1227207637878522, 3.1226163955798936, 2.5548911393896283, 2.5548514257516732, 1.987133651841023, 1.9870895255766285, 1.987082043297014, 1.9870689972710192, 1.987046550432175, 1.9870248710066247, 1.9870223769134199, 1.9870210339401557, 1.9870150864871288, 1.9869859247819637, 1.9869799773289367, 1.986978826208996, 1.9869715357827047, 1.986964820916384, 1.9869630942364729, 1.986954268983594, 1.9869527341570064, 1.9869460192906854, 1.9868852017871508, 4.82648552206165, 1.419329352081495, 1.4193192797820136, 1.419318800148705, 1.419316689762147, 1.419308248215915, 7.668061164154424, 3.12584451960032, 3.1229438892030283, 4.258515652883982, 5.397833544558685, 3.692743271673148, 3.690670104659911, 4.2587834801235225, 4.258586638613659, 9.371080955973252, 4.258562465094904, 4.827385314148646, 3.1230645649434807, 3.122986864347482, 4.258814944068568, 4.827064535391832, 9.937452686966553, 7.097963641619658, 2.5551514843495546, 2.5550906668460196, 2.555087021632874, 6.531877388371655, 7.666969902450622, 3.6912587106562658, 7.098863817413301, 7.099417889811435, 3.1240318894003325, 3.6906708720732047, 4.25840169200985, 4.826363119641286, 3.691265233669263, 3.691799737028404, 3.125885576211539, 3.1255176015371555], \"Total\": [10.0, 20.0, 4.0, 5.0, 7.0, 11.0, 6.0, 3.0, 3.0, 6.0, 6.0, 5.0, 5.0, 2.0, 2.0, 4.0, 4.0, 7.0, 23.0, 9.0, 4.0, 4.0, 8.0, 3.0, 3.0, 3.0, 2.0, 2.0, 2.0, 2.0, 11.27775252098538, 7.0219122530426805, 7.021888386101778, 20.357591328019062, 6.31264319555024, 6.312563421360551, 5.603323980016221, 5.603264214088671, 5.60321794273065, 4.894074124930399, 4.894055014427316, 4.8940380236529935, 4.894031687353147, 4.893986216911189, 4.184754127701429, 4.184746413092889, 4.184743808970269, 4.184738173815602, 4.184732590468489, 4.184709674926855, 4.18470097139315, 3.475479193226105, 3.4754695113835727, 3.475463972155568, 3.475461084097185, 3.4754582928817936, 3.475450965824123, 3.47544711282224, 3.4754432233896946, 3.47544240709674, 7.589875773388472, 7.589816851579764, 7.589743325451705, 10.285744956145109, 12.981558438324651, 17.663929471609972, 6.880559439140721, 6.880538538796409, 23.623785510052326, 30.150905060616868, 38.66528920861479, 29.441712680013957, 11.562869129027648, 8.86707700559305, 26.462880511397973, 21.63929415483377, 19.652305572004817, 10.712219837304279, 23.910409995799466, 7.448422287823762, 7.448295368498663, 11.13843308190595, 9.293564200543262, 11.70663080621018, 9.861376733728688, 9.719904506527364, 10.855651849659138, 4.613796668916806, 3.4779063318402637, 3.4779319713220307, 2.9100156961344408, 2.910025360951779, 2.3421070927185994, 2.342118016759093, 2.3421195427111874, 2.342122778229911, 2.3421286906390395, 2.3421338134831418, 2.3421345445593142, 2.342135069960034, 2.3421361733945423, 2.3421437118926356, 2.342145326905735, 2.3421454880960924, 2.342147339356795, 2.342148765262833, 2.342149173867475, 2.342151114007552, 2.3421517811931603, 2.342153429524673, 2.342168503592968, 5.890493900249768, 1.7742109757232822, 1.7742135371907408, 1.774213524650928, 1.7742140833700617, 1.7742160290934792, 10.857323240506895, 4.186110722638706, 4.186833314247494, 6.031958266594097, 7.876158145063682, 5.463553435409885, 5.464071080321238, 6.74122028279729, 6.741269532832186, 23.910409995799466, 7.450605393697203, 9.43691091411989, 4.896123005374394, 4.8961431719870845, 8.15987377036081, 10.855651849659138, 38.66528920861479, 21.63929415483377, 3.618932276792374, 3.618947528801048, 3.6189489548887166, 19.652305572004817, 26.462880511397973, 7.591913612287187, 29.441712680013957, 30.150905060616868, 5.605211009472244, 8.301391519632741, 11.70663080621018, 23.623785510052326, 9.719904506527364, 11.13843308190595, 6.314079298525876, 6.314171121791954], \"Category\": [\"Default\", \"Default\", \"Default\", \"Default\", \"Default\", \"Default\", \"Default\", \"Default\", \"Default\", \"Default\", \"Default\", \"Default\", \"Default\", \"Default\", \"Default\", \"Default\", \"Default\", \"Default\", \"Default\", \"Default\", \"Default\", \"Default\", \"Default\", \"Default\", \"Default\", \"Default\", \"Default\", \"Default\", \"Default\", \"Default\", \"Topic1\", \"Topic1\", \"Topic1\", \"Topic1\", \"Topic1\", \"Topic1\", \"Topic1\", \"Topic1\", \"Topic1\", \"Topic1\", \"Topic1\", \"Topic1\", \"Topic1\", \"Topic1\", \"Topic1\", \"Topic1\", \"Topic1\", \"Topic1\", \"Topic1\", \"Topic1\", \"Topic1\", \"Topic1\", \"Topic1\", \"Topic1\", \"Topic1\", \"Topic1\", \"Topic1\", \"Topic1\", \"Topic1\", \"Topic1\", \"Topic1\", \"Topic1\", \"Topic1\", \"Topic1\", \"Topic1\", \"Topic1\", \"Topic1\", \"Topic1\", \"Topic1\", \"Topic1\", \"Topic1\", \"Topic1\", \"Topic1\", \"Topic1\", \"Topic1\", \"Topic1\", \"Topic1\", \"Topic1\", \"Topic1\", \"Topic1\", \"Topic1\", \"Topic1\", \"Topic1\", \"Topic1\", \"Topic1\", \"Topic1\", \"Topic1\", \"Topic2\", \"Topic2\", \"Topic2\", \"Topic2\", \"Topic2\", \"Topic2\", \"Topic2\", \"Topic2\", \"Topic2\", \"Topic2\", \"Topic2\", \"Topic2\", \"Topic2\", \"Topic2\", \"Topic2\", \"Topic2\", \"Topic2\", \"Topic2\", \"Topic2\", \"Topic2\", \"Topic2\", \"Topic2\", \"Topic2\", \"Topic2\", \"Topic2\", \"Topic2\", \"Topic2\", \"Topic2\", \"Topic2\", \"Topic2\", \"Topic2\", \"Topic2\", \"Topic2\", \"Topic2\", \"Topic2\", \"Topic2\", \"Topic2\", \"Topic2\", \"Topic2\", \"Topic2\", \"Topic2\", \"Topic2\", \"Topic2\", \"Topic2\", \"Topic2\", \"Topic2\", \"Topic2\", \"Topic2\", \"Topic2\", \"Topic2\", \"Topic2\", \"Topic2\", \"Topic2\", \"Topic2\", \"Topic2\", \"Topic2\", \"Topic2\", \"Topic2\", \"Topic2\", \"Topic2\", \"Topic2\", \"Topic2\", \"Topic2\", \"Topic2\"], \"logprob\": [30.0, 29.0, 28.0, 27.0, 26.0, 25.0, 24.0, 23.0, 22.0, 21.0, 20.0, 19.0, 18.0, 17.0, 16.0, 15.0, 14.0, 13.0, 12.0, 11.0, 10.0, 9.0, 8.0, 7.0, 6.0, 5.0, 4.0, 3.0, 2.0, 1.0, -5.628, -6.1176, -6.1176, -5.0545, -6.2288, -6.2289, -6.354, -6.3541, -6.3541, -6.4971, -6.4971, -6.4971, -6.4971, -6.4972, -6.6641, -6.6642, -6.6642, -6.6642, -6.6642, -6.6642, -6.6642, -6.8648, -6.8648, -6.8648, -6.8648, -6.8648, -6.8648, -6.8648, -6.8648, -6.8648, -6.1174, -6.1175, -6.1175, -5.843, -5.6279, -5.3483, -6.2286, -6.2286, -5.0915, -4.8875, -4.6673, -4.9187, -5.766, -6.0173, -5.0915, -5.3482, -5.451, -5.9263, -5.3483, -6.2286, -6.2287, -6.0174, -6.1174, -6.0172, -6.1174, -6.2287, -6.2287, -5.9585, -6.2686, -6.2687, -6.4693, -6.4693, -6.7206, -6.7207, -6.7207, -6.7207, -6.7207, -6.7207, -6.7207, -6.7207, -6.7207, -6.7207, -6.7207, -6.7207, -6.7207, -6.7207, -6.7207, -6.7207, -6.7207, -6.7207, -6.7208, -5.8332, -7.0571, -7.0571, -7.0571, -7.0571, -7.0572, -5.3703, -6.2676, -6.2685, -5.9584, -5.7213, -6.101, -6.1015, -5.9583, -5.9584, -5.1697, -5.9584, -5.833, -6.2685, -6.2685, -5.9583, -5.8331, -5.111, -5.4475, -6.4692, -6.4692, -6.4692, -5.5306, -5.3704, -6.1014, -5.4474, -5.4473, -6.2682, -6.1015, -5.9584, -5.8332, -6.1014, -6.1012, -6.2676, -6.2677], \"loglift\": [30.0, 29.0, 28.0, 27.0, 26.0, 25.0, 24.0, 23.0, 22.0, 21.0, 20.0, 19.0, 18.0, 17.0, 16.0, 15.0, 14.0, 13.0, 12.0, 11.0, 10.0, 9.0, 8.0, 7.0, 6.0, 5.0, 4.0, 3.0, 2.0, 1.0, 0.4055, 0.3897, 0.3897, 0.3884, 0.385, 0.385, 0.379, 0.379, 0.3789, 0.3713, 0.3713, 0.3713, 0.3713, 0.3712, 0.3608, 0.3608, 0.3608, 0.3608, 0.3608, 0.3607, 0.3607, 0.3459, 0.3458, 0.3458, 0.3458, 0.3458, 0.3458, 0.3458, 0.3458, 0.3458, 0.3122, 0.3121, 0.3121, 0.2827, 0.265, 0.2366, 0.299, 0.299, 0.2027, 0.1627, 0.1341, 0.1553, 0.2426, 0.2567, 0.0891, 0.0337, 0.0272, 0.1587, -0.0663, 0.2197, 0.2197, 0.0286, 0.1097, -0.021, 0.0503, -0.0465, -0.157, 0.9688, 0.9413, 0.9413, 0.9189, 0.9189, 0.8847, 0.8847, 0.8847, 0.8847, 0.8846, 0.8846, 0.8846, 0.8846, 0.8846, 0.8846, 0.8846, 0.8846, 0.8846, 0.8846, 0.8846, 0.8846, 0.8846, 0.8846, 0.8845, 0.8498, 0.8259, 0.8259, 0.8259, 0.8259, 0.8259, 0.7013, 0.757, 0.7559, 0.7009, 0.6712, 0.6573, 0.6567, 0.5898, 0.5897, 0.1124, 0.4897, 0.3787, 0.5994, 0.5994, 0.3988, 0.2386, -0.3096, -0.0656, 0.701, 0.701, 0.701, -0.0524, -0.1898, 0.3279, -0.3734, -0.3971, 0.4645, 0.2384, 0.0378, -0.5391, 0.0809, -0.0552, 0.346, 0.3459]}, \"token.table\": {\"Topic\": [2, 2, 1, 1, 2, 1, 2, 1, 1, 2, 1, 2, 2, 1, 1, 2, 1, 2, 1, 1, 2, 1, 2, 1, 2, 1, 2, 1, 2, 1, 2, 1, 1, 1, 1, 2, 2, 1, 2, 1, 2, 1, 1, 1, 2, 1, 2, 1, 1, 2, 2, 1, 1, 1, 1, 2, 1, 2, 1, 1, 2, 1, 2, 2, 1, 1, 2, 1, 2, 1, 2, 1, 2, 1, 2, 1, 1, 1, 2, 1, 1, 2, 1, 2, 1, 2, 1, 2, 1, 1, 2, 2, 1, 2, 2, 1, 2, 1, 2, 1, 2, 1, 2, 2, 1, 2, 2, 2, 1, 2, 1, 1, 2, 2, 1, 2, 2, 2, 1, 1, 2, 1, 2, 2, 1, 2, 2, 1, 2, 1, 2, 1, 2, 2, 2, 2, 1, 1, 2, 2, 1, 2, 1, 2, 1, 1, 2, 2, 1, 2, 2, 2, 1, 2, 1, 2, 1, 2, 1, 2], \"Freq\": [0.8539095274024608, 0.8539179184918102, 0.863195511839231, 0.5268763850956064, 0.5268763850956064, 0.6273418148260599, 0.37640508889563595, 0.8631992546475894, 0.1697650514429016, 0.848825257214508, 0.36606212854765585, 0.7321242570953117, 0.8539185660745998, 0.955854305301218, 0.2763234316169537, 0.828970294850861, 0.8923443726629916, 0.8539179772598691, 0.8631903208763732, 0.8720247646559307, 0.14533746077598847, 0.8055534458764902, 0.1342589076460817, 0.6023086597198831, 0.4818469277759065, 0.8749973908912689, 0.0972219323212521, 0.5298343966052277, 0.5298343966052277, 0.7532094091081665, 0.3228040324749285, 0.9558530181526863, 1.0216476899545195, 0.9968828348019457, 0.3568108313175366, 0.5352162469763049, 0.8539217168351131, 0.8631994573911217, 0.8539273779701453, 0.7894371499858002, 0.11277673571225716, 1.021662051830567, 0.8631982886264804, 0.8491881732266015, 0.16983763464532028, 0.5979517177808846, 0.3416866958747912, 1.0216512368385553, 0.9222883946854399, 0.13175548495506284, 0.8539172435450811, 0.8923274859408586, 0.9504734885427042, 1.0216437005990602, 0.8055397194394366, 0.13425661990657278, 0.2763233227285877, 0.8289699681857631, 0.8631948185888852, 0.29668002299260493, 0.5933600459852099, 0.8473558896846608, 0.15406470721539287, 0.8539150231528124, 0.9558524233356482, 0.40265184390758807, 0.5368691252101174, 0.804274149539462, 0.21165109198406895, 0.27631119876835675, 0.7368298633822846, 0.23888522455747468, 0.716655673672424, 0.8648372552185866, 0.1729674510437173, 1.0216525595697898, 0.9558555806195952, 0.6172900151406553, 0.41152667676043686, 0.9504855000263611, 0.7468106631027835, 0.2800539986635438, 0.29668219047873834, 0.5933643809574767, 0.9222973294137577, 0.13175676134482253, 0.9824344971732047, 0.04912172485866024, 0.8923370037465229, 0.8631927255220576, 0.8539279343265124, 0.5636300175294557, 0.253930909355024, 0.6348272733875601, 1.0309222744004753, 0.276324596183476, 0.8289737885504279, 0.36602744924072583, 0.7320548984814517, 0.7179868416749419, 0.3023102491262913, 0.9558506612184383, 0.5636292219222828, 0.8539165747062554, 0.8720221157989604, 0.14533701929982673, 0.8539319172115658, 0.8625815641988077, 0.4751286542600754, 0.4751286542600754, 0.8631941012869503, 0.4084847868507706, 0.6127271802761559, 0.8539156241108942, 0.7098400344100055, 0.3042171576042881, 0.8539219083916083, 0.8539167236781232, 0.9753716424909533, 0.955860814901076, 0.8539213145328471, 0.5527074820650588, 0.460589568387549, 0.8669649503516355, 0.4084864693563934, 0.6127297040345902, 0.5636298400362896, 0.628454644250751, 0.35911693957185775, 0.4902036615479567, 0.4902036615479567, 0.475121744744321, 0.475121744744321, 0.8539240426854209, 0.853922174935713, 0.8625879232384648, 0.8631973316558127, 0.23884399615267024, 0.7165319884580107, 0.853926198314644, 0.3315672807413646, 0.6631345614827292, 0.9558628029443976, 0.5636308272708863, 0.9968794464736888, 0.6614999930857381, 0.3561923039692436, 1.0309188504868538, 0.7628295055740338, 0.2321655016964451, 0.5636300135458231, 0.85391586735746, 0.6931834232979965, 0.3234855975390651, 0.9222812347658328, 0.1317544621094047, 0.7472391378553991, 0.23775790749944517, 0.7500267188881825, 0.25862990306489053], \"Term\": [\"20\", \"admitir\", \"alcanzar\", \"americo\", \"americo\", \"ano\", \"ano\", \"arma\", \"arte\", \"arte\", \"artista\", \"artista\", \"aumentar\", \"barcelona\", \"cambio\", \"cambio\", \"canci\\u00f3n\", \"cien\", \"civilizaci\\u00f3n\", \"convertir\", \"convertir\", \"cosa\", \"cosa\", \"creer\", \"creer\", \"cultura\", \"cultura\", \"cuyo\", \"cuyo\", \"deber\", \"deber\", \"democracia\", \"democratico\", \"dictadura\", \"dif\\u00edcil\", \"dif\\u00edcil\", \"dolor\", \"ejemplo\", \"ejercito\", \"el\", \"el\", \"empezar\", \"enfrentar\", \"escribir\", \"escribir\", \"escritor\", \"escritor\", \"espana\", \"espanol\", \"espanol\", \"europeo\", \"experiencia\", \"ficcion\", \"ficci\\u00f3n\", \"forma\", \"forma\", \"general\", \"general\", \"gente\", \"guerra\", \"guerra\", \"haber\", \"haber\", \"habitante\", \"hablar\", \"hacer\", \"hacer\", \"historia\", \"historia\", \"hombre\", \"hombre\", \"honor\", \"honor\", \"humano\", \"humano\", \"inventar\", \"ir\", \"latino\", \"latino\", \"leer\", \"libertad\", \"libertad\", \"libre\", \"libre\", \"libro\", \"libro\", \"literatura\", \"literatura\", \"llevar\", \"madre\", \"mayoria\", \"merito\", \"mil\", \"mil\", \"mill\\u00f3n\", \"morir\", \"morir\", \"muerte\", \"muerte\", \"mundo\", \"mundo\", \"nacionalismo\", \"necesario\", \"negar\", \"novela\", \"novela\", \"numeroso\", \"obligar\", \"obra\", \"obra\", \"ocurrir\", \"oficio\", \"oficio\", \"oro\", \"pa\\u00eds\", \"pa\\u00eds\", \"perdido\", \"personal\", \"peru\", \"peruano\", \"poblaci\\u00f3n\", \"poder\", \"poder\", \"poesia\", \"poner\", \"poner\", \"puesto\", \"querer\", \"querer\", \"realidad\", \"realidad\", \"recibir\", \"recibir\", \"reducido\", \"salvador\", \"servicio\", \"setenta\", \"siglo\", \"siglo\", \"silencio\", \"soledad\", \"soledad\", \"sonar\", \"sostenido\", \"teatro\", \"tiempo\", \"tiempo\", \"tratar\", \"vida\", \"vida\", \"viejo\", \"virtud\", \"vivir\", \"vivir\", \"volver\", \"volver\", \"yo\", \"yo\", \"\\u00e9l\", \"\\u00e9l\"]}, \"R\": 30, \"lambda.step\": 0.01, \"plot.opts\": {\"xlab\": \"PC1\", \"ylab\": \"PC2\"}, \"topic.order\": [2, 1]};\n",
              "\n",
              "function LDAvis_load_lib(url, callback){\n",
              "  var s = document.createElement('script');\n",
              "  s.src = url;\n",
              "  s.async = true;\n",
              "  s.onreadystatechange = s.onload = callback;\n",
              "  s.onerror = function(){console.warn(\"failed to load library \" + url);};\n",
              "  document.getElementsByTagName(\"head\")[0].appendChild(s);\n",
              "}\n",
              "\n",
              "if(typeof(LDAvis) !== \"undefined\"){\n",
              "   // already loaded: just create the visualization\n",
              "   !function(LDAvis){\n",
              "       new LDAvis(\"#\" + \"ldavis_el2396420908752389126546599320\", ldavis_el2396420908752389126546599320_data);\n",
              "   }(LDAvis);\n",
              "}else if(typeof define === \"function\" && define.amd){\n",
              "   // require.js is available: use it to load d3/LDAvis\n",
              "   require.config({paths: {d3: \"https://d3js.org/d3.v5\"}});\n",
              "   require([\"d3\"], function(d3){\n",
              "      window.d3 = d3;\n",
              "      LDAvis_load_lib(\"https://cdn.jsdelivr.net/gh/bmabey/pyLDAvis@3.4.0/pyLDAvis/js/ldavis.v3.0.0.js\", function(){\n",
              "        new LDAvis(\"#\" + \"ldavis_el2396420908752389126546599320\", ldavis_el2396420908752389126546599320_data);\n",
              "      });\n",
              "    });\n",
              "}else{\n",
              "    // require.js not available: dynamically load d3 & LDAvis\n",
              "    LDAvis_load_lib(\"https://d3js.org/d3.v5.js\", function(){\n",
              "         LDAvis_load_lib(\"https://cdn.jsdelivr.net/gh/bmabey/pyLDAvis@3.4.0/pyLDAvis/js/ldavis.v3.0.0.js\", function(){\n",
              "                 new LDAvis(\"#\" + \"ldavis_el2396420908752389126546599320\", ldavis_el2396420908752389126546599320_data);\n",
              "            })\n",
              "         });\n",
              "}\n",
              "</script>"
            ],
            "text/plain": [
              "PreparedData(topic_coordinates=              x    y  topics  cluster       Freq\n",
              "topic                                           \n",
              "1      0.060589  0.0       1        1  64.973273\n",
              "0     -0.060589  0.0       2        1  35.026727, topic_info=           Term       Freq      Total Category  logprob  loglift\n",
              "342      hombre  10.000000  10.000000  Default  30.0000  30.0000\n",
              "419  literatura  20.000000  20.000000  Default  29.0000  29.0000\n",
              "578      poesia   4.000000   4.000000  Default  28.0000  28.0000\n",
              "775        arte   5.000000   5.000000  Default  27.0000  27.0000\n",
              "461         mil   7.000000   7.000000  Default  26.0000  26.0000\n",
              "..          ...        ...        ...      ...      ...      ...\n",
              "340    historia   4.826363  23.623786   Topic2  -5.8332  -0.5391\n",
              "404      latino   3.691265   9.719905   Topic2  -6.1014   0.0809\n",
              "598      querer   3.691800  11.138433   Topic2  -6.1012  -0.0552\n",
              "518        obra   3.125886   6.314079   Topic2  -6.2676   0.3460\n",
              "604     recibir   3.125518   6.314171   Topic2  -6.2677   0.3459\n",
              "\n",
              "[151 rows x 6 columns], token_table=      Topic      Freq      Term\n",
              "term                           \n",
              "9         2  0.853910        20\n",
              "31        2  0.853918   admitir\n",
              "1274      1  0.863196  alcanzar\n",
              "52        1  0.526876   americo\n",
              "52        2  0.526876   americo\n",
              "...     ...       ...       ...\n",
              "1083      2  0.131754    volver\n",
              "748       1  0.747239        yo\n",
              "748       2  0.237758        yo\n",
              "750       1  0.750027        él\n",
              "750       2  0.258630        él\n",
              "\n",
              "[160 rows x 3 columns], R=30, lambda_step=0.01, plot_opts={'xlab': 'PC1', 'ylab': 'PC2'}, topic_order=[2, 1])"
            ]
          },
          "execution_count": 62,
          "metadata": {},
          "output_type": "execute_result"
        }
      ],
      "source": [
        "pyLDAvis.enable_notebook()\n",
        "vis = gensimvis.prepare(lda_model, corpus, dictionary)\n",
        "vis"
      ]
    }
  ],
  "metadata": {
    "colab": {
      "provenance": []
    },
    "kernelspec": {
      "display_name": "env",
      "language": "python",
      "name": "python3"
    },
    "language_info": {
      "codemirror_mode": {
        "name": "ipython",
        "version": 3
      },
      "file_extension": ".py",
      "mimetype": "text/x-python",
      "name": "python",
      "nbconvert_exporter": "python",
      "pygments_lexer": "ipython3",
      "version": "3.11.5"
    },
    "widgets": {
      "application/vnd.jupyter.widget-state+json": {
        "007f10afd122469cb083fb84e7d004b3": {
          "model_module": "@jupyter-widgets/controls",
          "model_module_version": "1.5.0",
          "model_name": "HTMLModel",
          "state": {
            "_dom_classes": [],
            "_model_module": "@jupyter-widgets/controls",
            "_model_module_version": "1.5.0",
            "_model_name": "HTMLModel",
            "_view_count": null,
            "_view_module": "@jupyter-widgets/controls",
            "_view_module_version": "1.5.0",
            "_view_name": "HTMLView",
            "description": "",
            "description_tooltip": null,
            "layout": "IPY_MODEL_4c96befd880440fca6ac1d7740b7ca75",
            "placeholder": "​",
            "style": "IPY_MODEL_4a99a3b937a94d898676da7b0b44c01f",
            "value": " 364/364 [00:00&lt;00:00, 26.4kB/s]"
          }
        },
        "02025d4aee4747e1a5af1fca368d023f": {
          "model_module": "@jupyter-widgets/controls",
          "model_module_version": "1.5.0",
          "model_name": "DescriptionStyleModel",
          "state": {
            "_model_module": "@jupyter-widgets/controls",
            "_model_module_version": "1.5.0",
            "_model_name": "DescriptionStyleModel",
            "_view_count": null,
            "_view_module": "@jupyter-widgets/base",
            "_view_module_version": "1.2.0",
            "_view_name": "StyleView",
            "description_width": ""
          }
        },
        "036fe75b89ba48738a2be78cb266550b": {
          "model_module": "@jupyter-widgets/controls",
          "model_module_version": "1.5.0",
          "model_name": "FloatProgressModel",
          "state": {
            "_dom_classes": [],
            "_model_module": "@jupyter-widgets/controls",
            "_model_module_version": "1.5.0",
            "_model_name": "FloatProgressModel",
            "_view_count": null,
            "_view_module": "@jupyter-widgets/controls",
            "_view_module_version": "1.5.0",
            "_view_name": "ProgressView",
            "bar_style": "success",
            "description": "",
            "description_tooltip": null,
            "layout": "IPY_MODEL_24384a70f5524740b8cb7b9aeb6045ef",
            "max": 648,
            "min": 0,
            "orientation": "horizontal",
            "style": "IPY_MODEL_48c04366d31d4f3e98ee76030b66a915",
            "value": 648
          }
        },
        "09603f605b4b45908ecec5bbc798aedb": {
          "model_module": "@jupyter-widgets/controls",
          "model_module_version": "1.5.0",
          "model_name": "HTMLModel",
          "state": {
            "_dom_classes": [],
            "_model_module": "@jupyter-widgets/controls",
            "_model_module_version": "1.5.0",
            "_model_name": "HTMLModel",
            "_view_count": null,
            "_view_module": "@jupyter-widgets/controls",
            "_view_module_version": "1.5.0",
            "_view_name": "HTMLView",
            "description": "",
            "description_tooltip": null,
            "layout": "IPY_MODEL_c3f405be35f7488993bb2dde63a73ed5",
            "placeholder": "​",
            "style": "IPY_MODEL_bd9b73379ebd4498a97468879693e9be",
            "value": " 242k/? [00:00&lt;00:00, 10.8MB/s]"
          }
        },
        "0c427dec66274d7c8d9f81605baf88f0": {
          "model_module": "@jupyter-widgets/base",
          "model_module_version": "1.2.0",
          "model_name": "LayoutModel",
          "state": {
            "_model_module": "@jupyter-widgets/base",
            "_model_module_version": "1.2.0",
            "_model_name": "LayoutModel",
            "_view_count": null,
            "_view_module": "@jupyter-widgets/base",
            "_view_module_version": "1.2.0",
            "_view_name": "LayoutView",
            "align_content": null,
            "align_items": null,
            "align_self": null,
            "border": null,
            "bottom": null,
            "display": null,
            "flex": null,
            "flex_flow": null,
            "grid_area": null,
            "grid_auto_columns": null,
            "grid_auto_flow": null,
            "grid_auto_rows": null,
            "grid_column": null,
            "grid_gap": null,
            "grid_row": null,
            "grid_template_areas": null,
            "grid_template_columns": null,
            "grid_template_rows": null,
            "height": null,
            "justify_content": null,
            "justify_items": null,
            "left": null,
            "margin": null,
            "max_height": null,
            "max_width": null,
            "min_height": null,
            "min_width": null,
            "object_fit": null,
            "object_position": null,
            "order": null,
            "overflow": null,
            "overflow_x": null,
            "overflow_y": null,
            "padding": null,
            "right": null,
            "top": null,
            "visibility": null,
            "width": "20px"
          }
        },
        "0cfd8a325383451d8adc1d798a06eb8c": {
          "model_module": "@jupyter-widgets/controls",
          "model_module_version": "1.5.0",
          "model_name": "HTMLModel",
          "state": {
            "_dom_classes": [],
            "_model_module": "@jupyter-widgets/controls",
            "_model_module_version": "1.5.0",
            "_model_name": "HTMLModel",
            "_view_count": null,
            "_view_module": "@jupyter-widgets/controls",
            "_view_module_version": "1.5.0",
            "_view_name": "HTMLView",
            "description": "",
            "description_tooltip": null,
            "layout": "IPY_MODEL_269d11ffdbfc41e5aba58855911cac5d",
            "placeholder": "​",
            "style": "IPY_MODEL_d15f9f58ee044d38a97ec19a440f9dcf",
            "value": "special_tokens_map.json: 100%"
          }
        },
        "13abbe47630b446f8a9018a33623b52d": {
          "model_module": "@jupyter-widgets/controls",
          "model_module_version": "1.5.0",
          "model_name": "HBoxModel",
          "state": {
            "_dom_classes": [],
            "_model_module": "@jupyter-widgets/controls",
            "_model_module_version": "1.5.0",
            "_model_name": "HBoxModel",
            "_view_count": null,
            "_view_module": "@jupyter-widgets/controls",
            "_view_module_version": "1.5.0",
            "_view_name": "HBoxView",
            "box_style": "",
            "children": [
              "IPY_MODEL_0cfd8a325383451d8adc1d798a06eb8c",
              "IPY_MODEL_6e0c0aa3bd9645778215523e6257e360",
              "IPY_MODEL_d16fb6b9124f458d878b49863c676a97"
            ],
            "layout": "IPY_MODEL_983224230e7e420a970caa2d36dba553"
          }
        },
        "17256e4f880e417e8153e2f6196c5d29": {
          "model_module": "@jupyter-widgets/controls",
          "model_module_version": "1.5.0",
          "model_name": "DescriptionStyleModel",
          "state": {
            "_model_module": "@jupyter-widgets/controls",
            "_model_module_version": "1.5.0",
            "_model_name": "DescriptionStyleModel",
            "_view_count": null,
            "_view_module": "@jupyter-widgets/base",
            "_view_module_version": "1.2.0",
            "_view_name": "StyleView",
            "description_width": ""
          }
        },
        "17843ba97a9944e6b4a0c2b2ac58ab3e": {
          "model_module": "@jupyter-widgets/controls",
          "model_module_version": "1.5.0",
          "model_name": "ProgressStyleModel",
          "state": {
            "_model_module": "@jupyter-widgets/controls",
            "_model_module_version": "1.5.0",
            "_model_name": "ProgressStyleModel",
            "_view_count": null,
            "_view_module": "@jupyter-widgets/base",
            "_view_module_version": "1.2.0",
            "_view_name": "StyleView",
            "bar_color": null,
            "description_width": ""
          }
        },
        "1982dafe5491425a82d2215e70f33c95": {
          "model_module": "@jupyter-widgets/controls",
          "model_module_version": "1.5.0",
          "model_name": "ProgressStyleModel",
          "state": {
            "_model_module": "@jupyter-widgets/controls",
            "_model_module_version": "1.5.0",
            "_model_name": "ProgressStyleModel",
            "_view_count": null,
            "_view_module": "@jupyter-widgets/base",
            "_view_module_version": "1.2.0",
            "_view_name": "StyleView",
            "bar_color": null,
            "description_width": ""
          }
        },
        "1ac5ef2754604d33a9b13a12233b555f": {
          "model_module": "@jupyter-widgets/controls",
          "model_module_version": "1.5.0",
          "model_name": "HTMLModel",
          "state": {
            "_dom_classes": [],
            "_model_module": "@jupyter-widgets/controls",
            "_model_module_version": "1.5.0",
            "_model_name": "HTMLModel",
            "_view_count": null,
            "_view_module": "@jupyter-widgets/controls",
            "_view_module_version": "1.5.0",
            "_view_name": "HTMLView",
            "description": "",
            "description_tooltip": null,
            "layout": "IPY_MODEL_facdcdb1ce2842b0a43b8d28e0ed717a",
            "placeholder": "​",
            "style": "IPY_MODEL_8be8fde9fa784641bd001d922bd7faa6",
            "value": "tokenizer.json: "
          }
        },
        "1b8e2f71b38343759380cc9c9166354f": {
          "model_module": "@jupyter-widgets/base",
          "model_module_version": "1.2.0",
          "model_name": "LayoutModel",
          "state": {
            "_model_module": "@jupyter-widgets/base",
            "_model_module_version": "1.2.0",
            "_model_name": "LayoutModel",
            "_view_count": null,
            "_view_module": "@jupyter-widgets/base",
            "_view_module_version": "1.2.0",
            "_view_name": "LayoutView",
            "align_content": null,
            "align_items": null,
            "align_self": null,
            "border": null,
            "bottom": null,
            "display": null,
            "flex": null,
            "flex_flow": null,
            "grid_area": null,
            "grid_auto_columns": null,
            "grid_auto_flow": null,
            "grid_auto_rows": null,
            "grid_column": null,
            "grid_gap": null,
            "grid_row": null,
            "grid_template_areas": null,
            "grid_template_columns": null,
            "grid_template_rows": null,
            "height": null,
            "justify_content": null,
            "justify_items": null,
            "left": null,
            "margin": null,
            "max_height": null,
            "max_width": null,
            "min_height": null,
            "min_width": null,
            "object_fit": null,
            "object_position": null,
            "order": null,
            "overflow": null,
            "overflow_x": null,
            "overflow_y": null,
            "padding": null,
            "right": null,
            "top": null,
            "visibility": null,
            "width": null
          }
        },
        "1db7bd99e8b94bca9db986aaeb3fb6c3": {
          "model_module": "@jupyter-widgets/controls",
          "model_module_version": "1.5.0",
          "model_name": "DescriptionStyleModel",
          "state": {
            "_model_module": "@jupyter-widgets/controls",
            "_model_module_version": "1.5.0",
            "_model_name": "DescriptionStyleModel",
            "_view_count": null,
            "_view_module": "@jupyter-widgets/base",
            "_view_module_version": "1.2.0",
            "_view_name": "StyleView",
            "description_width": ""
          }
        },
        "1e845f15cd014d699f8946fcacda231d": {
          "model_module": "@jupyter-widgets/controls",
          "model_module_version": "1.5.0",
          "model_name": "HTMLModel",
          "state": {
            "_dom_classes": [],
            "_model_module": "@jupyter-widgets/controls",
            "_model_module_version": "1.5.0",
            "_model_name": "HTMLModel",
            "_view_count": null,
            "_view_module": "@jupyter-widgets/controls",
            "_view_module_version": "1.5.0",
            "_view_name": "HTMLView",
            "description": "",
            "description_tooltip": null,
            "layout": "IPY_MODEL_f1fbd6a1f6144c7ab710b013a60b8885",
            "placeholder": "​",
            "style": "IPY_MODEL_8c17d7dda4bf49f1acde1c9276cfbfbe",
            "value": "Downloading https://huggingface.co/stanfordnlp/stanza-es/resolve/v1.10.0/models/default.zip: 100%"
          }
        },
        "1f2307b6e11446568e51ede0f64c49ce": {
          "model_module": "@jupyter-widgets/controls",
          "model_module_version": "1.5.0",
          "model_name": "ProgressStyleModel",
          "state": {
            "_model_module": "@jupyter-widgets/controls",
            "_model_module_version": "1.5.0",
            "_model_name": "ProgressStyleModel",
            "_view_count": null,
            "_view_module": "@jupyter-widgets/base",
            "_view_module_version": "1.2.0",
            "_view_name": "StyleView",
            "bar_color": null,
            "description_width": ""
          }
        },
        "237b9ddd459a4c1aa54ed5d238f06151": {
          "model_module": "@jupyter-widgets/controls",
          "model_module_version": "1.5.0",
          "model_name": "FloatProgressModel",
          "state": {
            "_dom_classes": [],
            "_model_module": "@jupyter-widgets/controls",
            "_model_module_version": "1.5.0",
            "_model_name": "FloatProgressModel",
            "_view_count": null,
            "_view_module": "@jupyter-widgets/controls",
            "_view_module_version": "1.5.0",
            "_view_name": "ProgressView",
            "bar_style": "success",
            "description": "",
            "description_tooltip": null,
            "layout": "IPY_MODEL_a77634183333439295cfddb548b9314e",
            "max": 53583,
            "min": 0,
            "orientation": "horizontal",
            "style": "IPY_MODEL_17843ba97a9944e6b4a0c2b2ac58ab3e",
            "value": 53583
          }
        },
        "24060a7dbccf4f69a3cf9440d0481a17": {
          "model_module": "@jupyter-widgets/base",
          "model_module_version": "1.2.0",
          "model_name": "LayoutModel",
          "state": {
            "_model_module": "@jupyter-widgets/base",
            "_model_module_version": "1.2.0",
            "_model_name": "LayoutModel",
            "_view_count": null,
            "_view_module": "@jupyter-widgets/base",
            "_view_module_version": "1.2.0",
            "_view_name": "LayoutView",
            "align_content": null,
            "align_items": null,
            "align_self": null,
            "border": null,
            "bottom": null,
            "display": null,
            "flex": null,
            "flex_flow": null,
            "grid_area": null,
            "grid_auto_columns": null,
            "grid_auto_flow": null,
            "grid_auto_rows": null,
            "grid_column": null,
            "grid_gap": null,
            "grid_row": null,
            "grid_template_areas": null,
            "grid_template_columns": null,
            "grid_template_rows": null,
            "height": null,
            "justify_content": null,
            "justify_items": null,
            "left": null,
            "margin": null,
            "max_height": null,
            "max_width": null,
            "min_height": null,
            "min_width": null,
            "object_fit": null,
            "object_position": null,
            "order": null,
            "overflow": null,
            "overflow_x": null,
            "overflow_y": null,
            "padding": null,
            "right": null,
            "top": null,
            "visibility": null,
            "width": null
          }
        },
        "24384a70f5524740b8cb7b9aeb6045ef": {
          "model_module": "@jupyter-widgets/base",
          "model_module_version": "1.2.0",
          "model_name": "LayoutModel",
          "state": {
            "_model_module": "@jupyter-widgets/base",
            "_model_module_version": "1.2.0",
            "_model_name": "LayoutModel",
            "_view_count": null,
            "_view_module": "@jupyter-widgets/base",
            "_view_module_version": "1.2.0",
            "_view_name": "LayoutView",
            "align_content": null,
            "align_items": null,
            "align_self": null,
            "border": null,
            "bottom": null,
            "display": null,
            "flex": null,
            "flex_flow": null,
            "grid_area": null,
            "grid_auto_columns": null,
            "grid_auto_flow": null,
            "grid_auto_rows": null,
            "grid_column": null,
            "grid_gap": null,
            "grid_row": null,
            "grid_template_areas": null,
            "grid_template_columns": null,
            "grid_template_rows": null,
            "height": null,
            "justify_content": null,
            "justify_items": null,
            "left": null,
            "margin": null,
            "max_height": null,
            "max_width": null,
            "min_height": null,
            "min_width": null,
            "object_fit": null,
            "object_position": null,
            "order": null,
            "overflow": null,
            "overflow_x": null,
            "overflow_y": null,
            "padding": null,
            "right": null,
            "top": null,
            "visibility": null,
            "width": null
          }
        },
        "24aa937722be458bac8df636acceaac8": {
          "model_module": "@jupyter-widgets/controls",
          "model_module_version": "1.5.0",
          "model_name": "ProgressStyleModel",
          "state": {
            "_model_module": "@jupyter-widgets/controls",
            "_model_module_version": "1.5.0",
            "_model_name": "ProgressStyleModel",
            "_view_count": null,
            "_view_module": "@jupyter-widgets/base",
            "_view_module_version": "1.2.0",
            "_view_name": "StyleView",
            "bar_color": null,
            "description_width": ""
          }
        },
        "269d11ffdbfc41e5aba58855911cac5d": {
          "model_module": "@jupyter-widgets/base",
          "model_module_version": "1.2.0",
          "model_name": "LayoutModel",
          "state": {
            "_model_module": "@jupyter-widgets/base",
            "_model_module_version": "1.2.0",
            "_model_name": "LayoutModel",
            "_view_count": null,
            "_view_module": "@jupyter-widgets/base",
            "_view_module_version": "1.2.0",
            "_view_name": "LayoutView",
            "align_content": null,
            "align_items": null,
            "align_self": null,
            "border": null,
            "bottom": null,
            "display": null,
            "flex": null,
            "flex_flow": null,
            "grid_area": null,
            "grid_auto_columns": null,
            "grid_auto_flow": null,
            "grid_auto_rows": null,
            "grid_column": null,
            "grid_gap": null,
            "grid_row": null,
            "grid_template_areas": null,
            "grid_template_columns": null,
            "grid_template_rows": null,
            "height": null,
            "justify_content": null,
            "justify_items": null,
            "left": null,
            "margin": null,
            "max_height": null,
            "max_width": null,
            "min_height": null,
            "min_width": null,
            "object_fit": null,
            "object_position": null,
            "order": null,
            "overflow": null,
            "overflow_x": null,
            "overflow_y": null,
            "padding": null,
            "right": null,
            "top": null,
            "visibility": null,
            "width": null
          }
        },
        "2ca80f9886424d02b3ef0bc515b4c27b": {
          "model_module": "@jupyter-widgets/base",
          "model_module_version": "1.2.0",
          "model_name": "LayoutModel",
          "state": {
            "_model_module": "@jupyter-widgets/base",
            "_model_module_version": "1.2.0",
            "_model_name": "LayoutModel",
            "_view_count": null,
            "_view_module": "@jupyter-widgets/base",
            "_view_module_version": "1.2.0",
            "_view_name": "LayoutView",
            "align_content": null,
            "align_items": null,
            "align_self": null,
            "border": null,
            "bottom": null,
            "display": null,
            "flex": null,
            "flex_flow": null,
            "grid_area": null,
            "grid_auto_columns": null,
            "grid_auto_flow": null,
            "grid_auto_rows": null,
            "grid_column": null,
            "grid_gap": null,
            "grid_row": null,
            "grid_template_areas": null,
            "grid_template_columns": null,
            "grid_template_rows": null,
            "height": null,
            "justify_content": null,
            "justify_items": null,
            "left": null,
            "margin": null,
            "max_height": null,
            "max_width": null,
            "min_height": null,
            "min_width": null,
            "object_fit": null,
            "object_position": null,
            "order": null,
            "overflow": null,
            "overflow_x": null,
            "overflow_y": null,
            "padding": null,
            "right": null,
            "top": null,
            "visibility": null,
            "width": null
          }
        },
        "3755dc5575654854a95c61a5eece3568": {
          "model_module": "@jupyter-widgets/controls",
          "model_module_version": "1.5.0",
          "model_name": "HTMLModel",
          "state": {
            "_dom_classes": [],
            "_model_module": "@jupyter-widgets/controls",
            "_model_module_version": "1.5.0",
            "_model_name": "HTMLModel",
            "_view_count": null,
            "_view_module": "@jupyter-widgets/controls",
            "_view_module_version": "1.5.0",
            "_view_name": "HTMLView",
            "description": "",
            "description_tooltip": null,
            "layout": "IPY_MODEL_24060a7dbccf4f69a3cf9440d0481a17",
            "placeholder": "​",
            "style": "IPY_MODEL_ca01a2405ae34649a01de0289a8aab99",
            "value": "Downloading https://raw.githubusercontent.com/stanfordnlp/stanza-resources/main/resources_1.10.0.json: "
          }
        },
        "3a321e1482704cdc9257018a6cca6265": {
          "model_module": "@jupyter-widgets/controls",
          "model_module_version": "1.5.0",
          "model_name": "HTMLModel",
          "state": {
            "_dom_classes": [],
            "_model_module": "@jupyter-widgets/controls",
            "_model_module_version": "1.5.0",
            "_model_name": "HTMLModel",
            "_view_count": null,
            "_view_module": "@jupyter-widgets/controls",
            "_view_module_version": "1.5.0",
            "_view_name": "HTMLView",
            "description": "",
            "description_tooltip": null,
            "layout": "IPY_MODEL_d25442b7a2e244ecacaea001d79b12a4",
            "placeholder": "​",
            "style": "IPY_MODEL_cfca4b12ab6d412485c8c2bc4fa56e77",
            "value": "config.json: 100%"
          }
        },
        "4635f62aa28e45b19ecda7df8c4859d5": {
          "model_module": "@jupyter-widgets/base",
          "model_module_version": "1.2.0",
          "model_name": "LayoutModel",
          "state": {
            "_model_module": "@jupyter-widgets/base",
            "_model_module_version": "1.2.0",
            "_model_name": "LayoutModel",
            "_view_count": null,
            "_view_module": "@jupyter-widgets/base",
            "_view_module_version": "1.2.0",
            "_view_name": "LayoutView",
            "align_content": null,
            "align_items": null,
            "align_self": null,
            "border": null,
            "bottom": null,
            "display": null,
            "flex": null,
            "flex_flow": null,
            "grid_area": null,
            "grid_auto_columns": null,
            "grid_auto_flow": null,
            "grid_auto_rows": null,
            "grid_column": null,
            "grid_gap": null,
            "grid_row": null,
            "grid_template_areas": null,
            "grid_template_columns": null,
            "grid_template_rows": null,
            "height": null,
            "justify_content": null,
            "justify_items": null,
            "left": null,
            "margin": null,
            "max_height": null,
            "max_width": null,
            "min_height": null,
            "min_width": null,
            "object_fit": null,
            "object_position": null,
            "order": null,
            "overflow": null,
            "overflow_x": null,
            "overflow_y": null,
            "padding": null,
            "right": null,
            "top": null,
            "visibility": null,
            "width": null
          }
        },
        "48c04366d31d4f3e98ee76030b66a915": {
          "model_module": "@jupyter-widgets/controls",
          "model_module_version": "1.5.0",
          "model_name": "ProgressStyleModel",
          "state": {
            "_model_module": "@jupyter-widgets/controls",
            "_model_module_version": "1.5.0",
            "_model_name": "ProgressStyleModel",
            "_view_count": null,
            "_view_module": "@jupyter-widgets/base",
            "_view_module_version": "1.2.0",
            "_view_name": "StyleView",
            "bar_color": null,
            "description_width": ""
          }
        },
        "4a99a3b937a94d898676da7b0b44c01f": {
          "model_module": "@jupyter-widgets/controls",
          "model_module_version": "1.5.0",
          "model_name": "DescriptionStyleModel",
          "state": {
            "_model_module": "@jupyter-widgets/controls",
            "_model_module_version": "1.5.0",
            "_model_name": "DescriptionStyleModel",
            "_view_count": null,
            "_view_module": "@jupyter-widgets/base",
            "_view_module_version": "1.2.0",
            "_view_name": "StyleView",
            "description_width": ""
          }
        },
        "4adba0c9eb5949df885b2f7feb9d14e2": {
          "model_module": "@jupyter-widgets/controls",
          "model_module_version": "1.5.0",
          "model_name": "FloatProgressModel",
          "state": {
            "_dom_classes": [],
            "_model_module": "@jupyter-widgets/controls",
            "_model_module_version": "1.5.0",
            "_model_name": "FloatProgressModel",
            "_view_count": null,
            "_view_module": "@jupyter-widgets/controls",
            "_view_module_version": "1.5.0",
            "_view_name": "ProgressView",
            "bar_style": "success",
            "description": "",
            "description_tooltip": null,
            "layout": "IPY_MODEL_a7433a4e52464ee5bb6d9c2c42453666",
            "max": 1,
            "min": 0,
            "orientation": "horizontal",
            "style": "IPY_MODEL_1f2307b6e11446568e51ede0f64c49ce",
            "value": 1
          }
        },
        "4b56224ecfb64f09bc45e091592031da": {
          "model_module": "@jupyter-widgets/controls",
          "model_module_version": "1.5.0",
          "model_name": "HTMLModel",
          "state": {
            "_dom_classes": [],
            "_model_module": "@jupyter-widgets/controls",
            "_model_module_version": "1.5.0",
            "_model_name": "HTMLModel",
            "_view_count": null,
            "_view_module": "@jupyter-widgets/controls",
            "_view_module_version": "1.5.0",
            "_view_name": "HTMLView",
            "description": "",
            "description_tooltip": null,
            "layout": "IPY_MODEL_1b8e2f71b38343759380cc9c9166354f",
            "placeholder": "​",
            "style": "IPY_MODEL_e3a6b7cf36274b54af7806e9f759aa27",
            "value": " 480k/? [00:00&lt;00:00, 18.9MB/s]"
          }
        },
        "4c96befd880440fca6ac1d7740b7ca75": {
          "model_module": "@jupyter-widgets/base",
          "model_module_version": "1.2.0",
          "model_name": "LayoutModel",
          "state": {
            "_model_module": "@jupyter-widgets/base",
            "_model_module_version": "1.2.0",
            "_model_name": "LayoutModel",
            "_view_count": null,
            "_view_module": "@jupyter-widgets/base",
            "_view_module_version": "1.2.0",
            "_view_name": "LayoutView",
            "align_content": null,
            "align_items": null,
            "align_self": null,
            "border": null,
            "bottom": null,
            "display": null,
            "flex": null,
            "flex_flow": null,
            "grid_area": null,
            "grid_auto_columns": null,
            "grid_auto_flow": null,
            "grid_auto_rows": null,
            "grid_column": null,
            "grid_gap": null,
            "grid_row": null,
            "grid_template_areas": null,
            "grid_template_columns": null,
            "grid_template_rows": null,
            "height": null,
            "justify_content": null,
            "justify_items": null,
            "left": null,
            "margin": null,
            "max_height": null,
            "max_width": null,
            "min_height": null,
            "min_width": null,
            "object_fit": null,
            "object_position": null,
            "order": null,
            "overflow": null,
            "overflow_x": null,
            "overflow_y": null,
            "padding": null,
            "right": null,
            "top": null,
            "visibility": null,
            "width": null
          }
        },
        "4d4ae2b160ed4976830ccb685d405d6b": {
          "model_module": "@jupyter-widgets/base",
          "model_module_version": "1.2.0",
          "model_name": "LayoutModel",
          "state": {
            "_model_module": "@jupyter-widgets/base",
            "_model_module_version": "1.2.0",
            "_model_name": "LayoutModel",
            "_view_count": null,
            "_view_module": "@jupyter-widgets/base",
            "_view_module_version": "1.2.0",
            "_view_name": "LayoutView",
            "align_content": null,
            "align_items": null,
            "align_self": null,
            "border": null,
            "bottom": null,
            "display": null,
            "flex": null,
            "flex_flow": null,
            "grid_area": null,
            "grid_auto_columns": null,
            "grid_auto_flow": null,
            "grid_auto_rows": null,
            "grid_column": null,
            "grid_gap": null,
            "grid_row": null,
            "grid_template_areas": null,
            "grid_template_columns": null,
            "grid_template_rows": null,
            "height": null,
            "justify_content": null,
            "justify_items": null,
            "left": null,
            "margin": null,
            "max_height": null,
            "max_width": null,
            "min_height": null,
            "min_width": null,
            "object_fit": null,
            "object_position": null,
            "order": null,
            "overflow": null,
            "overflow_x": null,
            "overflow_y": null,
            "padding": null,
            "right": null,
            "top": null,
            "visibility": null,
            "width": null
          }
        },
        "5661149a0b9e46e0bc80eda87068b054": {
          "model_module": "@jupyter-widgets/controls",
          "model_module_version": "1.5.0",
          "model_name": "ProgressStyleModel",
          "state": {
            "_model_module": "@jupyter-widgets/controls",
            "_model_module_version": "1.5.0",
            "_model_name": "ProgressStyleModel",
            "_view_count": null,
            "_view_module": "@jupyter-widgets/base",
            "_view_module_version": "1.2.0",
            "_view_name": "StyleView",
            "bar_color": null,
            "description_width": ""
          }
        },
        "584688bcdb4d44dbb89c44bdd26fc596": {
          "model_module": "@jupyter-widgets/controls",
          "model_module_version": "1.5.0",
          "model_name": "FloatProgressModel",
          "state": {
            "_dom_classes": [],
            "_model_module": "@jupyter-widgets/controls",
            "_model_module_version": "1.5.0",
            "_model_name": "FloatProgressModel",
            "_view_count": null,
            "_view_module": "@jupyter-widgets/controls",
            "_view_module_version": "1.5.0",
            "_view_name": "ProgressView",
            "bar_style": "success",
            "description": "",
            "description_tooltip": null,
            "layout": "IPY_MODEL_c7beac449b12491c8eb54b5231ee7e90",
            "max": 364,
            "min": 0,
            "orientation": "horizontal",
            "style": "IPY_MODEL_24aa937722be458bac8df636acceaac8",
            "value": 364
          }
        },
        "5b6f435f4efd44d08bc9c297e82b5d86": {
          "model_module": "@jupyter-widgets/controls",
          "model_module_version": "1.5.0",
          "model_name": "HBoxModel",
          "state": {
            "_dom_classes": [],
            "_model_module": "@jupyter-widgets/controls",
            "_model_module_version": "1.5.0",
            "_model_name": "HBoxModel",
            "_view_count": null,
            "_view_module": "@jupyter-widgets/controls",
            "_view_module_version": "1.5.0",
            "_view_name": "HBoxView",
            "box_style": "",
            "children": [
              "IPY_MODEL_1ac5ef2754604d33a9b13a12233b555f",
              "IPY_MODEL_4adba0c9eb5949df885b2f7feb9d14e2",
              "IPY_MODEL_4b56224ecfb64f09bc45e091592031da"
            ],
            "layout": "IPY_MODEL_803f621dbce44d9080d8f8c5121ce429"
          }
        },
        "5b881969ac604028a2d07f859c8ac2e3": {
          "model_module": "@jupyter-widgets/controls",
          "model_module_version": "1.5.0",
          "model_name": "ProgressStyleModel",
          "state": {
            "_model_module": "@jupyter-widgets/controls",
            "_model_module_version": "1.5.0",
            "_model_name": "ProgressStyleModel",
            "_view_count": null,
            "_view_module": "@jupyter-widgets/base",
            "_view_module_version": "1.2.0",
            "_view_name": "StyleView",
            "bar_color": null,
            "description_width": ""
          }
        },
        "5fef9b532f3946aaa1636ce60d7a3fc9": {
          "model_module": "@jupyter-widgets/base",
          "model_module_version": "1.2.0",
          "model_name": "LayoutModel",
          "state": {
            "_model_module": "@jupyter-widgets/base",
            "_model_module_version": "1.2.0",
            "_model_name": "LayoutModel",
            "_view_count": null,
            "_view_module": "@jupyter-widgets/base",
            "_view_module_version": "1.2.0",
            "_view_name": "LayoutView",
            "align_content": null,
            "align_items": null,
            "align_self": null,
            "border": null,
            "bottom": null,
            "display": null,
            "flex": null,
            "flex_flow": null,
            "grid_area": null,
            "grid_auto_columns": null,
            "grid_auto_flow": null,
            "grid_auto_rows": null,
            "grid_column": null,
            "grid_gap": null,
            "grid_row": null,
            "grid_template_areas": null,
            "grid_template_columns": null,
            "grid_template_rows": null,
            "height": null,
            "justify_content": null,
            "justify_items": null,
            "left": null,
            "margin": null,
            "max_height": null,
            "max_width": null,
            "min_height": null,
            "min_width": null,
            "object_fit": null,
            "object_position": null,
            "order": null,
            "overflow": null,
            "overflow_x": null,
            "overflow_y": null,
            "padding": null,
            "right": null,
            "top": null,
            "visibility": null,
            "width": null
          }
        },
        "67ca0c17292b44ab993a81cb9ea99952": {
          "model_module": "@jupyter-widgets/controls",
          "model_module_version": "1.5.0",
          "model_name": "FloatProgressModel",
          "state": {
            "_dom_classes": [],
            "_model_module": "@jupyter-widgets/controls",
            "_model_module_version": "1.5.0",
            "_model_name": "FloatProgressModel",
            "_view_count": null,
            "_view_module": "@jupyter-widgets/controls",
            "_view_module_version": "1.5.0",
            "_view_name": "ProgressView",
            "bar_style": "success",
            "description": "",
            "description_tooltip": null,
            "layout": "IPY_MODEL_aea78e0138014370ad60ee68cbdd3f65",
            "max": 641842546,
            "min": 0,
            "orientation": "horizontal",
            "style": "IPY_MODEL_5b881969ac604028a2d07f859c8ac2e3",
            "value": 641842546
          }
        },
        "6a1c1016060c4271a488db8f6f3ea272": {
          "model_module": "@jupyter-widgets/controls",
          "model_module_version": "1.5.0",
          "model_name": "HTMLModel",
          "state": {
            "_dom_classes": [],
            "_model_module": "@jupyter-widgets/controls",
            "_model_module_version": "1.5.0",
            "_model_name": "HTMLModel",
            "_view_count": null,
            "_view_module": "@jupyter-widgets/controls",
            "_view_module_version": "1.5.0",
            "_view_name": "HTMLView",
            "description": "",
            "description_tooltip": null,
            "layout": "IPY_MODEL_b7f338ebf9b64d689ce46ec26f0c2996",
            "placeholder": "​",
            "style": "IPY_MODEL_17256e4f880e417e8153e2f6196c5d29",
            "value": "tokenizer_config.json: 100%"
          }
        },
        "6e0c0aa3bd9645778215523e6257e360": {
          "model_module": "@jupyter-widgets/controls",
          "model_module_version": "1.5.0",
          "model_name": "FloatProgressModel",
          "state": {
            "_dom_classes": [],
            "_model_module": "@jupyter-widgets/controls",
            "_model_module_version": "1.5.0",
            "_model_name": "FloatProgressModel",
            "_view_count": null,
            "_view_module": "@jupyter-widgets/controls",
            "_view_module_version": "1.5.0",
            "_view_name": "ProgressView",
            "bar_style": "success",
            "description": "",
            "description_tooltip": null,
            "layout": "IPY_MODEL_dedad397cd3949169c1152f1254881da",
            "max": 134,
            "min": 0,
            "orientation": "horizontal",
            "style": "IPY_MODEL_1982dafe5491425a82d2215e70f33c95",
            "value": 134
          }
        },
        "726fc60397354714b5686f18ed59295f": {
          "model_module": "@jupyter-widgets/controls",
          "model_module_version": "1.5.0",
          "model_name": "HTMLModel",
          "state": {
            "_dom_classes": [],
            "_model_module": "@jupyter-widgets/controls",
            "_model_module_version": "1.5.0",
            "_model_name": "HTMLModel",
            "_view_count": null,
            "_view_module": "@jupyter-widgets/controls",
            "_view_module_version": "1.5.0",
            "_view_name": "HTMLView",
            "description": "",
            "description_tooltip": null,
            "layout": "IPY_MODEL_98d66420dc844b118ac5907b8ee64be8",
            "placeholder": "​",
            "style": "IPY_MODEL_02025d4aee4747e1a5af1fca368d023f",
            "value": " 642M/642M [00:03&lt;00:00, 176MB/s]"
          }
        },
        "73d1f2b6e49845078d5815a280651d32": {
          "model_module": "@jupyter-widgets/controls",
          "model_module_version": "1.5.0",
          "model_name": "HTMLModel",
          "state": {
            "_dom_classes": [],
            "_model_module": "@jupyter-widgets/controls",
            "_model_module_version": "1.5.0",
            "_model_name": "HTMLModel",
            "_view_count": null,
            "_view_module": "@jupyter-widgets/controls",
            "_view_module_version": "1.5.0",
            "_view_name": "HTMLView",
            "description": "",
            "description_tooltip": null,
            "layout": "IPY_MODEL_2ca80f9886424d02b3ef0bc515b4c27b",
            "placeholder": "​",
            "style": "IPY_MODEL_c69148527a664c739eeca514c5e02019",
            "value": "Downloading https://raw.githubusercontent.com/stanfordnlp/stanza-resources/main/resources_1.10.0.json: "
          }
        },
        "77fbd86169314e00a4ea043d5e44ae52": {
          "model_module": "@jupyter-widgets/controls",
          "model_module_version": "1.5.0",
          "model_name": "HBoxModel",
          "state": {
            "_dom_classes": [],
            "_model_module": "@jupyter-widgets/controls",
            "_model_module_version": "1.5.0",
            "_model_name": "HBoxModel",
            "_view_count": null,
            "_view_module": "@jupyter-widgets/controls",
            "_view_module_version": "1.5.0",
            "_view_name": "HBoxView",
            "box_style": "",
            "children": [
              "IPY_MODEL_1e845f15cd014d699f8946fcacda231d",
              "IPY_MODEL_67ca0c17292b44ab993a81cb9ea99952",
              "IPY_MODEL_726fc60397354714b5686f18ed59295f"
            ],
            "layout": "IPY_MODEL_9577d749f5b44d72868312215df79903"
          }
        },
        "7df44ba3d392452ba5c5b6a06b36524b": {
          "model_module": "@jupyter-widgets/controls",
          "model_module_version": "1.5.0",
          "model_name": "DescriptionStyleModel",
          "state": {
            "_model_module": "@jupyter-widgets/controls",
            "_model_module_version": "1.5.0",
            "_model_name": "DescriptionStyleModel",
            "_view_count": null,
            "_view_module": "@jupyter-widgets/base",
            "_view_module_version": "1.2.0",
            "_view_name": "StyleView",
            "description_width": ""
          }
        },
        "803f621dbce44d9080d8f8c5121ce429": {
          "model_module": "@jupyter-widgets/base",
          "model_module_version": "1.2.0",
          "model_name": "LayoutModel",
          "state": {
            "_model_module": "@jupyter-widgets/base",
            "_model_module_version": "1.2.0",
            "_model_name": "LayoutModel",
            "_view_count": null,
            "_view_module": "@jupyter-widgets/base",
            "_view_module_version": "1.2.0",
            "_view_name": "LayoutView",
            "align_content": null,
            "align_items": null,
            "align_self": null,
            "border": null,
            "bottom": null,
            "display": null,
            "flex": null,
            "flex_flow": null,
            "grid_area": null,
            "grid_auto_columns": null,
            "grid_auto_flow": null,
            "grid_auto_rows": null,
            "grid_column": null,
            "grid_gap": null,
            "grid_row": null,
            "grid_template_areas": null,
            "grid_template_columns": null,
            "grid_template_rows": null,
            "height": null,
            "justify_content": null,
            "justify_items": null,
            "left": null,
            "margin": null,
            "max_height": null,
            "max_width": null,
            "min_height": null,
            "min_width": null,
            "object_fit": null,
            "object_position": null,
            "order": null,
            "overflow": null,
            "overflow_x": null,
            "overflow_y": null,
            "padding": null,
            "right": null,
            "top": null,
            "visibility": null,
            "width": null
          }
        },
        "832ebcc19dc643d3a43e69d85e492f52": {
          "model_module": "@jupyter-widgets/controls",
          "model_module_version": "1.5.0",
          "model_name": "DescriptionStyleModel",
          "state": {
            "_model_module": "@jupyter-widgets/controls",
            "_model_module_version": "1.5.0",
            "_model_name": "DescriptionStyleModel",
            "_view_count": null,
            "_view_module": "@jupyter-widgets/base",
            "_view_module_version": "1.2.0",
            "_view_name": "StyleView",
            "description_width": ""
          }
        },
        "841b034482fe42f89f82d7115a9956fc": {
          "model_module": "@jupyter-widgets/controls",
          "model_module_version": "1.5.0",
          "model_name": "HTMLModel",
          "state": {
            "_dom_classes": [],
            "_model_module": "@jupyter-widgets/controls",
            "_model_module_version": "1.5.0",
            "_model_name": "HTMLModel",
            "_view_count": null,
            "_view_module": "@jupyter-widgets/controls",
            "_view_module_version": "1.5.0",
            "_view_name": "HTMLView",
            "description": "",
            "description_tooltip": null,
            "layout": "IPY_MODEL_4635f62aa28e45b19ecda7df8c4859d5",
            "placeholder": "​",
            "style": "IPY_MODEL_832ebcc19dc643d3a43e69d85e492f52",
            "value": " 648/648 [00:00&lt;00:00, 60.9kB/s]"
          }
        },
        "8830bedbae2b4b0ca535b6eef2652086": {
          "model_module": "@jupyter-widgets/controls",
          "model_module_version": "1.5.0",
          "model_name": "HTMLModel",
          "state": {
            "_dom_classes": [],
            "_model_module": "@jupyter-widgets/controls",
            "_model_module_version": "1.5.0",
            "_model_name": "HTMLModel",
            "_view_count": null,
            "_view_module": "@jupyter-widgets/controls",
            "_view_module_version": "1.5.0",
            "_view_name": "HTMLView",
            "description": "",
            "description_tooltip": null,
            "layout": "IPY_MODEL_4d4ae2b160ed4976830ccb685d405d6b",
            "placeholder": "​",
            "style": "IPY_MODEL_1db7bd99e8b94bca9db986aaeb3fb6c3",
            "value": "vocab.txt: "
          }
        },
        "8be8fde9fa784641bd001d922bd7faa6": {
          "model_module": "@jupyter-widgets/controls",
          "model_module_version": "1.5.0",
          "model_name": "DescriptionStyleModel",
          "state": {
            "_model_module": "@jupyter-widgets/controls",
            "_model_module_version": "1.5.0",
            "_model_name": "DescriptionStyleModel",
            "_view_count": null,
            "_view_module": "@jupyter-widgets/base",
            "_view_module_version": "1.2.0",
            "_view_name": "StyleView",
            "description_width": ""
          }
        },
        "8c17d7dda4bf49f1acde1c9276cfbfbe": {
          "model_module": "@jupyter-widgets/controls",
          "model_module_version": "1.5.0",
          "model_name": "DescriptionStyleModel",
          "state": {
            "_model_module": "@jupyter-widgets/controls",
            "_model_module_version": "1.5.0",
            "_model_name": "DescriptionStyleModel",
            "_view_count": null,
            "_view_module": "@jupyter-widgets/base",
            "_view_module_version": "1.2.0",
            "_view_name": "StyleView",
            "description_width": ""
          }
        },
        "9428de496afc40f4ba1642cdc335ff42": {
          "model_module": "@jupyter-widgets/base",
          "model_module_version": "1.2.0",
          "model_name": "LayoutModel",
          "state": {
            "_model_module": "@jupyter-widgets/base",
            "_model_module_version": "1.2.0",
            "_model_name": "LayoutModel",
            "_view_count": null,
            "_view_module": "@jupyter-widgets/base",
            "_view_module_version": "1.2.0",
            "_view_name": "LayoutView",
            "align_content": null,
            "align_items": null,
            "align_self": null,
            "border": null,
            "bottom": null,
            "display": null,
            "flex": null,
            "flex_flow": null,
            "grid_area": null,
            "grid_auto_columns": null,
            "grid_auto_flow": null,
            "grid_auto_rows": null,
            "grid_column": null,
            "grid_gap": null,
            "grid_row": null,
            "grid_template_areas": null,
            "grid_template_columns": null,
            "grid_template_rows": null,
            "height": null,
            "justify_content": null,
            "justify_items": null,
            "left": null,
            "margin": null,
            "max_height": null,
            "max_width": null,
            "min_height": null,
            "min_width": null,
            "object_fit": null,
            "object_position": null,
            "order": null,
            "overflow": null,
            "overflow_x": null,
            "overflow_y": null,
            "padding": null,
            "right": null,
            "top": null,
            "visibility": null,
            "width": null
          }
        },
        "9577d749f5b44d72868312215df79903": {
          "model_module": "@jupyter-widgets/base",
          "model_module_version": "1.2.0",
          "model_name": "LayoutModel",
          "state": {
            "_model_module": "@jupyter-widgets/base",
            "_model_module_version": "1.2.0",
            "_model_name": "LayoutModel",
            "_view_count": null,
            "_view_module": "@jupyter-widgets/base",
            "_view_module_version": "1.2.0",
            "_view_name": "LayoutView",
            "align_content": null,
            "align_items": null,
            "align_self": null,
            "border": null,
            "bottom": null,
            "display": null,
            "flex": null,
            "flex_flow": null,
            "grid_area": null,
            "grid_auto_columns": null,
            "grid_auto_flow": null,
            "grid_auto_rows": null,
            "grid_column": null,
            "grid_gap": null,
            "grid_row": null,
            "grid_template_areas": null,
            "grid_template_columns": null,
            "grid_template_rows": null,
            "height": null,
            "justify_content": null,
            "justify_items": null,
            "left": null,
            "margin": null,
            "max_height": null,
            "max_width": null,
            "min_height": null,
            "min_width": null,
            "object_fit": null,
            "object_position": null,
            "order": null,
            "overflow": null,
            "overflow_x": null,
            "overflow_y": null,
            "padding": null,
            "right": null,
            "top": null,
            "visibility": null,
            "width": null
          }
        },
        "983224230e7e420a970caa2d36dba553": {
          "model_module": "@jupyter-widgets/base",
          "model_module_version": "1.2.0",
          "model_name": "LayoutModel",
          "state": {
            "_model_module": "@jupyter-widgets/base",
            "_model_module_version": "1.2.0",
            "_model_name": "LayoutModel",
            "_view_count": null,
            "_view_module": "@jupyter-widgets/base",
            "_view_module_version": "1.2.0",
            "_view_name": "LayoutView",
            "align_content": null,
            "align_items": null,
            "align_self": null,
            "border": null,
            "bottom": null,
            "display": null,
            "flex": null,
            "flex_flow": null,
            "grid_area": null,
            "grid_auto_columns": null,
            "grid_auto_flow": null,
            "grid_auto_rows": null,
            "grid_column": null,
            "grid_gap": null,
            "grid_row": null,
            "grid_template_areas": null,
            "grid_template_columns": null,
            "grid_template_rows": null,
            "height": null,
            "justify_content": null,
            "justify_items": null,
            "left": null,
            "margin": null,
            "max_height": null,
            "max_width": null,
            "min_height": null,
            "min_width": null,
            "object_fit": null,
            "object_position": null,
            "order": null,
            "overflow": null,
            "overflow_x": null,
            "overflow_y": null,
            "padding": null,
            "right": null,
            "top": null,
            "visibility": null,
            "width": null
          }
        },
        "98d66420dc844b118ac5907b8ee64be8": {
          "model_module": "@jupyter-widgets/base",
          "model_module_version": "1.2.0",
          "model_name": "LayoutModel",
          "state": {
            "_model_module": "@jupyter-widgets/base",
            "_model_module_version": "1.2.0",
            "_model_name": "LayoutModel",
            "_view_count": null,
            "_view_module": "@jupyter-widgets/base",
            "_view_module_version": "1.2.0",
            "_view_name": "LayoutView",
            "align_content": null,
            "align_items": null,
            "align_self": null,
            "border": null,
            "bottom": null,
            "display": null,
            "flex": null,
            "flex_flow": null,
            "grid_area": null,
            "grid_auto_columns": null,
            "grid_auto_flow": null,
            "grid_auto_rows": null,
            "grid_column": null,
            "grid_gap": null,
            "grid_row": null,
            "grid_template_areas": null,
            "grid_template_columns": null,
            "grid_template_rows": null,
            "height": null,
            "justify_content": null,
            "justify_items": null,
            "left": null,
            "margin": null,
            "max_height": null,
            "max_width": null,
            "min_height": null,
            "min_width": null,
            "object_fit": null,
            "object_position": null,
            "order": null,
            "overflow": null,
            "overflow_x": null,
            "overflow_y": null,
            "padding": null,
            "right": null,
            "top": null,
            "visibility": null,
            "width": null
          }
        },
        "99964ab9466049f7b7f2bc3f4bb7a1b0": {
          "model_module": "@jupyter-widgets/controls",
          "model_module_version": "1.5.0",
          "model_name": "HBoxModel",
          "state": {
            "_dom_classes": [],
            "_model_module": "@jupyter-widgets/controls",
            "_model_module_version": "1.5.0",
            "_model_name": "HBoxModel",
            "_view_count": null,
            "_view_module": "@jupyter-widgets/controls",
            "_view_module_version": "1.5.0",
            "_view_name": "HBoxView",
            "box_style": "",
            "children": [
              "IPY_MODEL_73d1f2b6e49845078d5815a280651d32",
              "IPY_MODEL_a7266e1ca4404c23adecf2b907908655",
              "IPY_MODEL_aa1f1bed21614c50a8ce1dadf83cb40d"
            ],
            "layout": "IPY_MODEL_a9f5be277a9a412c843dc300dd55f95d"
          }
        },
        "a41bd40d41fb4caea83931b82e79d2b1": {
          "model_module": "@jupyter-widgets/controls",
          "model_module_version": "1.5.0",
          "model_name": "HBoxModel",
          "state": {
            "_dom_classes": [],
            "_model_module": "@jupyter-widgets/controls",
            "_model_module_version": "1.5.0",
            "_model_name": "HBoxModel",
            "_view_count": null,
            "_view_module": "@jupyter-widgets/controls",
            "_view_module_version": "1.5.0",
            "_view_name": "HBoxView",
            "box_style": "",
            "children": [
              "IPY_MODEL_8830bedbae2b4b0ca535b6eef2652086",
              "IPY_MODEL_c489418f3cbf42d68a1e9a4093f01b30",
              "IPY_MODEL_09603f605b4b45908ecec5bbc798aedb"
            ],
            "layout": "IPY_MODEL_b77dc2cad48e4bf8a93c269f7a4baae7"
          }
        },
        "a7266e1ca4404c23adecf2b907908655": {
          "model_module": "@jupyter-widgets/controls",
          "model_module_version": "1.5.0",
          "model_name": "FloatProgressModel",
          "state": {
            "_dom_classes": [],
            "_model_module": "@jupyter-widgets/controls",
            "_model_module_version": "1.5.0",
            "_model_name": "FloatProgressModel",
            "_view_count": null,
            "_view_module": "@jupyter-widgets/controls",
            "_view_module_version": "1.5.0",
            "_view_name": "ProgressView",
            "bar_style": "success",
            "description": "",
            "description_tooltip": null,
            "layout": "IPY_MODEL_5fef9b532f3946aaa1636ce60d7a3fc9",
            "max": 53583,
            "min": 0,
            "orientation": "horizontal",
            "style": "IPY_MODEL_5661149a0b9e46e0bc80eda87068b054",
            "value": 53583
          }
        },
        "a72b9612858142e3b796374c9177992b": {
          "model_module": "@jupyter-widgets/controls",
          "model_module_version": "1.5.0",
          "model_name": "HBoxModel",
          "state": {
            "_dom_classes": [],
            "_model_module": "@jupyter-widgets/controls",
            "_model_module_version": "1.5.0",
            "_model_name": "HBoxModel",
            "_view_count": null,
            "_view_module": "@jupyter-widgets/controls",
            "_view_module_version": "1.5.0",
            "_view_name": "HBoxView",
            "box_style": "",
            "children": [
              "IPY_MODEL_6a1c1016060c4271a488db8f6f3ea272",
              "IPY_MODEL_584688bcdb4d44dbb89c44bdd26fc596",
              "IPY_MODEL_007f10afd122469cb083fb84e7d004b3"
            ],
            "layout": "IPY_MODEL_a8d684125d2242a888d79af334fe9611"
          }
        },
        "a7433a4e52464ee5bb6d9c2c42453666": {
          "model_module": "@jupyter-widgets/base",
          "model_module_version": "1.2.0",
          "model_name": "LayoutModel",
          "state": {
            "_model_module": "@jupyter-widgets/base",
            "_model_module_version": "1.2.0",
            "_model_name": "LayoutModel",
            "_view_count": null,
            "_view_module": "@jupyter-widgets/base",
            "_view_module_version": "1.2.0",
            "_view_name": "LayoutView",
            "align_content": null,
            "align_items": null,
            "align_self": null,
            "border": null,
            "bottom": null,
            "display": null,
            "flex": null,
            "flex_flow": null,
            "grid_area": null,
            "grid_auto_columns": null,
            "grid_auto_flow": null,
            "grid_auto_rows": null,
            "grid_column": null,
            "grid_gap": null,
            "grid_row": null,
            "grid_template_areas": null,
            "grid_template_columns": null,
            "grid_template_rows": null,
            "height": null,
            "justify_content": null,
            "justify_items": null,
            "left": null,
            "margin": null,
            "max_height": null,
            "max_width": null,
            "min_height": null,
            "min_width": null,
            "object_fit": null,
            "object_position": null,
            "order": null,
            "overflow": null,
            "overflow_x": null,
            "overflow_y": null,
            "padding": null,
            "right": null,
            "top": null,
            "visibility": null,
            "width": "20px"
          }
        },
        "a77634183333439295cfddb548b9314e": {
          "model_module": "@jupyter-widgets/base",
          "model_module_version": "1.2.0",
          "model_name": "LayoutModel",
          "state": {
            "_model_module": "@jupyter-widgets/base",
            "_model_module_version": "1.2.0",
            "_model_name": "LayoutModel",
            "_view_count": null,
            "_view_module": "@jupyter-widgets/base",
            "_view_module_version": "1.2.0",
            "_view_name": "LayoutView",
            "align_content": null,
            "align_items": null,
            "align_self": null,
            "border": null,
            "bottom": null,
            "display": null,
            "flex": null,
            "flex_flow": null,
            "grid_area": null,
            "grid_auto_columns": null,
            "grid_auto_flow": null,
            "grid_auto_rows": null,
            "grid_column": null,
            "grid_gap": null,
            "grid_row": null,
            "grid_template_areas": null,
            "grid_template_columns": null,
            "grid_template_rows": null,
            "height": null,
            "justify_content": null,
            "justify_items": null,
            "left": null,
            "margin": null,
            "max_height": null,
            "max_width": null,
            "min_height": null,
            "min_width": null,
            "object_fit": null,
            "object_position": null,
            "order": null,
            "overflow": null,
            "overflow_x": null,
            "overflow_y": null,
            "padding": null,
            "right": null,
            "top": null,
            "visibility": null,
            "width": null
          }
        },
        "a8d684125d2242a888d79af334fe9611": {
          "model_module": "@jupyter-widgets/base",
          "model_module_version": "1.2.0",
          "model_name": "LayoutModel",
          "state": {
            "_model_module": "@jupyter-widgets/base",
            "_model_module_version": "1.2.0",
            "_model_name": "LayoutModel",
            "_view_count": null,
            "_view_module": "@jupyter-widgets/base",
            "_view_module_version": "1.2.0",
            "_view_name": "LayoutView",
            "align_content": null,
            "align_items": null,
            "align_self": null,
            "border": null,
            "bottom": null,
            "display": null,
            "flex": null,
            "flex_flow": null,
            "grid_area": null,
            "grid_auto_columns": null,
            "grid_auto_flow": null,
            "grid_auto_rows": null,
            "grid_column": null,
            "grid_gap": null,
            "grid_row": null,
            "grid_template_areas": null,
            "grid_template_columns": null,
            "grid_template_rows": null,
            "height": null,
            "justify_content": null,
            "justify_items": null,
            "left": null,
            "margin": null,
            "max_height": null,
            "max_width": null,
            "min_height": null,
            "min_width": null,
            "object_fit": null,
            "object_position": null,
            "order": null,
            "overflow": null,
            "overflow_x": null,
            "overflow_y": null,
            "padding": null,
            "right": null,
            "top": null,
            "visibility": null,
            "width": null
          }
        },
        "a9f5be277a9a412c843dc300dd55f95d": {
          "model_module": "@jupyter-widgets/base",
          "model_module_version": "1.2.0",
          "model_name": "LayoutModel",
          "state": {
            "_model_module": "@jupyter-widgets/base",
            "_model_module_version": "1.2.0",
            "_model_name": "LayoutModel",
            "_view_count": null,
            "_view_module": "@jupyter-widgets/base",
            "_view_module_version": "1.2.0",
            "_view_name": "LayoutView",
            "align_content": null,
            "align_items": null,
            "align_self": null,
            "border": null,
            "bottom": null,
            "display": null,
            "flex": null,
            "flex_flow": null,
            "grid_area": null,
            "grid_auto_columns": null,
            "grid_auto_flow": null,
            "grid_auto_rows": null,
            "grid_column": null,
            "grid_gap": null,
            "grid_row": null,
            "grid_template_areas": null,
            "grid_template_columns": null,
            "grid_template_rows": null,
            "height": null,
            "justify_content": null,
            "justify_items": null,
            "left": null,
            "margin": null,
            "max_height": null,
            "max_width": null,
            "min_height": null,
            "min_width": null,
            "object_fit": null,
            "object_position": null,
            "order": null,
            "overflow": null,
            "overflow_x": null,
            "overflow_y": null,
            "padding": null,
            "right": null,
            "top": null,
            "visibility": null,
            "width": null
          }
        },
        "aa1f1bed21614c50a8ce1dadf83cb40d": {
          "model_module": "@jupyter-widgets/controls",
          "model_module_version": "1.5.0",
          "model_name": "HTMLModel",
          "state": {
            "_dom_classes": [],
            "_model_module": "@jupyter-widgets/controls",
            "_model_module_version": "1.5.0",
            "_model_name": "HTMLModel",
            "_view_count": null,
            "_view_module": "@jupyter-widgets/controls",
            "_view_module_version": "1.5.0",
            "_view_name": "HTMLView",
            "description": "",
            "description_tooltip": null,
            "layout": "IPY_MODEL_ec63b49449cd4ecf9fa5ed4284cf4941",
            "placeholder": "​",
            "style": "IPY_MODEL_7df44ba3d392452ba5c5b6a06b36524b",
            "value": " 434k/? [00:00&lt;00:00, 17.1MB/s]"
          }
        },
        "aaa85327ba1e42799deb04124f8ad18b": {
          "model_module": "@jupyter-widgets/base",
          "model_module_version": "1.2.0",
          "model_name": "LayoutModel",
          "state": {
            "_model_module": "@jupyter-widgets/base",
            "_model_module_version": "1.2.0",
            "_model_name": "LayoutModel",
            "_view_count": null,
            "_view_module": "@jupyter-widgets/base",
            "_view_module_version": "1.2.0",
            "_view_name": "LayoutView",
            "align_content": null,
            "align_items": null,
            "align_self": null,
            "border": null,
            "bottom": null,
            "display": null,
            "flex": null,
            "flex_flow": null,
            "grid_area": null,
            "grid_auto_columns": null,
            "grid_auto_flow": null,
            "grid_auto_rows": null,
            "grid_column": null,
            "grid_gap": null,
            "grid_row": null,
            "grid_template_areas": null,
            "grid_template_columns": null,
            "grid_template_rows": null,
            "height": null,
            "justify_content": null,
            "justify_items": null,
            "left": null,
            "margin": null,
            "max_height": null,
            "max_width": null,
            "min_height": null,
            "min_width": null,
            "object_fit": null,
            "object_position": null,
            "order": null,
            "overflow": null,
            "overflow_x": null,
            "overflow_y": null,
            "padding": null,
            "right": null,
            "top": null,
            "visibility": null,
            "width": null
          }
        },
        "aea78e0138014370ad60ee68cbdd3f65": {
          "model_module": "@jupyter-widgets/base",
          "model_module_version": "1.2.0",
          "model_name": "LayoutModel",
          "state": {
            "_model_module": "@jupyter-widgets/base",
            "_model_module_version": "1.2.0",
            "_model_name": "LayoutModel",
            "_view_count": null,
            "_view_module": "@jupyter-widgets/base",
            "_view_module_version": "1.2.0",
            "_view_name": "LayoutView",
            "align_content": null,
            "align_items": null,
            "align_self": null,
            "border": null,
            "bottom": null,
            "display": null,
            "flex": null,
            "flex_flow": null,
            "grid_area": null,
            "grid_auto_columns": null,
            "grid_auto_flow": null,
            "grid_auto_rows": null,
            "grid_column": null,
            "grid_gap": null,
            "grid_row": null,
            "grid_template_areas": null,
            "grid_template_columns": null,
            "grid_template_rows": null,
            "height": null,
            "justify_content": null,
            "justify_items": null,
            "left": null,
            "margin": null,
            "max_height": null,
            "max_width": null,
            "min_height": null,
            "min_width": null,
            "object_fit": null,
            "object_position": null,
            "order": null,
            "overflow": null,
            "overflow_x": null,
            "overflow_y": null,
            "padding": null,
            "right": null,
            "top": null,
            "visibility": null,
            "width": null
          }
        },
        "b69b831cbb8248268cdb127d11a38d53": {
          "model_module": "@jupyter-widgets/controls",
          "model_module_version": "1.5.0",
          "model_name": "DescriptionStyleModel",
          "state": {
            "_model_module": "@jupyter-widgets/controls",
            "_model_module_version": "1.5.0",
            "_model_name": "DescriptionStyleModel",
            "_view_count": null,
            "_view_module": "@jupyter-widgets/base",
            "_view_module_version": "1.2.0",
            "_view_name": "StyleView",
            "description_width": ""
          }
        },
        "b77dc2cad48e4bf8a93c269f7a4baae7": {
          "model_module": "@jupyter-widgets/base",
          "model_module_version": "1.2.0",
          "model_name": "LayoutModel",
          "state": {
            "_model_module": "@jupyter-widgets/base",
            "_model_module_version": "1.2.0",
            "_model_name": "LayoutModel",
            "_view_count": null,
            "_view_module": "@jupyter-widgets/base",
            "_view_module_version": "1.2.0",
            "_view_name": "LayoutView",
            "align_content": null,
            "align_items": null,
            "align_self": null,
            "border": null,
            "bottom": null,
            "display": null,
            "flex": null,
            "flex_flow": null,
            "grid_area": null,
            "grid_auto_columns": null,
            "grid_auto_flow": null,
            "grid_auto_rows": null,
            "grid_column": null,
            "grid_gap": null,
            "grid_row": null,
            "grid_template_areas": null,
            "grid_template_columns": null,
            "grid_template_rows": null,
            "height": null,
            "justify_content": null,
            "justify_items": null,
            "left": null,
            "margin": null,
            "max_height": null,
            "max_width": null,
            "min_height": null,
            "min_width": null,
            "object_fit": null,
            "object_position": null,
            "order": null,
            "overflow": null,
            "overflow_x": null,
            "overflow_y": null,
            "padding": null,
            "right": null,
            "top": null,
            "visibility": null,
            "width": null
          }
        },
        "b7f338ebf9b64d689ce46ec26f0c2996": {
          "model_module": "@jupyter-widgets/base",
          "model_module_version": "1.2.0",
          "model_name": "LayoutModel",
          "state": {
            "_model_module": "@jupyter-widgets/base",
            "_model_module_version": "1.2.0",
            "_model_name": "LayoutModel",
            "_view_count": null,
            "_view_module": "@jupyter-widgets/base",
            "_view_module_version": "1.2.0",
            "_view_name": "LayoutView",
            "align_content": null,
            "align_items": null,
            "align_self": null,
            "border": null,
            "bottom": null,
            "display": null,
            "flex": null,
            "flex_flow": null,
            "grid_area": null,
            "grid_auto_columns": null,
            "grid_auto_flow": null,
            "grid_auto_rows": null,
            "grid_column": null,
            "grid_gap": null,
            "grid_row": null,
            "grid_template_areas": null,
            "grid_template_columns": null,
            "grid_template_rows": null,
            "height": null,
            "justify_content": null,
            "justify_items": null,
            "left": null,
            "margin": null,
            "max_height": null,
            "max_width": null,
            "min_height": null,
            "min_width": null,
            "object_fit": null,
            "object_position": null,
            "order": null,
            "overflow": null,
            "overflow_x": null,
            "overflow_y": null,
            "padding": null,
            "right": null,
            "top": null,
            "visibility": null,
            "width": null
          }
        },
        "ba9579e162574ab097e872e8a91791ee": {
          "model_module": "@jupyter-widgets/controls",
          "model_module_version": "1.5.0",
          "model_name": "HBoxModel",
          "state": {
            "_dom_classes": [],
            "_model_module": "@jupyter-widgets/controls",
            "_model_module_version": "1.5.0",
            "_model_name": "HBoxModel",
            "_view_count": null,
            "_view_module": "@jupyter-widgets/controls",
            "_view_module_version": "1.5.0",
            "_view_name": "HBoxView",
            "box_style": "",
            "children": [
              "IPY_MODEL_3a321e1482704cdc9257018a6cca6265",
              "IPY_MODEL_036fe75b89ba48738a2be78cb266550b",
              "IPY_MODEL_841b034482fe42f89f82d7115a9956fc"
            ],
            "layout": "IPY_MODEL_bbb83053a1af468483b6f72331197948"
          }
        },
        "bbb83053a1af468483b6f72331197948": {
          "model_module": "@jupyter-widgets/base",
          "model_module_version": "1.2.0",
          "model_name": "LayoutModel",
          "state": {
            "_model_module": "@jupyter-widgets/base",
            "_model_module_version": "1.2.0",
            "_model_name": "LayoutModel",
            "_view_count": null,
            "_view_module": "@jupyter-widgets/base",
            "_view_module_version": "1.2.0",
            "_view_name": "LayoutView",
            "align_content": null,
            "align_items": null,
            "align_self": null,
            "border": null,
            "bottom": null,
            "display": null,
            "flex": null,
            "flex_flow": null,
            "grid_area": null,
            "grid_auto_columns": null,
            "grid_auto_flow": null,
            "grid_auto_rows": null,
            "grid_column": null,
            "grid_gap": null,
            "grid_row": null,
            "grid_template_areas": null,
            "grid_template_columns": null,
            "grid_template_rows": null,
            "height": null,
            "justify_content": null,
            "justify_items": null,
            "left": null,
            "margin": null,
            "max_height": null,
            "max_width": null,
            "min_height": null,
            "min_width": null,
            "object_fit": null,
            "object_position": null,
            "order": null,
            "overflow": null,
            "overflow_x": null,
            "overflow_y": null,
            "padding": null,
            "right": null,
            "top": null,
            "visibility": null,
            "width": null
          }
        },
        "bc0f9c3ad0f74a5d8d1625063a538283": {
          "model_module": "@jupyter-widgets/controls",
          "model_module_version": "1.5.0",
          "model_name": "HTMLModel",
          "state": {
            "_dom_classes": [],
            "_model_module": "@jupyter-widgets/controls",
            "_model_module_version": "1.5.0",
            "_model_name": "HTMLModel",
            "_view_count": null,
            "_view_module": "@jupyter-widgets/controls",
            "_view_module_version": "1.5.0",
            "_view_name": "HTMLView",
            "description": "",
            "description_tooltip": null,
            "layout": "IPY_MODEL_e02cd41b4c8e4505b4f91925efc0540c",
            "placeholder": "​",
            "style": "IPY_MODEL_c6027d8199514c62ace814fd9f103ab9",
            "value": " 434k/? [00:00&lt;00:00, 13.1MB/s]"
          }
        },
        "bd9b73379ebd4498a97468879693e9be": {
          "model_module": "@jupyter-widgets/controls",
          "model_module_version": "1.5.0",
          "model_name": "DescriptionStyleModel",
          "state": {
            "_model_module": "@jupyter-widgets/controls",
            "_model_module_version": "1.5.0",
            "_model_name": "DescriptionStyleModel",
            "_view_count": null,
            "_view_module": "@jupyter-widgets/base",
            "_view_module_version": "1.2.0",
            "_view_name": "StyleView",
            "description_width": ""
          }
        },
        "c3f405be35f7488993bb2dde63a73ed5": {
          "model_module": "@jupyter-widgets/base",
          "model_module_version": "1.2.0",
          "model_name": "LayoutModel",
          "state": {
            "_model_module": "@jupyter-widgets/base",
            "_model_module_version": "1.2.0",
            "_model_name": "LayoutModel",
            "_view_count": null,
            "_view_module": "@jupyter-widgets/base",
            "_view_module_version": "1.2.0",
            "_view_name": "LayoutView",
            "align_content": null,
            "align_items": null,
            "align_self": null,
            "border": null,
            "bottom": null,
            "display": null,
            "flex": null,
            "flex_flow": null,
            "grid_area": null,
            "grid_auto_columns": null,
            "grid_auto_flow": null,
            "grid_auto_rows": null,
            "grid_column": null,
            "grid_gap": null,
            "grid_row": null,
            "grid_template_areas": null,
            "grid_template_columns": null,
            "grid_template_rows": null,
            "height": null,
            "justify_content": null,
            "justify_items": null,
            "left": null,
            "margin": null,
            "max_height": null,
            "max_width": null,
            "min_height": null,
            "min_width": null,
            "object_fit": null,
            "object_position": null,
            "order": null,
            "overflow": null,
            "overflow_x": null,
            "overflow_y": null,
            "padding": null,
            "right": null,
            "top": null,
            "visibility": null,
            "width": null
          }
        },
        "c489418f3cbf42d68a1e9a4093f01b30": {
          "model_module": "@jupyter-widgets/controls",
          "model_module_version": "1.5.0",
          "model_name": "FloatProgressModel",
          "state": {
            "_dom_classes": [],
            "_model_module": "@jupyter-widgets/controls",
            "_model_module_version": "1.5.0",
            "_model_name": "FloatProgressModel",
            "_view_count": null,
            "_view_module": "@jupyter-widgets/controls",
            "_view_module_version": "1.5.0",
            "_view_name": "ProgressView",
            "bar_style": "success",
            "description": "",
            "description_tooltip": null,
            "layout": "IPY_MODEL_0c427dec66274d7c8d9f81605baf88f0",
            "max": 1,
            "min": 0,
            "orientation": "horizontal",
            "style": "IPY_MODEL_e4cfc72a65d84cd981351e7a9b4e2ff8",
            "value": 1
          }
        },
        "c6027d8199514c62ace814fd9f103ab9": {
          "model_module": "@jupyter-widgets/controls",
          "model_module_version": "1.5.0",
          "model_name": "DescriptionStyleModel",
          "state": {
            "_model_module": "@jupyter-widgets/controls",
            "_model_module_version": "1.5.0",
            "_model_name": "DescriptionStyleModel",
            "_view_count": null,
            "_view_module": "@jupyter-widgets/base",
            "_view_module_version": "1.2.0",
            "_view_name": "StyleView",
            "description_width": ""
          }
        },
        "c69148527a664c739eeca514c5e02019": {
          "model_module": "@jupyter-widgets/controls",
          "model_module_version": "1.5.0",
          "model_name": "DescriptionStyleModel",
          "state": {
            "_model_module": "@jupyter-widgets/controls",
            "_model_module_version": "1.5.0",
            "_model_name": "DescriptionStyleModel",
            "_view_count": null,
            "_view_module": "@jupyter-widgets/base",
            "_view_module_version": "1.2.0",
            "_view_name": "StyleView",
            "description_width": ""
          }
        },
        "c7beac449b12491c8eb54b5231ee7e90": {
          "model_module": "@jupyter-widgets/base",
          "model_module_version": "1.2.0",
          "model_name": "LayoutModel",
          "state": {
            "_model_module": "@jupyter-widgets/base",
            "_model_module_version": "1.2.0",
            "_model_name": "LayoutModel",
            "_view_count": null,
            "_view_module": "@jupyter-widgets/base",
            "_view_module_version": "1.2.0",
            "_view_name": "LayoutView",
            "align_content": null,
            "align_items": null,
            "align_self": null,
            "border": null,
            "bottom": null,
            "display": null,
            "flex": null,
            "flex_flow": null,
            "grid_area": null,
            "grid_auto_columns": null,
            "grid_auto_flow": null,
            "grid_auto_rows": null,
            "grid_column": null,
            "grid_gap": null,
            "grid_row": null,
            "grid_template_areas": null,
            "grid_template_columns": null,
            "grid_template_rows": null,
            "height": null,
            "justify_content": null,
            "justify_items": null,
            "left": null,
            "margin": null,
            "max_height": null,
            "max_width": null,
            "min_height": null,
            "min_width": null,
            "object_fit": null,
            "object_position": null,
            "order": null,
            "overflow": null,
            "overflow_x": null,
            "overflow_y": null,
            "padding": null,
            "right": null,
            "top": null,
            "visibility": null,
            "width": null
          }
        },
        "ca01a2405ae34649a01de0289a8aab99": {
          "model_module": "@jupyter-widgets/controls",
          "model_module_version": "1.5.0",
          "model_name": "DescriptionStyleModel",
          "state": {
            "_model_module": "@jupyter-widgets/controls",
            "_model_module_version": "1.5.0",
            "_model_name": "DescriptionStyleModel",
            "_view_count": null,
            "_view_module": "@jupyter-widgets/base",
            "_view_module_version": "1.2.0",
            "_view_name": "StyleView",
            "description_width": ""
          }
        },
        "cfca4b12ab6d412485c8c2bc4fa56e77": {
          "model_module": "@jupyter-widgets/controls",
          "model_module_version": "1.5.0",
          "model_name": "DescriptionStyleModel",
          "state": {
            "_model_module": "@jupyter-widgets/controls",
            "_model_module_version": "1.5.0",
            "_model_name": "DescriptionStyleModel",
            "_view_count": null,
            "_view_module": "@jupyter-widgets/base",
            "_view_module_version": "1.2.0",
            "_view_name": "StyleView",
            "description_width": ""
          }
        },
        "d15f9f58ee044d38a97ec19a440f9dcf": {
          "model_module": "@jupyter-widgets/controls",
          "model_module_version": "1.5.0",
          "model_name": "DescriptionStyleModel",
          "state": {
            "_model_module": "@jupyter-widgets/controls",
            "_model_module_version": "1.5.0",
            "_model_name": "DescriptionStyleModel",
            "_view_count": null,
            "_view_module": "@jupyter-widgets/base",
            "_view_module_version": "1.2.0",
            "_view_name": "StyleView",
            "description_width": ""
          }
        },
        "d16fb6b9124f458d878b49863c676a97": {
          "model_module": "@jupyter-widgets/controls",
          "model_module_version": "1.5.0",
          "model_name": "HTMLModel",
          "state": {
            "_dom_classes": [],
            "_model_module": "@jupyter-widgets/controls",
            "_model_module_version": "1.5.0",
            "_model_name": "HTMLModel",
            "_view_count": null,
            "_view_module": "@jupyter-widgets/controls",
            "_view_module_version": "1.5.0",
            "_view_name": "HTMLView",
            "description": "",
            "description_tooltip": null,
            "layout": "IPY_MODEL_9428de496afc40f4ba1642cdc335ff42",
            "placeholder": "​",
            "style": "IPY_MODEL_b69b831cbb8248268cdb127d11a38d53",
            "value": " 134/134 [00:00&lt;00:00, 13.7kB/s]"
          }
        },
        "d25442b7a2e244ecacaea001d79b12a4": {
          "model_module": "@jupyter-widgets/base",
          "model_module_version": "1.2.0",
          "model_name": "LayoutModel",
          "state": {
            "_model_module": "@jupyter-widgets/base",
            "_model_module_version": "1.2.0",
            "_model_name": "LayoutModel",
            "_view_count": null,
            "_view_module": "@jupyter-widgets/base",
            "_view_module_version": "1.2.0",
            "_view_name": "LayoutView",
            "align_content": null,
            "align_items": null,
            "align_self": null,
            "border": null,
            "bottom": null,
            "display": null,
            "flex": null,
            "flex_flow": null,
            "grid_area": null,
            "grid_auto_columns": null,
            "grid_auto_flow": null,
            "grid_auto_rows": null,
            "grid_column": null,
            "grid_gap": null,
            "grid_row": null,
            "grid_template_areas": null,
            "grid_template_columns": null,
            "grid_template_rows": null,
            "height": null,
            "justify_content": null,
            "justify_items": null,
            "left": null,
            "margin": null,
            "max_height": null,
            "max_width": null,
            "min_height": null,
            "min_width": null,
            "object_fit": null,
            "object_position": null,
            "order": null,
            "overflow": null,
            "overflow_x": null,
            "overflow_y": null,
            "padding": null,
            "right": null,
            "top": null,
            "visibility": null,
            "width": null
          }
        },
        "dedad397cd3949169c1152f1254881da": {
          "model_module": "@jupyter-widgets/base",
          "model_module_version": "1.2.0",
          "model_name": "LayoutModel",
          "state": {
            "_model_module": "@jupyter-widgets/base",
            "_model_module_version": "1.2.0",
            "_model_name": "LayoutModel",
            "_view_count": null,
            "_view_module": "@jupyter-widgets/base",
            "_view_module_version": "1.2.0",
            "_view_name": "LayoutView",
            "align_content": null,
            "align_items": null,
            "align_self": null,
            "border": null,
            "bottom": null,
            "display": null,
            "flex": null,
            "flex_flow": null,
            "grid_area": null,
            "grid_auto_columns": null,
            "grid_auto_flow": null,
            "grid_auto_rows": null,
            "grid_column": null,
            "grid_gap": null,
            "grid_row": null,
            "grid_template_areas": null,
            "grid_template_columns": null,
            "grid_template_rows": null,
            "height": null,
            "justify_content": null,
            "justify_items": null,
            "left": null,
            "margin": null,
            "max_height": null,
            "max_width": null,
            "min_height": null,
            "min_width": null,
            "object_fit": null,
            "object_position": null,
            "order": null,
            "overflow": null,
            "overflow_x": null,
            "overflow_y": null,
            "padding": null,
            "right": null,
            "top": null,
            "visibility": null,
            "width": null
          }
        },
        "e02cd41b4c8e4505b4f91925efc0540c": {
          "model_module": "@jupyter-widgets/base",
          "model_module_version": "1.2.0",
          "model_name": "LayoutModel",
          "state": {
            "_model_module": "@jupyter-widgets/base",
            "_model_module_version": "1.2.0",
            "_model_name": "LayoutModel",
            "_view_count": null,
            "_view_module": "@jupyter-widgets/base",
            "_view_module_version": "1.2.0",
            "_view_name": "LayoutView",
            "align_content": null,
            "align_items": null,
            "align_self": null,
            "border": null,
            "bottom": null,
            "display": null,
            "flex": null,
            "flex_flow": null,
            "grid_area": null,
            "grid_auto_columns": null,
            "grid_auto_flow": null,
            "grid_auto_rows": null,
            "grid_column": null,
            "grid_gap": null,
            "grid_row": null,
            "grid_template_areas": null,
            "grid_template_columns": null,
            "grid_template_rows": null,
            "height": null,
            "justify_content": null,
            "justify_items": null,
            "left": null,
            "margin": null,
            "max_height": null,
            "max_width": null,
            "min_height": null,
            "min_width": null,
            "object_fit": null,
            "object_position": null,
            "order": null,
            "overflow": null,
            "overflow_x": null,
            "overflow_y": null,
            "padding": null,
            "right": null,
            "top": null,
            "visibility": null,
            "width": null
          }
        },
        "e3a6b7cf36274b54af7806e9f759aa27": {
          "model_module": "@jupyter-widgets/controls",
          "model_module_version": "1.5.0",
          "model_name": "DescriptionStyleModel",
          "state": {
            "_model_module": "@jupyter-widgets/controls",
            "_model_module_version": "1.5.0",
            "_model_name": "DescriptionStyleModel",
            "_view_count": null,
            "_view_module": "@jupyter-widgets/base",
            "_view_module_version": "1.2.0",
            "_view_name": "StyleView",
            "description_width": ""
          }
        },
        "e4cfc72a65d84cd981351e7a9b4e2ff8": {
          "model_module": "@jupyter-widgets/controls",
          "model_module_version": "1.5.0",
          "model_name": "ProgressStyleModel",
          "state": {
            "_model_module": "@jupyter-widgets/controls",
            "_model_module_version": "1.5.0",
            "_model_name": "ProgressStyleModel",
            "_view_count": null,
            "_view_module": "@jupyter-widgets/base",
            "_view_module_version": "1.2.0",
            "_view_name": "StyleView",
            "bar_color": null,
            "description_width": ""
          }
        },
        "ec63b49449cd4ecf9fa5ed4284cf4941": {
          "model_module": "@jupyter-widgets/base",
          "model_module_version": "1.2.0",
          "model_name": "LayoutModel",
          "state": {
            "_model_module": "@jupyter-widgets/base",
            "_model_module_version": "1.2.0",
            "_model_name": "LayoutModel",
            "_view_count": null,
            "_view_module": "@jupyter-widgets/base",
            "_view_module_version": "1.2.0",
            "_view_name": "LayoutView",
            "align_content": null,
            "align_items": null,
            "align_self": null,
            "border": null,
            "bottom": null,
            "display": null,
            "flex": null,
            "flex_flow": null,
            "grid_area": null,
            "grid_auto_columns": null,
            "grid_auto_flow": null,
            "grid_auto_rows": null,
            "grid_column": null,
            "grid_gap": null,
            "grid_row": null,
            "grid_template_areas": null,
            "grid_template_columns": null,
            "grid_template_rows": null,
            "height": null,
            "justify_content": null,
            "justify_items": null,
            "left": null,
            "margin": null,
            "max_height": null,
            "max_width": null,
            "min_height": null,
            "min_width": null,
            "object_fit": null,
            "object_position": null,
            "order": null,
            "overflow": null,
            "overflow_x": null,
            "overflow_y": null,
            "padding": null,
            "right": null,
            "top": null,
            "visibility": null,
            "width": null
          }
        },
        "ec662d2109d14379a23f5dafb23da6f7": {
          "model_module": "@jupyter-widgets/controls",
          "model_module_version": "1.5.0",
          "model_name": "HBoxModel",
          "state": {
            "_dom_classes": [],
            "_model_module": "@jupyter-widgets/controls",
            "_model_module_version": "1.5.0",
            "_model_name": "HBoxModel",
            "_view_count": null,
            "_view_module": "@jupyter-widgets/controls",
            "_view_module_version": "1.5.0",
            "_view_name": "HBoxView",
            "box_style": "",
            "children": [
              "IPY_MODEL_3755dc5575654854a95c61a5eece3568",
              "IPY_MODEL_237b9ddd459a4c1aa54ed5d238f06151",
              "IPY_MODEL_bc0f9c3ad0f74a5d8d1625063a538283"
            ],
            "layout": "IPY_MODEL_aaa85327ba1e42799deb04124f8ad18b"
          }
        },
        "f1fbd6a1f6144c7ab710b013a60b8885": {
          "model_module": "@jupyter-widgets/base",
          "model_module_version": "1.2.0",
          "model_name": "LayoutModel",
          "state": {
            "_model_module": "@jupyter-widgets/base",
            "_model_module_version": "1.2.0",
            "_model_name": "LayoutModel",
            "_view_count": null,
            "_view_module": "@jupyter-widgets/base",
            "_view_module_version": "1.2.0",
            "_view_name": "LayoutView",
            "align_content": null,
            "align_items": null,
            "align_self": null,
            "border": null,
            "bottom": null,
            "display": null,
            "flex": null,
            "flex_flow": null,
            "grid_area": null,
            "grid_auto_columns": null,
            "grid_auto_flow": null,
            "grid_auto_rows": null,
            "grid_column": null,
            "grid_gap": null,
            "grid_row": null,
            "grid_template_areas": null,
            "grid_template_columns": null,
            "grid_template_rows": null,
            "height": null,
            "justify_content": null,
            "justify_items": null,
            "left": null,
            "margin": null,
            "max_height": null,
            "max_width": null,
            "min_height": null,
            "min_width": null,
            "object_fit": null,
            "object_position": null,
            "order": null,
            "overflow": null,
            "overflow_x": null,
            "overflow_y": null,
            "padding": null,
            "right": null,
            "top": null,
            "visibility": null,
            "width": null
          }
        },
        "facdcdb1ce2842b0a43b8d28e0ed717a": {
          "model_module": "@jupyter-widgets/base",
          "model_module_version": "1.2.0",
          "model_name": "LayoutModel",
          "state": {
            "_model_module": "@jupyter-widgets/base",
            "_model_module_version": "1.2.0",
            "_model_name": "LayoutModel",
            "_view_count": null,
            "_view_module": "@jupyter-widgets/base",
            "_view_module_version": "1.2.0",
            "_view_name": "LayoutView",
            "align_content": null,
            "align_items": null,
            "align_self": null,
            "border": null,
            "bottom": null,
            "display": null,
            "flex": null,
            "flex_flow": null,
            "grid_area": null,
            "grid_auto_columns": null,
            "grid_auto_flow": null,
            "grid_auto_rows": null,
            "grid_column": null,
            "grid_gap": null,
            "grid_row": null,
            "grid_template_areas": null,
            "grid_template_columns": null,
            "grid_template_rows": null,
            "height": null,
            "justify_content": null,
            "justify_items": null,
            "left": null,
            "margin": null,
            "max_height": null,
            "max_width": null,
            "min_height": null,
            "min_width": null,
            "object_fit": null,
            "object_position": null,
            "order": null,
            "overflow": null,
            "overflow_x": null,
            "overflow_y": null,
            "padding": null,
            "right": null,
            "top": null,
            "visibility": null,
            "width": null
          }
        }
      }
    }
  },
  "nbformat": 4,
  "nbformat_minor": 0
}
